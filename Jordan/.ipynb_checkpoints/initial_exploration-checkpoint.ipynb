{
 "cells": [
  {
   "cell_type": "markdown",
   "metadata": {},
   "source": [
    "# Initial Data Exploration\n",
    "\n",
    "Meant to provide some elementary visualisation, and to prepare for cleaning prior to using ML algos. \n",
    "\n",
    "*Author*: Jordan Giebas"
   ]
  },
  {
   "cell_type": "code",
   "execution_count": 63,
   "metadata": {},
   "outputs": [],
   "source": [
    "%matplotlib inline\n",
    "import pandas as pd\n",
    "import numpy as np\n",
    "import matplotlib.pyplot as plt\n",
    "import seaborn as sns; sns.set()\n",
    "\n",
    "from scipy.stats import pearsonr"
   ]
  },
  {
   "cell_type": "markdown",
   "metadata": {},
   "source": [
    "## *Training Data*\n",
    "\n",
    "**Summary**\n",
    "<ul>\n",
    "    <li> Our **training** data has 762,678 rows and 61 features </li>\n",
    "    <li> There are 3736 **unique** bond ids, in the training set. </li>\n",
    "    <li> There are 439351 `nan` values in our training data </li>\n",
    "    <li> The correlation between `bond_id` and `trade_price` is $-0.20134$ </li>\n",
    "    <li> There are some `bond_id`s without 10 instances </li>\n",
    "    <ul>\n",
    "        <li> 594 `bond_id`s dropped due to less than 10 instances </li>\n",
    "        <li> 2987 total rows insufficient data for ARMA </li>\n",
    "    </ul>\n",
    "\n",
    "**Variables**\n",
    "<ul>\n",
    "    <li> `train_data`: dataframe from 'train.csv' </li>\n",
    "    <li> `bond_ids`: np.array of all bond_ids </li>\n",
    "    <li> `bond_id_dict`: dictionary mapping `bond_id` to that `bond_id`s number of occurrences </li>\n",
    "    <li> `bond_id_df`: same as above, but in `pd.DataFrame` form</li>\n",
    "    <ul>\n",
    "        <li>`keys`: (redundant) list of keys in `bond_id_dict`</li>\n",
    "        <li>`lengths`: (redundant) list of values in `bond_id_dict`</li>\n",
    "        <li> `non_zero_indices`: (poorly named) indices where `length` is >= 10 </li>\n",
    "    </ul>\n",
    "    <li>`train_noNA`: training dataframe, no `nan` values</li>\n",
    "    <li>`bond_ids_noNA`: bond ids for `train_noNA` dataframe</li>\n",
    "    <li>`bond_id_dict_noNA`: dictionary mapping `bond_ids_noNA` to number of occurrences</li>\n",
    "    <li>`bondID_gt10_noNA`: dictionary mapping `bond_ids_noNA` to number of instances, only if there are more than ten instances </li>\n",
    "    <li>`mask_lt10`: conditional to filter based on number `bond_id` having more than ten occurrences</li>\n",
    "    <li>`final_train`: training dataframe w/ no `nan`s and `bond_id`s have more than 10 instances</li>\n",
    "    <li>`corres_row_bondID`: dictionary mapping `bond_id` to corresponding row</li>\n",
    "    <li>`row_subset`: dictionary mapping `bond_id` to subset of rows for ARMA fitting</li>"
   ]
  },
  {
   "cell_type": "code",
   "execution_count": 281,
   "metadata": {},
   "outputs": [
    {
     "data": {
      "text/plain": [
       "(762678, 61)"
      ]
     },
     "execution_count": 281,
     "metadata": {},
     "output_type": "execute_result"
    }
   ],
   "source": [
    "train_data = pd.read_csv('../shared_files/train.csv')\n",
    "train_data.shape"
   ]
  },
  {
   "cell_type": "markdown",
   "metadata": {},
   "source": [
    "**ORIGINAL TRAIN DF** some scrubbing:"
   ]
  },
  {
   "cell_type": "code",
   "execution_count": 394,
   "metadata": {},
   "outputs": [
    {
     "data": {
      "text/plain": [
       "3736"
      ]
     },
     "execution_count": 394,
     "metadata": {},
     "output_type": "execute_result"
    }
   ],
   "source": [
    "bond_ids = np.array(train_data.bond_id).tolist()\n",
    "len(set(bond_ids))"
   ]
  },
  {
   "cell_type": "code",
   "execution_count": 400,
   "metadata": {},
   "outputs": [
    {
     "data": {
      "text/plain": [
       "439351"
      ]
     },
     "execution_count": 400,
     "metadata": {},
     "output_type": "execute_result"
    }
   ],
   "source": [
    "null_arr = [train_data[col].isnull().sum() for col in train_data.columns]\n",
    "sum(null_arr)"
   ]
  },
  {
   "cell_type": "code",
   "execution_count": 399,
   "metadata": {},
   "outputs": [
    {
     "data": {
      "text/plain": [
       "-0.20134247208985537"
      ]
     },
     "execution_count": 399,
     "metadata": {},
     "output_type": "execute_result"
    }
   ],
   "source": [
    "pearsonr(np.array(train_data['bond_id']), np.array(train_data['trade_price']))[0]"
   ]
  },
  {
   "cell_type": "code",
   "execution_count": 398,
   "metadata": {},
   "outputs": [
    {
     "data": {
      "text/plain": [
       "594"
      ]
     },
     "execution_count": 398,
     "metadata": {},
     "output_type": "execute_result"
    }
   ],
   "source": [
    "series = pd.Series.from_array(bond_id_dict)\n",
    "bond_id_df = pd.DataFrame()\n",
    "bond_id_df['lengths'] = series\n",
    "bond_ids_gt10samples = np.array(bond_id_df[bond_id_df.lengths > 10].index)\n",
    "len(set(bond_ids)) - len(bond_ids_gt10samples.tolist())"
   ]
  },
  {
   "cell_type": "code",
   "execution_count": 396,
   "metadata": {},
   "outputs": [
    {
     "data": {
      "text/plain": [
       "2987"
      ]
     },
     "execution_count": 396,
     "metadata": {},
     "output_type": "execute_result"
    }
   ],
   "source": [
    "train_lt10_samples_dropped = train_data[train_data.bond_id.isin(bond_ids_gt10samples)]\n",
    "len(train_data) - len(train_lt10_samples_dropped)"
   ]
  },
  {
   "cell_type": "markdown",
   "metadata": {},
   "source": [
    "**Dropping all `nan`** Values, performing analysis on this dataframe"
   ]
  },
  {
   "cell_type": "code",
   "execution_count": 292,
   "metadata": {},
   "outputs": [],
   "source": [
    "# Drop all rows with NaN values\n",
    "train_noNA = train_data.dropna(axis=0)\n",
    "# Define list of all bond_ids (there will be duplicates)\n",
    "bond_ids_noNA = train_noNA.bond_id.tolist()"
   ]
  },
  {
   "cell_type": "code",
   "execution_count": 347,
   "metadata": {},
   "outputs": [],
   "source": [
    "# Dictionary maps bond_id to number of occurrences for that id\n",
    "bond_id_dict_noNA = {bond_id: bond_ids_noNA.count(bond_id) for bond_id in set(bond_ids_noNA)}\n",
    "bondID_gt10_noNA = {bond_id: bond_ids_noNA.count(bond_id) for bond_id in set(bond_ids_noNA) \n",
    "                    if bond_ids_noNA.count(bond_id) > 10}"
   ]
  },
  {
   "cell_type": "code",
   "execution_count": 350,
   "metadata": {},
   "outputs": [
    {
     "data": {
      "text/plain": [
       "369"
      ]
     },
     "execution_count": 350,
     "metadata": {},
     "output_type": "execute_result"
    }
   ],
   "source": [
    "len(bond_id_dict_noNA) - len(bondID_gt10_noNA)"
   ]
  },
  {
   "cell_type": "markdown",
   "metadata": {},
   "source": [
    "The above is the number of removals from not having enough instances. The keys in `bondID_gt10_noNA` are the bond ids that we must remove."
   ]
  },
  {
   "cell_type": "code",
   "execution_count": 287,
   "metadata": {},
   "outputs": [
    {
     "data": {
      "text/plain": [
       "Text(0.5,1,'Scattered')"
      ]
     },
     "execution_count": 287,
     "metadata": {},
     "output_type": "execute_result"
    },
    {
     "data": {
      "image/png": "[encoded data removed]",
      "text/plain": [
       "<Figure size 1080x540 with 2 Axes>"
      ]
     },
     "metadata": {},
     "output_type": "display_data"
    }
   ],
   "source": [
    "# Histogram / scatter plots of the above.\n",
    "fig, axs = plt.subplots(1,2)\n",
    "\n",
    "fig.set_figheight(7.5)\n",
    "fig.set_figwidth(15)\n",
    "fig.align_ylabels\n",
    "\n",
    "axs[0].hist(bond_ids_noNA, density=True, alpha=0.5, color='green')\n",
    "axs[0].set_title(\"Histogram\")\n",
    "\n",
    "axs[1].scatter(bond_id_dict_noNA.keys(), bond_id_dict_noNA.values(), alpha=0.5)\n",
    "axs[1].set_title(\"Scattered\")"
   ]
  },
  {
   "cell_type": "markdown",
   "metadata": {},
   "source": [
    "Now all of the NAs are gone, we must determine which `bond_id`s have less than 10 instances."
   ]
  },
  {
   "cell_type": "code",
   "execution_count": 332,
   "metadata": {},
   "outputs": [],
   "source": [
    "mask_lt10 = np.argwhere(np.array(bond_ids_noNA) < 10)\n",
    "mask_lt10 = mask_gt10.reshape(mask_gt10.shape[0]) ## These are the indexes of bond_ids_noNA s.t. > 10 instances"
   ]
  },
  {
   "cell_type": "code",
   "execution_count": 355,
   "metadata": {},
   "outputs": [],
   "source": [
    "# Final Train: No NaN Values, and all bond_id instances > 10\n",
    "final_train = train_noNA[train_noNA.bond_id.isin(bondID_gt10_noNA.keys())]"
   ]
  },
  {
   "cell_type": "markdown",
   "metadata": {},
   "source": [
    "The above is the number of rows that have been removed from that overall dataframe for not having a sufficient amount of `bond_id` instances."
   ]
  },
  {
   "cell_type": "code",
   "execution_count": 389,
   "metadata": {},
   "outputs": [],
   "source": [
    "# Find corresponding row numbers to bond_id\n",
    "corres_row_bondID = {k: np.array(final_train[final_train.bond_id == k].index) for k in bondID_gt10_noNA.keys()}"
   ]
  },
  {
   "cell_type": "code",
   "execution_count": 392,
   "metadata": {},
   "outputs": [],
   "source": [
    "# Generate subsets for each bond_id\n",
    "np.random.seed(0)\n",
    "def gen_subset(row):\n",
    "    return np.random.choice(row, size=10, replace=False)\n",
    "    \n",
    "row_subset = {k: gen_subset(corres_row_bondID[k]) for k in corres_row_bondID.keys()}"
   ]
  },
  {
   "cell_type": "markdown",
   "metadata": {},
   "source": [
    "## *Test Data*\n",
    "\n",
    "**Summary**\n",
    "<ul>\n",
    "    <li> Our **testing** data has 61,146 rows and 59 features - **two less features than our training set** </li>\n",
    "    <li> The missing features are *bond_id* and *trade_price* </li>\n",
    "    <li> There are 439351 `nan` values in the test data </li>"
   ]
  },
  {
   "cell_type": "code",
   "execution_count": 18,
   "metadata": {},
   "outputs": [],
   "source": [
    "test_data = pd.read_csv('../shared_files/test.csv')\n",
    "test_data.shape"
   ]
  },
  {
   "cell_type": "code",
   "execution_count": 60,
   "metadata": {},
   "outputs": [
    {
     "data": {
      "text/plain": [
       "array(['bond_id', 'trade_price'], dtype=object)"
      ]
     },
     "execution_count": 60,
     "metadata": {},
     "output_type": "execute_result"
    }
   ],
   "source": [
    "np.setdiff1d(np.array(train_data.columns), np.array(test_data.columns))"
   ]
  },
  {
   "cell_type": "markdown",
   "metadata": {},
   "source": [
    "## Let's try to fit an ARMA"
   ]
  },
  {
   "cell_type": "code",
   "execution_count": 54,
   "metadata": {},
   "outputs": [],
   "source": [
    "from statsmodels.tsa.arima_model import ARIMA"
   ]
  },
  {
   "cell_type": "markdown",
   "metadata": {},
   "source": [
    "Let's store the row numbers corresponding to each bond_id "
   ]
  },
  {
   "cell_type": "markdown",
   "metadata": {},
   "source": [
    "Okay, I was thinking about this the wrong way. What I was thinking was: <br>\n",
    "\n",
    "Suppose bond_id = 1 has 50 rows, randomly sample (w/out replacement) 10 of those rows fit an ARMA to each, and then average the coefficients to provide significant estimates. **However**, <br>\n",
    "\n",
    "Notice that each row has 10 lagged periods, I think this is what the paper means by \"estimate an ARMA(1,1) for 10 samples of each bond type\" <br>\n",
    "\n",
    "Hence, we should fit an ARMA for nearly every row, but grouping by bond_id. "
   ]
  },
  {
   "cell_type": "code",
   "execution_count": 57,
   "metadata": {
    "scrolled": true
   },
   "outputs": [
    {
     "data": {
      "image/png": "[encoded data removed]",
      "text/plain": [
       "<Figure size 432x432 with 3 Axes>"
      ]
     },
     "metadata": {},
     "output_type": "display_data"
    }
   ],
   "source": [
    "with sns.axes_style('white'):\n",
    "    sns.jointplot(\"bond_id\", \"trade_price\", train_lt10_samples_dropped, kind='kde');"
   ]
  },
  {
   "cell_type": "code",
   "execution_count": null,
   "metadata": {},
   "outputs": [],
   "source": []
  },
  {
   "cell_type": "code",
   "execution_count": null,
   "metadata": {},
   "outputs": [],
   "source": []
  },
  {
   "cell_type": "code",
   "execution_count": null,
   "metadata": {},
   "outputs": [],
   "source": []
  },
  {
   "cell_type": "code",
   "execution_count": null,
   "metadata": {},
   "outputs": [],
   "source": []
  },
  {
   "cell_type": "code",
   "execution_count": null,
   "metadata": {},
   "outputs": [],
   "source": []
  },
  {
   "cell_type": "code",
   "execution_count": null,
   "metadata": {},
   "outputs": [],
   "source": []
  },
  {
   "cell_type": "code",
   "execution_count": null,
   "metadata": {},
   "outputs": [],
   "source": []
  },
  {
   "cell_type": "code",
   "execution_count": null,
   "metadata": {},
   "outputs": [],
   "source": []
  }
 ],
 "metadata": {
  "kernelspec": {
   "display_name": "Python 3",
   "language": "python",
   "name": "python3"
  },
  "language_info": {
   "codemirror_mode": {
    "name": "ipython",
    "version": 3
   },
   "file_extension": ".py",
   "mimetype": "text/x-python",
   "name": "python",
   "nbconvert_exporter": "python",
   "pygments_lexer": "ipython3",
   "version": "3.6.3"
  }
 },
 "nbformat": 4,
 "nbformat_minor": 2
}
