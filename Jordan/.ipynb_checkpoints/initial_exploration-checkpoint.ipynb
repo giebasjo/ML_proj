{
 "cells": [
  {
   "cell_type": "markdown",
   "metadata": {},
   "source": [
    "# Initial Data Exploration\n",
    "\n",
    "Meant to provide some elementary visualisation, and to prepare for cleaning prior to using ML algos. \n",
    "\n",
    "*Author*: Jordan Giebas"
   ]
  },
  {
   "cell_type": "code",
   "execution_count": 1,
   "metadata": {},
   "outputs": [
    {
     "name": "stderr",
     "output_type": "stream",
     "text": [
      "/Users/jordangiebas/miniconda3/lib/python3.6/site-packages/statsmodels/compat/pandas.py:56: FutureWarning: The pandas.core.datetools module is deprecated and will be removed in a future version. Please use the pandas.tseries module instead.\n",
      "  from pandas.core import datetools\n"
     ]
    }
   ],
   "source": [
    "%matplotlib inline\n",
    "import pandas as pd\n",
    "import numpy as np\n",
    "import matplotlib.pyplot as plt\n",
    "import seaborn as sns; sns.set()\n",
    "\n",
    "# Metrics\n",
    "from scipy.stats import pearsonr\n",
    "from sklearn.metrics import mean_squared_error\n",
    "\n",
    "# ML Algos\n",
    "from sklearn.linear_model import LinearRegression\n",
    "from sklearn.ensemble import RandomForestRegressor\n",
    "from statsmodels.tsa.arima_model import ARIMA"
   ]
  },
  {
   "cell_type": "markdown",
   "metadata": {},
   "source": [
    "## Summary\n",
    "\n",
    "**Complete Data**\n",
    "<ul>\n",
    "    <li> Our **complete** data has 762,678 rows and 61 features </li>\n",
    "    <li> There are 3736 **unique** bond ids, in the **complete** set. </li>\n",
    "    <li> There are 439351 `nan` values in our **complete** data </li>\n",
    "    <li> The correlation between `bond_id` and `trade_price` is $-0.20134$ </li>\n",
    "    <li> There are some `bond_id`s without 25 instances </li>\n",
    "    <ul>\n",
    "        <li> 1114 `bond_id`s dropped due to less than 25 instances </li>\n",
    "        <li> 12085 total rows insufficient data for ARMA </li>\n",
    "    </ul>\n",
    "</ul>\n",
    "\n",
    "**Training Data**\n",
    "<ul>\n",
    "    <li>513582 observations</li>\n",
    "    <li>61 features</li>\n",
    "</ul>\n",
    "\n",
    "**Test1 Data**\n",
    "<ul>\n",
    "    <li>110272 observations</li>\n",
    "    <li>61 features</li>\n",
    "</ul>\n",
    "\n",
    "**Test2 Data**\n",
    "<ul>\n",
    "    <li>513582 observations</li>\n",
    "    <li>111468 features</li>\n",
    "</ul>\n",
    "\n",
    "\n",
    "**Variables**\n",
    "<ul>\n",
    "    <li> `complete_data`: (all data) dataframe from 'train.csv' </li>\n",
    "    <li> `bond_ids`: np.array of all bond_ids </li>\n",
    "    <li> `bond_id_dict`: dictionary mapping `bond_id` to that `bond_id`s number of occurrences </li>\n",
    "    <li> `bond_id_df`: same as above, but in `pd.DataFrame` form</li>\n",
    "    <li> `train_noNA`: `complete_data` with all `nans` dropped </li>\n",
    "    <li> `bond_ids_noNA`: bond ids for `train_noNA` dataframe</li>\n",
    "    <li> `bond_id_dict_noNA`: dictionary mapping `bond_ids_noNA` to number of occurrences</li>\n",
    "    <li> `bondID_gt25_noNA`: dictionary mapping `bond_ids_noNA` to number of instances, only if there are more than 25 instances </li>\n",
    "    <li> `clean_data`: dataframe w/ no `nan`s and `bond_id`s have more than 25 instances</li>\n",
    "    <li> `train_df`: dataframe containing first 70% of `clean_data`, stratified by `bond_id` </li>\n",
    "    <li> `test1_df`: dataframe containing middle 15% of `clean_data`, stratified by `bond_id` </li>\n",
    "    <li> `test2_df`: dataframe containing last 15% of `clean_data`, stratified by `bond_id` </li>\n",
    "</ul>"
   ]
  },
  {
   "cell_type": "code",
   "execution_count": 2,
   "metadata": {},
   "outputs": [
    {
     "data": {
      "text/plain": [
       "(762678, 61)"
      ]
     },
     "execution_count": 2,
     "metadata": {},
     "output_type": "execute_result"
    }
   ],
   "source": [
    "complete_data = pd.read_csv('../shared_files/train.csv')\n",
    "complete_data.shape"
   ]
  },
  {
   "cell_type": "markdown",
   "metadata": {},
   "source": [
    "**ORIGINAL TRAIN DF** <br>\n",
    "some scrubbing:"
   ]
  },
  {
   "cell_type": "code",
   "execution_count": 3,
   "metadata": {},
   "outputs": [
    {
     "data": {
      "text/plain": [
       "3736"
      ]
     },
     "execution_count": 3,
     "metadata": {},
     "output_type": "execute_result"
    }
   ],
   "source": [
    "bond_ids = np.array(complete_data.bond_id).tolist()\n",
    "len(set(bond_ids))"
   ]
  },
  {
   "cell_type": "code",
   "execution_count": 4,
   "metadata": {},
   "outputs": [
    {
     "data": {
      "text/plain": [
       "439351"
      ]
     },
     "execution_count": 4,
     "metadata": {},
     "output_type": "execute_result"
    }
   ],
   "source": [
    "null_arr = [complete_data[col].isnull().sum() for col in complete_data.columns]\n",
    "sum(null_arr)"
   ]
  },
  {
   "cell_type": "code",
   "execution_count": 5,
   "metadata": {},
   "outputs": [
    {
     "data": {
      "text/plain": [
       "-0.20134247208985537"
      ]
     },
     "execution_count": 5,
     "metadata": {},
     "output_type": "execute_result"
    }
   ],
   "source": [
    "pearsonr(np.array(complete_data['bond_id']), np.array(complete_data['trade_price']))[0]"
   ]
  },
  {
   "cell_type": "code",
   "execution_count": 6,
   "metadata": {},
   "outputs": [],
   "source": [
    "bond_id_dict = {bond_id: bond_ids.count(bond_id) for bond_id in set(bond_ids)}"
   ]
  },
  {
   "cell_type": "code",
   "execution_count": 7,
   "metadata": {},
   "outputs": [
    {
     "data": {
      "text/plain": [
       "1114"
      ]
     },
     "execution_count": 7,
     "metadata": {},
     "output_type": "execute_result"
    }
   ],
   "source": [
    "series = pd.Series.from_array(bond_id_dict)\n",
    "bond_id_df = pd.DataFrame()\n",
    "bond_id_df['lengths'] = series\n",
    "bond_ids_gt25samples = np.array(bond_id_df[bond_id_df.lengths > 25].index)\n",
    "len(set(bond_ids)) - len(bond_ids_gt25samples.tolist())"
   ]
  },
  {
   "cell_type": "code",
   "execution_count": 8,
   "metadata": {},
   "outputs": [
    {
     "data": {
      "text/plain": [
       "12085"
      ]
     },
     "execution_count": 8,
     "metadata": {},
     "output_type": "execute_result"
    }
   ],
   "source": [
    "train_lt25_samples_dropped = complete_data[complete_data.bond_id.isin(bond_ids_gt25samples)]\n",
    "len(complete_data) - len(train_lt25_samples_dropped)"
   ]
  },
  {
   "cell_type": "markdown",
   "metadata": {},
   "source": [
    "**Dropping all `nan`** Values, performing analysis on this dataframe"
   ]
  },
  {
   "cell_type": "code",
   "execution_count": 9,
   "metadata": {},
   "outputs": [],
   "source": [
    "# Drop all rows with NaN values\n",
    "train_noNA = complete_data.dropna(axis=0)\n",
    "# Define list of all bond_ids (there will be duplicates)\n",
    "bond_ids_noNA = complete_data.bond_id.tolist()"
   ]
  },
  {
   "cell_type": "code",
   "execution_count": 10,
   "metadata": {},
   "outputs": [],
   "source": [
    "# Dictionary maps bond_id to number of occurrences for that id\n",
    "bond_id_dict_noNA = {bond_id: bond_ids_noNA.count(bond_id) for bond_id in set(bond_ids_noNA)}\n",
    "bondID_gt25_noNA = {bond_id: bond_ids_noNA.count(bond_id) for bond_id in set(bond_ids_noNA) if bond_ids_noNA.count(bond_id) > 25}"
   ]
  },
  {
   "cell_type": "code",
   "execution_count": 11,
   "metadata": {},
   "outputs": [
    {
     "data": {
      "text/plain": [
       "1114"
      ]
     },
     "execution_count": 11,
     "metadata": {},
     "output_type": "execute_result"
    }
   ],
   "source": [
    "len(bond_id_dict_noNA) - len(bondID_gt25_noNA)"
   ]
  },
  {
   "cell_type": "markdown",
   "metadata": {},
   "source": [
    "The above is the number of removals from not having enough instances. The keys in `bondID_gt25_noNA` are the bond ids that we must remove."
   ]
  },
  {
   "cell_type": "code",
   "execution_count": 12,
   "metadata": {},
   "outputs": [
    {
     "data": {
      "text/plain": [
       "Text(0.5,1,'Scattered')"
      ]
     },
     "execution_count": 12,
     "metadata": {},
     "output_type": "execute_result"
    },
    {
     "data": {
      "image/png": "[encoded data removed]",
      "text/plain": [
       "<Figure size 1080x540 with 2 Axes>"
      ]
     },
     "metadata": {},
     "output_type": "display_data"
    }
   ],
   "source": [
    "# Histogram / scatter plots of the above.\n",
    "fig, axs = plt.subplots(1,2)\n",
    "\n",
    "fig.set_figheight(7.5)\n",
    "fig.set_figwidth(15)\n",
    "fig.align_ylabels\n",
    "\n",
    "axs[0].hist(bond_ids_noNA, density=True, alpha=0.5, color='green')\n",
    "axs[0].set_title(\"Histogram\")\n",
    "\n",
    "axs[1].scatter(bond_id_dict_noNA.keys(), bond_id_dict_noNA.values(), alpha=0.5)\n",
    "axs[1].set_title(\"Scattered\")"
   ]
  },
  {
   "cell_type": "markdown",
   "metadata": {},
   "source": [
    "Now all of the NAs are gone, we must determine which `bond_id`s have less than 10 instances."
   ]
  },
  {
   "cell_type": "code",
   "execution_count": 13,
   "metadata": {},
   "outputs": [],
   "source": [
    "# Final Train: No NaN Values, and all bond_id instances > 25\n",
    "clean_data = train_noNA[train_noNA.bond_id.isin(bondID_gt25_noNA.keys())]\n",
    "clean_data.index = pd.RangeIndex(1, len(clean_data)+1)"
   ]
  },
  {
   "cell_type": "code",
   "execution_count": 14,
   "metadata": {},
   "outputs": [
    {
     "data": {
      "text/plain": [
       "(738520, 61)"
      ]
     },
     "execution_count": 14,
     "metadata": {},
     "output_type": "execute_result"
    }
   ],
   "source": [
    "clean_data.shape"
   ]
  },
  {
   "cell_type": "markdown",
   "metadata": {},
   "source": [
    "The above is the number of rows that have been removed from that overall dataframe for not having a sufficient amount of `bond_id` instances."
   ]
  },
  {
   "cell_type": "code",
   "execution_count": 15,
   "metadata": {},
   "outputs": [
    {
     "data": {
      "text/plain": [
       "2622"
      ]
     },
     "execution_count": 15,
     "metadata": {},
     "output_type": "execute_result"
    }
   ],
   "source": [
    "len(set(clean_data.bond_id.tolist()))"
   ]
  },
  {
   "cell_type": "markdown",
   "metadata": {},
   "source": [
    "After the removal of any `bond_id` without more than 25 instances, we are left with 2473 `bond_id`s (i.e. time-series since this is a 1-1 mapping)"
   ]
  },
  {
   "cell_type": "markdown",
   "metadata": {},
   "source": [
    "# Splitting into Training / Testing Sets\n",
    "\n",
    "(Per 4/19/2018)<br>\n",
    "Since Kaggle didn't provide the response variable in the test data, we must split the training data up into a training and test set. Specifically, of the original data 70% will be our new training set, 15% will be one test set, and the last 15% will be left-out test set. <br>\n",
    "Per the discussion Lucas and I had w/ Max on 4/20 ;), the following method will be used to split the data <br>\n",
    "\n",
    "For each `bondID`:\n",
    "<ol> \n",
    "    <li> Define `df` as a slice of `final_train` such that `bond_id = bondID` </li>\n",
    "    <li> Define `N = len(df)` </li>\n",
    "    <li> Append `[: to the train_df_list)` </li>\n",
    "    <li> Append `[np.floor(0.7N)):np.floor(0.85N))` to the `test1_df_list` </li>\n",
    "    <li> Append `[np.floor(0.85N):)` to the `test2_df_list` </li>\n",
    "</ol>\n",
    "\n",
    "Stack all dataframes on top of one another using `pd.concat(DataFrame_list)`\n",
    "\n",
    "\n",
    "**Note**: <br>\n",
    "Our `test2_df` will hold the most recent data, `test1_df` the next most recent, and the `train_df` the rest. <br>\n",
    "\n",
    "Our procedure will then be to: <br>\n",
    "<ol>\n",
    "    <li> Train on `train_df` and predict against `test1_df` </li>\n",
    "    <li> Train on `train_df` and `test1_df` then predict against `tests2_df` </li>\n",
    "</ol>\n",
    "\n",
    "This way predictions are in the future as opposed the random sampling idea from before. "
   ]
  },
  {
   "cell_type": "code",
   "execution_count": 16,
   "metadata": {},
   "outputs": [],
   "source": [
    "# init dataframes\n",
    "train_df_list = []; test1_df_list = []; test2_df_list = [];\n",
    "\n",
    "# Populate dataframes\n",
    "for bondID in sorted(list(set(clean_data.bond_id.tolist()))):\n",
    "    \n",
    "    df = clean_data[clean_data['bond_id'] == bondID]\n",
    "    N  = len(df)\n",
    "    \n",
    "    train_df_list.append( df.iloc[:int(np.floor(0.7*N)), :] )\n",
    "    test1_df_list.append( df.iloc[int(np.floor(0.7*N)):int(np.floor(0.85*N)), :] )\n",
    "    test2_df_list.append( df.iloc[int(np.floor(0.85*N)):, :] )\n",
    "\n",
    "train_df = pd.concat(train_df_list)\n",
    "test1_df = pd.concat(test1_df_list)\n",
    "test2_df = pd.concat(test2_df_list)"
   ]
  },
  {
   "cell_type": "code",
   "execution_count": 17,
   "metadata": {},
   "outputs": [
    {
     "name": "stdout",
     "output_type": "stream",
     "text": [
      "0.698353463684125\n",
      "0.14997427287006446\n",
      "0.15167226344581053\n"
     ]
    }
   ],
   "source": [
    "print(len(train_df)/len(clean_data));print(len(test1_df)/len(clean_data)); print(len(test2_df)/len(clean_data))"
   ]
  },
  {
   "cell_type": "code",
   "execution_count": 18,
   "metadata": {},
   "outputs": [
    {
     "data": {
      "text/plain": [
       "[<matplotlib.lines.Line2D at 0x1c3a750160>]"
      ]
     },
     "execution_count": 18,
     "metadata": {},
     "output_type": "execute_result"
    },
    {
     "data": {
      "image/png": "[encoded data removed]",
      "text/plain": [
       "<Figure size 432x288 with 1 Axes>"
      ]
     },
     "metadata": {},
     "output_type": "display_data"
    }
   ],
   "source": [
    "plt.plot(train_df[train_df['bond_id'] == 2].time_to_maturity.tolist())"
   ]
  },
  {
   "cell_type": "markdown",
   "metadata": {},
   "source": [
    "I wanted to be sure that the splitting worked. You can see that the proportions are roughly 70%, 15%, 15% so this is good. The plot above was to make sure for a given `bond_id`, that the rows were inserted correctly- this is confirmed since we see the time to maturity monotonically decreasing. "
   ]
  },
  {
   "cell_type": "markdown",
   "metadata": {},
   "source": [
    "## Loss Measure: *WEPS*"
   ]
  },
  {
   "cell_type": "code",
   "execution_count": 19,
   "metadata": {},
   "outputs": [],
   "source": [
    "\"\"\"\n",
    "Input Params:\n",
    "    weights (np.array): weight given to every entry / trade\n",
    "    y_true  (np.array): true y values \n",
    "    y_pred  (np.array): predicted y values \n",
    "    \n",
    "Return Params:\n",
    "    WEPS loss measure as defined in paper\n",
    "\"\"\"\n",
    "def WEPS(weights, y_true, y_pred):\n",
    "    return sum(np.multiply(weights, np.absolute(y_true-y_pred))) / sum(weights)"
   ]
  },
  {
   "cell_type": "markdown",
   "metadata": {},
   "source": [
    "## Algorithms\n",
    "Since a lot of these are supervised learning methods, `train_df`, `test1_df`, and `test2_df` are split up below into their feature and response variables <br>\n",
    "\n",
    "**Note/Question**: Do we want to use `%timeit` to get run times like the paper did? I think we'll be able to run most algorithms, per 4/20 I'm only unsure about NNs"
   ]
  },
  {
   "cell_type": "code",
   "execution_count": 20,
   "metadata": {},
   "outputs": [],
   "source": [
    "y_train = train_df.trade_price; X_train = train_df.drop('trade_price', axis=1)\n",
    "y_test1 = test1_df.trade_price; X_test1 = test1_df.drop('trade_price', axis=1)\n",
    "y_test2 = test2_df.trade_price; X_test2 = test2_df.drop('trade_price', axis=1)"
   ]
  },
  {
   "cell_type": "markdown",
   "metadata": {},
   "source": [
    "The below dataframes are the 85% of the data as training (i.e. X_train stacked on top of X_test1 in one dataframe)"
   ]
  },
  {
   "cell_type": "code",
   "execution_count": 21,
   "metadata": {},
   "outputs": [],
   "source": [
    "y_train2 = pd.concat([y_train,y_test1]); X_train2 = pd.concat([X_train, X_test1])"
   ]
  },
  {
   "cell_type": "markdown",
   "metadata": {},
   "source": [
    "### OLS (trivial)\n",
    "For this, should we drop the weights in the feature space and then use them for WLS? \n",
    "\n",
    "#### Use `X_train` to fit model"
   ]
  },
  {
   "cell_type": "code",
   "execution_count": 22,
   "metadata": {},
   "outputs": [],
   "source": [
    "# Fit the model\n",
    "lreg = LinearRegression().fit(X_train, y_train) "
   ]
  },
  {
   "cell_type": "code",
   "execution_count": 23,
   "metadata": {},
   "outputs": [],
   "source": [
    "# Test Prediction / MSE\n",
    "lreg_ypred_test = lreg.predict(X_test1)\n",
    "lreg_mse_test  = mean_squared_error(lreg_ypred_test, y_test1) \n",
    "\n",
    "# Train Prediction / MSE\n",
    "lreg_ypred_train = lreg.predict(X_train)\n",
    "lreg_mse_train  = mean_squared_error(lreg_ypred_train, y_train)\n",
    "\n",
    "# WEPS Loss Measure\n",
    "lreg_WEPS_test = WEPS(X_test1.weight, y_test1, lreg_ypred_test)\n",
    "lreg_WEPS_train = WEPS(X_train.weight, y_train, lreg_ypred_train)"
   ]
  },
  {
   "cell_type": "code",
   "execution_count": 24,
   "metadata": {},
   "outputs": [
    {
     "data": {
      "text/html": [
       "<div>\n",
       "<style scoped>\n",
       "    .dataframe tbody tr th:only-of-type {\n",
       "        vertical-align: middle;\n",
       "    }\n",
       "\n",
       "    .dataframe tbody tr th {\n",
       "        vertical-align: top;\n",
       "    }\n",
       "\n",
       "    .dataframe thead th {\n",
       "        text-align: right;\n",
       "    }\n",
       "</style>\n",
       "<table border=\"1\" class=\"dataframe\">\n",
       "  <thead>\n",
       "    <tr style=\"text-align: right;\">\n",
       "      <th></th>\n",
       "      <th>Train</th>\n",
       "      <th>Test</th>\n",
       "    </tr>\n",
       "  </thead>\n",
       "  <tbody>\n",
       "    <tr>\n",
       "      <th>MSE</th>\n",
       "      <td>1.044132</td>\n",
       "      <td>0.835355</td>\n",
       "    </tr>\n",
       "    <tr>\n",
       "      <th>WEPS</th>\n",
       "      <td>0.872440</td>\n",
       "      <td>0.809628</td>\n",
       "    </tr>\n",
       "  </tbody>\n",
       "</table>\n",
       "</div>"
      ],
      "text/plain": [
       "         Train      Test\n",
       "MSE   1.044132  0.835355\n",
       "WEPS  0.872440  0.809628"
      ]
     },
     "execution_count": 24,
     "metadata": {},
     "output_type": "execute_result"
    }
   ],
   "source": [
    "# Output error\n",
    "error_mat = np.array([[lreg_mse_train, lreg_mse_test], [lreg_WEPS_train, lreg_WEPS_test]])\n",
    "pd.DataFrame(error_mat, index=['MSE', 'WEPS'], columns=['Train', 'Test'])"
   ]
  },
  {
   "cell_type": "markdown",
   "metadata": {},
   "source": [
    "#### Use `X_train` and `X_test1` to fit model"
   ]
  },
  {
   "cell_type": "code",
   "execution_count": 25,
   "metadata": {},
   "outputs": [],
   "source": [
    "# Fit the model\n",
    "lreg2 = LinearRegression().fit(X_train2, y_train2) "
   ]
  },
  {
   "cell_type": "code",
   "execution_count": 26,
   "metadata": {},
   "outputs": [],
   "source": [
    "# Test Prediction / MSE\n",
    "lreg2_ypred_test = lreg2.predict(X_test2)\n",
    "lreg2_mse_test  = mean_squared_error(lreg2_ypred_test, y_test2) \n",
    "\n",
    "# Train Prediction / MSE\n",
    "lreg2_ypred_train = lreg2.predict(X_train2)\n",
    "lreg2_mse_train  = mean_squared_error(lreg2_ypred_train, y_train2)\n",
    "\n",
    "# WEPS Loss Measure\n",
    "lreg2_WEPS_test = WEPS(X_test2.weight, y_test2, lreg2_ypred_test)\n",
    "lreg2_WEPS_train = WEPS(X_train2.weight, y_train2, lreg2_ypred_train)"
   ]
  },
  {
   "cell_type": "code",
   "execution_count": 27,
   "metadata": {},
   "outputs": [
    {
     "data": {
      "text/html": [
       "<div>\n",
       "<style scoped>\n",
       "    .dataframe tbody tr th:only-of-type {\n",
       "        vertical-align: middle;\n",
       "    }\n",
       "\n",
       "    .dataframe tbody tr th {\n",
       "        vertical-align: top;\n",
       "    }\n",
       "\n",
       "    .dataframe thead th {\n",
       "        text-align: right;\n",
       "    }\n",
       "</style>\n",
       "<table border=\"1\" class=\"dataframe\">\n",
       "  <thead>\n",
       "    <tr style=\"text-align: right;\">\n",
       "      <th></th>\n",
       "      <th>Train</th>\n",
       "      <th>Test</th>\n",
       "    </tr>\n",
       "  </thead>\n",
       "  <tbody>\n",
       "    <tr>\n",
       "      <th>MSE</th>\n",
       "      <td>1.007038</td>\n",
       "      <td>0.840201</td>\n",
       "    </tr>\n",
       "    <tr>\n",
       "      <th>WEPS</th>\n",
       "      <td>0.859609</td>\n",
       "      <td>0.770284</td>\n",
       "    </tr>\n",
       "  </tbody>\n",
       "</table>\n",
       "</div>"
      ],
      "text/plain": [
       "         Train      Test\n",
       "MSE   1.007038  0.840201\n",
       "WEPS  0.859609  0.770284"
      ]
     },
     "execution_count": 27,
     "metadata": {},
     "output_type": "execute_result"
    }
   ],
   "source": [
    "# Output error\n",
    "error_mat = np.array([[lreg2_mse_train, lreg2_mse_test], [lreg2_WEPS_train, lreg2_WEPS_test]])\n",
    "pd.DataFrame(error_mat, index=['MSE', 'WEPS'], columns=['Train', 'Test'])"
   ]
  },
  {
   "cell_type": "markdown",
   "metadata": {},
   "source": [
    "### WLS \n",
    "Use the `weights` column of each dataframe as the weights parameter in `LinearRegression().fit()` <br>\n",
    "Refer to: http://scikit-learn.org/stable/modules/generated/sklearn.linear_model.LinearRegression.html"
   ]
  },
  {
   "cell_type": "code",
   "execution_count": 28,
   "metadata": {},
   "outputs": [],
   "source": [
    "ws = X_train.weight\n",
    "X_train_no_weights = X_train.drop('weight', axis=1)"
   ]
  },
  {
   "cell_type": "code",
   "execution_count": 29,
   "metadata": {},
   "outputs": [],
   "source": [
    "# Fit the model\n",
    "wls_reg = LinearRegression().fit(X_train_no_weights, y_train, sample_weight=ws) "
   ]
  },
  {
   "cell_type": "code",
   "execution_count": 30,
   "metadata": {},
   "outputs": [],
   "source": [
    "# Test Prediction / MSE\n",
    "wls_reg_ypred_test = wls_reg.predict(X_test1.drop('weight', axis=1))\n",
    "wls_reg_mse_test  = mean_squared_error(wls_reg_ypred_test, y_test1) \n",
    "\n",
    "# Train Prediction / MSE\n",
    "wls_reg_ypred_train = wls_reg.predict(X_train_no_weights)\n",
    "wls_reg_mse_train  = mean_squared_error(wls_reg_ypred_train, y_train)\n",
    "\n",
    "# WEPS Loss Measure\n",
    "wls_reg_WEPS_test = WEPS(X_test1.weight, y_test1, lreg_ypred_test)\n",
    "wls_reg_WEPS_train = WEPS(X_train.weight, y_train, lreg_ypred_train)"
   ]
  },
  {
   "cell_type": "code",
   "execution_count": 31,
   "metadata": {},
   "outputs": [
    {
     "data": {
      "text/html": [
       "<div>\n",
       "<style scoped>\n",
       "    .dataframe tbody tr th:only-of-type {\n",
       "        vertical-align: middle;\n",
       "    }\n",
       "\n",
       "    .dataframe tbody tr th {\n",
       "        vertical-align: top;\n",
       "    }\n",
       "\n",
       "    .dataframe thead th {\n",
       "        text-align: right;\n",
       "    }\n",
       "</style>\n",
       "<table border=\"1\" class=\"dataframe\">\n",
       "  <thead>\n",
       "    <tr style=\"text-align: right;\">\n",
       "      <th></th>\n",
       "      <th>Train</th>\n",
       "      <th>Test</th>\n",
       "    </tr>\n",
       "  </thead>\n",
       "  <tbody>\n",
       "    <tr>\n",
       "      <th>MSE</th>\n",
       "      <td>1.123199</td>\n",
       "      <td>0.916320</td>\n",
       "    </tr>\n",
       "    <tr>\n",
       "      <th>WEPS</th>\n",
       "      <td>0.872440</td>\n",
       "      <td>0.809628</td>\n",
       "    </tr>\n",
       "  </tbody>\n",
       "</table>\n",
       "</div>"
      ],
      "text/plain": [
       "         Train      Test\n",
       "MSE   1.123199  0.916320\n",
       "WEPS  0.872440  0.809628"
      ]
     },
     "execution_count": 31,
     "metadata": {},
     "output_type": "execute_result"
    }
   ],
   "source": [
    "# Output error\n",
    "error_mat = np.array([[wls_reg_mse_train, wls_reg_mse_test], [wls_reg_WEPS_train, wls_reg_WEPS_test]])\n",
    "pd.DataFrame(error_mat, index=['MSE', 'WEPS'], columns=['Train', 'Test'])"
   ]
  },
  {
   "cell_type": "markdown",
   "metadata": {},
   "source": [
    "### PCA (dimension reduction)"
   ]
  },
  {
   "cell_type": "code",
   "execution_count": 32,
   "metadata": {},
   "outputs": [],
   "source": [
    "from sklearn.decomposition import PCA\n",
    "pca_obj = PCA().fit(train_df)\n",
    "transformed = pca_obj.transform(train_df)"
   ]
  },
  {
   "cell_type": "code",
   "execution_count": 33,
   "metadata": {},
   "outputs": [
    {
     "data": {
      "text/plain": [
       "23"
      ]
     },
     "execution_count": 33,
     "metadata": {},
     "output_type": "execute_result"
    }
   ],
   "source": [
    "sum(np.cumsum(pca_obj.explained_variance_ratio_) < 0.99999)"
   ]
  },
  {
   "cell_type": "markdown",
   "metadata": {},
   "source": [
    "This is on point, confirmed w/ @Skander's and the paper"
   ]
  },
  {
   "cell_type": "markdown",
   "metadata": {},
   "source": [
    "### Random Forest\n",
    "**Note** Using `n_jobs` indicates with how many cores you would like to parallelize the code. Using `n_jobs=-1` sets it the number of cores on your Machine. You can check this by entering into the terminal (or bash, I think): <br><br>\n",
    "\n",
    "<center>`sysctl hw.ncpu`</center>"
   ]
  },
  {
   "cell_type": "markdown",
   "metadata": {},
   "source": [
    "#### 50 Regression Trees"
   ]
  },
  {
   "cell_type": "code",
   "execution_count": 34,
   "metadata": {},
   "outputs": [
    {
     "name": "stdout",
     "output_type": "stream",
     "text": [
      "1min 11s ± 9.8 s per loop (mean ± std. dev. of 7 runs, 1 loop each)\n"
     ]
    }
   ],
   "source": [
    "%%timeit\n",
    "rfr_50 = RandomForestRegressor(n_estimators=50, max_depth=2, n_jobs=-1).fit(X_train, y_train)"
   ]
  },
  {
   "cell_type": "markdown",
   "metadata": {},
   "source": [
    "Let's be careful about this `timeit` business...."
   ]
  },
  {
   "cell_type": "code",
   "execution_count": 38,
   "metadata": {},
   "outputs": [],
   "source": [
    "rfr_50 = RandomForestRegressor(n_estimators=50, max_depth=2, n_jobs=-1).fit(X_train, y_train)"
   ]
  },
  {
   "cell_type": "code",
   "execution_count": 48,
   "metadata": {},
   "outputs": [],
   "source": [
    "rfr50_ypred_test  = rfr_50.predict(X_test1)\n",
    "rfr50_ypred_train = rfr_50.predict(X_train)\n",
    "\n",
    "rfr50_mse_test  = mean_squared_error(rfr50_ypred_test, y_test1)\n",
    "rfr50_WEPS_test = WEPS(X_test1.weight, y_test1, rfr50_ypred_test)\n",
    "\n",
    "rfr50_mse_train  = mean_squared_error(rfr50_ypred_train, y_train)\n",
    "rfr50_WEPS_train = WEPS(X_train.weight, y_train, rfr50_ypred_train)"
   ]
  },
  {
   "cell_type": "code",
   "execution_count": 49,
   "metadata": {},
   "outputs": [
    {
     "data": {
      "text/html": [
       "<div>\n",
       "<style scoped>\n",
       "    .dataframe tbody tr th:only-of-type {\n",
       "        vertical-align: middle;\n",
       "    }\n",
       "\n",
       "    .dataframe tbody tr th {\n",
       "        vertical-align: top;\n",
       "    }\n",
       "\n",
       "    .dataframe thead th {\n",
       "        text-align: right;\n",
       "    }\n",
       "</style>\n",
       "<table border=\"1\" class=\"dataframe\">\n",
       "  <thead>\n",
       "    <tr style=\"text-align: right;\">\n",
       "      <th></th>\n",
       "      <th>Train</th>\n",
       "      <th>Test</th>\n",
       "    </tr>\n",
       "  </thead>\n",
       "  <tbody>\n",
       "    <tr>\n",
       "      <th>MSE</th>\n",
       "      <td>25.207722</td>\n",
       "      <td>25.615793</td>\n",
       "    </tr>\n",
       "    <tr>\n",
       "      <th>WEPS</th>\n",
       "      <td>3.886560</td>\n",
       "      <td>3.851117</td>\n",
       "    </tr>\n",
       "  </tbody>\n",
       "</table>\n",
       "</div>"
      ],
      "text/plain": [
       "          Train       Test\n",
       "MSE   25.207722  25.615793\n",
       "WEPS   3.886560   3.851117"
      ]
     },
     "execution_count": 49,
     "metadata": {},
     "output_type": "execute_result"
    }
   ],
   "source": [
    "# Output error\n",
    "error_mat = np.array([[rfr50_mse_train, rfr50_mse_test], [rfr50_WEPS_train, rfr50_WEPS_test]])\n",
    "pd.DataFrame(error_mat, index=['MSE', 'WEPS'], columns=['Train', 'Test'])"
   ]
  },
  {
   "cell_type": "markdown",
   "metadata": {},
   "source": [
    "#### 100 Regression Trees"
   ]
  },
  {
   "cell_type": "code",
   "execution_count": 50,
   "metadata": {},
   "outputs": [],
   "source": [
    "rfr_100 = RandomForestRegressor(n_estimators=100, max_depth=2, n_jobs=-1).fit(X_train, y_train)"
   ]
  },
  {
   "cell_type": "code",
   "execution_count": 52,
   "metadata": {},
   "outputs": [],
   "source": [
    "rfr100_ypred_test  = rfr_100.predict(X_test1)\n",
    "rfr100_ypred_train = rfr_100.predict(X_train)\n",
    "\n",
    "rfr100_mse_test  = mean_squared_error(rfr100_ypred_test, y_test1)\n",
    "rfr100_WEPS_test = WEPS(X_test1.weight, y_test1, rfr100_ypred_test)\n",
    "\n",
    "rfr100_mse_train  = mean_squared_error(rfr100_ypred_train, y_train)\n",
    "rfr100_WEPS_train = WEPS(X_train.weight, y_train, rfr100_ypred_train)"
   ]
  },
  {
   "cell_type": "code",
   "execution_count": 53,
   "metadata": {},
   "outputs": [
    {
     "data": {
      "text/html": [
       "<div>\n",
       "<style scoped>\n",
       "    .dataframe tbody tr th:only-of-type {\n",
       "        vertical-align: middle;\n",
       "    }\n",
       "\n",
       "    .dataframe tbody tr th {\n",
       "        vertical-align: top;\n",
       "    }\n",
       "\n",
       "    .dataframe thead th {\n",
       "        text-align: right;\n",
       "    }\n",
       "</style>\n",
       "<table border=\"1\" class=\"dataframe\">\n",
       "  <thead>\n",
       "    <tr style=\"text-align: right;\">\n",
       "      <th></th>\n",
       "      <th>Train</th>\n",
       "      <th>Test</th>\n",
       "    </tr>\n",
       "  </thead>\n",
       "  <tbody>\n",
       "    <tr>\n",
       "      <th>MSE</th>\n",
       "      <td>25.220039</td>\n",
       "      <td>25.623948</td>\n",
       "    </tr>\n",
       "    <tr>\n",
       "      <th>WEPS</th>\n",
       "      <td>3.890771</td>\n",
       "      <td>3.857239</td>\n",
       "    </tr>\n",
       "  </tbody>\n",
       "</table>\n",
       "</div>"
      ],
      "text/plain": [
       "          Train       Test\n",
       "MSE   25.220039  25.623948\n",
       "WEPS   3.890771   3.857239"
      ]
     },
     "execution_count": 53,
     "metadata": {},
     "output_type": "execute_result"
    }
   ],
   "source": [
    "# Output error\n",
    "error_mat = np.array([[rfr100_mse_train, rfr100_mse_test], [rfr100_WEPS_train, rfr100_WEPS_test]])\n",
    "pd.DataFrame(error_mat, index=['MSE', 'WEPS'], columns=['Train', 'Test'])"
   ]
  },
  {
   "cell_type": "markdown",
   "metadata": {},
   "source": [
    "### ARMA"
   ]
  },
  {
   "cell_type": "code",
   "execution_count": null,
   "metadata": {},
   "outputs": [],
   "source": []
  },
  {
   "cell_type": "code",
   "execution_count": null,
   "metadata": {},
   "outputs": [],
   "source": []
  },
  {
   "cell_type": "code",
   "execution_count": null,
   "metadata": {},
   "outputs": [],
   "source": []
  },
  {
   "cell_type": "code",
   "execution_count": null,
   "metadata": {},
   "outputs": [],
   "source": []
  },
  {
   "cell_type": "code",
   "execution_count": null,
   "metadata": {},
   "outputs": [],
   "source": []
  },
  {
   "cell_type": "code",
   "execution_count": null,
   "metadata": {},
   "outputs": [],
   "source": []
  },
  {
   "cell_type": "code",
   "execution_count": null,
   "metadata": {},
   "outputs": [],
   "source": []
  },
  {
   "cell_type": "code",
   "execution_count": null,
   "metadata": {},
   "outputs": [],
   "source": []
  },
  {
   "cell_type": "code",
   "execution_count": null,
   "metadata": {},
   "outputs": [],
   "source": []
  },
  {
   "cell_type": "code",
   "execution_count": null,
   "metadata": {},
   "outputs": [],
   "source": []
  },
  {
   "cell_type": "code",
   "execution_count": null,
   "metadata": {},
   "outputs": [],
   "source": []
  },
  {
   "cell_type": "code",
   "execution_count": null,
   "metadata": {},
   "outputs": [],
   "source": []
  },
  {
   "cell_type": "code",
   "execution_count": null,
   "metadata": {},
   "outputs": [],
   "source": []
  },
  {
   "cell_type": "code",
   "execution_count": null,
   "metadata": {},
   "outputs": [],
   "source": []
  }
 ],
 "metadata": {
  "kernelspec": {
   "display_name": "Python 3",
   "language": "python",
   "name": "python3"
  },
  "language_info": {
   "codemirror_mode": {
    "name": "ipython",
    "version": 3
   },
   "file_extension": ".py",
   "mimetype": "text/x-python",
   "name": "python",
   "nbconvert_exporter": "python",
   "pygments_lexer": "ipython3",
   "version": "3.6.3"
  }
 },
 "nbformat": 4,
 "nbformat_minor": 2
}
