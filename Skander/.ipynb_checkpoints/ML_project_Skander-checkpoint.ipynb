{
 "cells": [
  {
   "cell_type": "markdown",
   "metadata": {},
   "source": [
    "## Preliminary data analysis:"
   ]
  },
  {
   "cell_type": "code",
   "execution_count": 1,
   "metadata": {},
   "outputs": [
    {
     "name": "stderr",
     "output_type": "stream",
     "text": [
      "/Users/Alex/anaconda3/lib/python3.6/site-packages/statsmodels/compat/pandas.py:56: FutureWarning: The pandas.core.datetools module is deprecated and will be removed in a future version. Please use the pandas.tseries module instead.\n",
      "  from pandas.core import datetools\n"
     ]
    }
   ],
   "source": [
    "import pandas as pd\n",
    "import numpy as np\n",
    "import sklearn as sk\n",
    "import scipy as sp\n",
    "from scipy import stats\n",
    "import statsmodels.api as sm\n",
    "from sklearn import model_selection\n",
    "from sklearn import preprocessing\n",
    "import math"
   ]
  },
  {
   "cell_type": "code",
   "execution_count": 2,
   "metadata": {},
   "outputs": [
    {
     "data": {
      "text/html": [
       "<div>\n",
       "<style>\n",
       "    .dataframe thead tr:only-child th {\n",
       "        text-align: right;\n",
       "    }\n",
       "\n",
       "    .dataframe thead th {\n",
       "        text-align: left;\n",
       "    }\n",
       "\n",
       "    .dataframe tbody tr th {\n",
       "        vertical-align: top;\n",
       "    }\n",
       "</style>\n",
       "<table border=\"1\" class=\"dataframe\">\n",
       "  <thead>\n",
       "    <tr style=\"text-align: right;\">\n",
       "      <th></th>\n",
       "      <th>id</th>\n",
       "      <th>bond_id</th>\n",
       "      <th>trade_price</th>\n",
       "      <th>weight</th>\n",
       "      <th>current_coupon</th>\n",
       "      <th>time_to_maturity</th>\n",
       "      <th>is_callable</th>\n",
       "      <th>reporting_delay</th>\n",
       "      <th>trade_size</th>\n",
       "      <th>trade_type</th>\n",
       "      <th>...</th>\n",
       "      <th>received_time_diff_last9</th>\n",
       "      <th>trade_price_last9</th>\n",
       "      <th>trade_size_last9</th>\n",
       "      <th>trade_type_last9</th>\n",
       "      <th>curve_based_price_last9</th>\n",
       "      <th>received_time_diff_last10</th>\n",
       "      <th>trade_price_last10</th>\n",
       "      <th>trade_size_last10</th>\n",
       "      <th>trade_type_last10</th>\n",
       "      <th>curve_based_price_last10</th>\n",
       "    </tr>\n",
       "  </thead>\n",
       "  <tbody>\n",
       "    <tr>\n",
       "      <th>0</th>\n",
       "      <td>1</td>\n",
       "      <td>1</td>\n",
       "      <td>128.596</td>\n",
       "      <td>11.316404</td>\n",
       "      <td>5.95</td>\n",
       "      <td>26.031126</td>\n",
       "      <td>0</td>\n",
       "      <td>1.731</td>\n",
       "      <td>120000</td>\n",
       "      <td>2</td>\n",
       "      <td>...</td>\n",
       "      <td>NaN</td>\n",
       "      <td>NaN</td>\n",
       "      <td>NaN</td>\n",
       "      <td>NaN</td>\n",
       "      <td>NaN</td>\n",
       "      <td>NaN</td>\n",
       "      <td>NaN</td>\n",
       "      <td>NaN</td>\n",
       "      <td>NaN</td>\n",
       "      <td>NaN</td>\n",
       "    </tr>\n",
       "    <tr>\n",
       "      <th>1</th>\n",
       "      <td>2</td>\n",
       "      <td>1</td>\n",
       "      <td>126.673</td>\n",
       "      <td>8.763446</td>\n",
       "      <td>5.95</td>\n",
       "      <td>26.016697</td>\n",
       "      <td>0</td>\n",
       "      <td>30.518</td>\n",
       "      <td>85000</td>\n",
       "      <td>4</td>\n",
       "      <td>...</td>\n",
       "      <td>NaN</td>\n",
       "      <td>NaN</td>\n",
       "      <td>NaN</td>\n",
       "      <td>NaN</td>\n",
       "      <td>NaN</td>\n",
       "      <td>NaN</td>\n",
       "      <td>NaN</td>\n",
       "      <td>NaN</td>\n",
       "      <td>NaN</td>\n",
       "      <td>NaN</td>\n",
       "    </tr>\n",
       "    <tr>\n",
       "      <th>2</th>\n",
       "      <td>3</td>\n",
       "      <td>1</td>\n",
       "      <td>126.880</td>\n",
       "      <td>6.499730</td>\n",
       "      <td>5.95</td>\n",
       "      <td>26.008760</td>\n",
       "      <td>0</td>\n",
       "      <td>4.424</td>\n",
       "      <td>4200000</td>\n",
       "      <td>3</td>\n",
       "      <td>...</td>\n",
       "      <td>NaN</td>\n",
       "      <td>NaN</td>\n",
       "      <td>NaN</td>\n",
       "      <td>NaN</td>\n",
       "      <td>NaN</td>\n",
       "      <td>NaN</td>\n",
       "      <td>NaN</td>\n",
       "      <td>NaN</td>\n",
       "      <td>NaN</td>\n",
       "      <td>NaN</td>\n",
       "    </tr>\n",
       "    <tr>\n",
       "      <th>3</th>\n",
       "      <td>4</td>\n",
       "      <td>1</td>\n",
       "      <td>126.362</td>\n",
       "      <td>0.865854</td>\n",
       "      <td>5.95</td>\n",
       "      <td>26.008619</td>\n",
       "      <td>0</td>\n",
       "      <td>43.059</td>\n",
       "      <td>5000001</td>\n",
       "      <td>2</td>\n",
       "      <td>...</td>\n",
       "      <td>NaN</td>\n",
       "      <td>NaN</td>\n",
       "      <td>NaN</td>\n",
       "      <td>NaN</td>\n",
       "      <td>NaN</td>\n",
       "      <td>NaN</td>\n",
       "      <td>NaN</td>\n",
       "      <td>NaN</td>\n",
       "      <td>NaN</td>\n",
       "      <td>NaN</td>\n",
       "    </tr>\n",
       "    <tr>\n",
       "      <th>4</th>\n",
       "      <td>5</td>\n",
       "      <td>1</td>\n",
       "      <td>124.918</td>\n",
       "      <td>11.938543</td>\n",
       "      <td>5.95</td>\n",
       "      <td>25.981840</td>\n",
       "      <td>0</td>\n",
       "      <td>6.332</td>\n",
       "      <td>10000</td>\n",
       "      <td>2</td>\n",
       "      <td>...</td>\n",
       "      <td>NaN</td>\n",
       "      <td>NaN</td>\n",
       "      <td>NaN</td>\n",
       "      <td>NaN</td>\n",
       "      <td>NaN</td>\n",
       "      <td>NaN</td>\n",
       "      <td>NaN</td>\n",
       "      <td>NaN</td>\n",
       "      <td>NaN</td>\n",
       "      <td>NaN</td>\n",
       "    </tr>\n",
       "  </tbody>\n",
       "</table>\n",
       "<p>5 rows × 61 columns</p>\n",
       "</div>"
      ],
      "text/plain": [
       "   id  bond_id  trade_price     weight  current_coupon  time_to_maturity  \\\n",
       "0   1        1      128.596  11.316404            5.95         26.031126   \n",
       "1   2        1      126.673   8.763446            5.95         26.016697   \n",
       "2   3        1      126.880   6.499730            5.95         26.008760   \n",
       "3   4        1      126.362   0.865854            5.95         26.008619   \n",
       "4   5        1      124.918  11.938543            5.95         25.981840   \n",
       "\n",
       "   is_callable  reporting_delay  trade_size  trade_type  \\\n",
       "0            0            1.731      120000           2   \n",
       "1            0           30.518       85000           4   \n",
       "2            0            4.424     4200000           3   \n",
       "3            0           43.059     5000001           2   \n",
       "4            0            6.332       10000           2   \n",
       "\n",
       "             ...             received_time_diff_last9  trade_price_last9  \\\n",
       "0            ...                                  NaN                NaN   \n",
       "1            ...                                  NaN                NaN   \n",
       "2            ...                                  NaN                NaN   \n",
       "3            ...                                  NaN                NaN   \n",
       "4            ...                                  NaN                NaN   \n",
       "\n",
       "   trade_size_last9  trade_type_last9  curve_based_price_last9  \\\n",
       "0               NaN               NaN                      NaN   \n",
       "1               NaN               NaN                      NaN   \n",
       "2               NaN               NaN                      NaN   \n",
       "3               NaN               NaN                      NaN   \n",
       "4               NaN               NaN                      NaN   \n",
       "\n",
       "   received_time_diff_last10  trade_price_last10  trade_size_last10  \\\n",
       "0                        NaN                 NaN                NaN   \n",
       "1                        NaN                 NaN                NaN   \n",
       "2                        NaN                 NaN                NaN   \n",
       "3                        NaN                 NaN                NaN   \n",
       "4                        NaN                 NaN                NaN   \n",
       "\n",
       "   trade_type_last10  curve_based_price_last10  \n",
       "0                NaN                       NaN  \n",
       "1                NaN                       NaN  \n",
       "2                NaN                       NaN  \n",
       "3                NaN                       NaN  \n",
       "4                NaN                       NaN  \n",
       "\n",
       "[5 rows x 61 columns]"
      ]
     },
     "execution_count": 2,
     "metadata": {},
     "output_type": "execute_result"
    }
   ],
   "source": [
    "data=pd.read_csv(\"/Users/Alex/Desktop/ML_project/train.csv\")\n",
    "data.head()"
   ]
  },
  {
   "cell_type": "code",
   "execution_count": 3,
   "metadata": {
    "collapsed": true
   },
   "outputs": [],
   "source": [
    "\n",
    "data_without_dummy=data[['bond_id','trade_price','weight','current_coupon','time_to_maturity','is_callable',\n",
    " 'reporting_delay','trade_size','trade_type','curve_based_price','received_time_diff_last1','trade_price_last1',\n",
    " 'trade_size_last1','trade_type_last1','curve_based_price_last1','received_time_diff_last2','trade_price_last2',\n",
    " 'trade_size_last2','trade_type_last2','curve_based_price_last2','received_time_diff_last3',\n",
    " 'trade_price_last3','trade_size_last3','trade_type_last3','curve_based_price_last3','received_time_diff_last4',\n",
    " 'trade_price_last4','trade_size_last4','trade_type_last4','curve_based_price_last4','received_time_diff_last5',\n",
    " 'trade_price_last5','trade_size_last5','trade_type_last5','curve_based_price_last5','received_time_diff_last6',\n",
    " 'trade_price_last6','trade_size_last6','trade_type_last6','curve_based_price_last6','received_time_diff_last7',\n",
    " 'trade_price_last7','trade_size_last7','trade_type_last7','curve_based_price_last7','received_time_diff_last8',\n",
    " 'trade_price_last8','trade_size_last8','trade_type_last8','curve_based_price_last8','received_time_diff_last9',\n",
    " 'trade_price_last9','trade_size_last9','trade_type_last9','curve_based_price_last9','received_time_diff_last10',\n",
    " 'trade_price_last10','trade_size_last10','trade_type_last10','curve_based_price_last10']]\n",
    "data_without_dummy=data_without_dummy.dropna()"
   ]
  },
  {
   "cell_type": "code",
   "execution_count": 4,
   "metadata": {},
   "outputs": [
    {
     "data": {
      "text/html": [
       "<div>\n",
       "<style>\n",
       "    .dataframe thead tr:only-child th {\n",
       "        text-align: right;\n",
       "    }\n",
       "\n",
       "    .dataframe thead th {\n",
       "        text-align: left;\n",
       "    }\n",
       "\n",
       "    .dataframe tbody tr th {\n",
       "        vertical-align: top;\n",
       "    }\n",
       "</style>\n",
       "<table border=\"1\" class=\"dataframe\">\n",
       "  <thead>\n",
       "    <tr style=\"text-align: right;\">\n",
       "      <th></th>\n",
       "      <th>trade_type</th>\n",
       "      <th>trade_type_last1</th>\n",
       "      <th>trade_type_last10</th>\n",
       "      <th>trade_type_last2</th>\n",
       "      <th>trade_type_last3</th>\n",
       "      <th>trade_type_last4</th>\n",
       "      <th>trade_type_last5</th>\n",
       "      <th>trade_type_last6</th>\n",
       "      <th>trade_type_last7</th>\n",
       "      <th>trade_type_last8</th>\n",
       "      <th>trade_type_last9</th>\n",
       "    </tr>\n",
       "    <tr>\n",
       "      <th>Cathegories</th>\n",
       "      <th></th>\n",
       "      <th></th>\n",
       "      <th></th>\n",
       "      <th></th>\n",
       "      <th></th>\n",
       "      <th></th>\n",
       "      <th></th>\n",
       "      <th></th>\n",
       "      <th></th>\n",
       "      <th></th>\n",
       "      <th></th>\n",
       "    </tr>\n",
       "  </thead>\n",
       "  <tbody>\n",
       "    <tr>\n",
       "      <th>2</th>\n",
       "      <td>0.203465</td>\n",
       "      <td>0.203934</td>\n",
       "      <td>0.197841</td>\n",
       "      <td>0.203134</td>\n",
       "      <td>0.202451</td>\n",
       "      <td>0.201810</td>\n",
       "      <td>0.201128</td>\n",
       "      <td>0.200448</td>\n",
       "      <td>0.199804</td>\n",
       "      <td>0.199102</td>\n",
       "      <td>0.198473</td>\n",
       "    </tr>\n",
       "    <tr>\n",
       "      <th>3</th>\n",
       "      <td>0.361293</td>\n",
       "      <td>0.360796</td>\n",
       "      <td>0.352744</td>\n",
       "      <td>0.359785</td>\n",
       "      <td>0.358833</td>\n",
       "      <td>0.357935</td>\n",
       "      <td>0.357021</td>\n",
       "      <td>0.356163</td>\n",
       "      <td>0.355284</td>\n",
       "      <td>0.354450</td>\n",
       "      <td>0.353587</td>\n",
       "    </tr>\n",
       "    <tr>\n",
       "      <th>4</th>\n",
       "      <td>0.435243</td>\n",
       "      <td>0.435270</td>\n",
       "      <td>0.426711</td>\n",
       "      <td>0.434459</td>\n",
       "      <td>0.433511</td>\n",
       "      <td>0.432491</td>\n",
       "      <td>0.431561</td>\n",
       "      <td>0.430598</td>\n",
       "      <td>0.429620</td>\n",
       "      <td>0.428672</td>\n",
       "      <td>0.427692</td>\n",
       "    </tr>\n",
       "  </tbody>\n",
       "</table>\n",
       "</div>"
      ],
      "text/plain": [
       "             trade_type  trade_type_last1  trade_type_last10  \\\n",
       "Cathegories                                                    \n",
       "2              0.203465          0.203934           0.197841   \n",
       "3              0.361293          0.360796           0.352744   \n",
       "4              0.435243          0.435270           0.426711   \n",
       "\n",
       "             trade_type_last2  trade_type_last3  trade_type_last4  \\\n",
       "Cathegories                                                         \n",
       "2                    0.203134          0.202451          0.201810   \n",
       "3                    0.359785          0.358833          0.357935   \n",
       "4                    0.434459          0.433511          0.432491   \n",
       "\n",
       "             trade_type_last5  trade_type_last6  trade_type_last7  \\\n",
       "Cathegories                                                         \n",
       "2                    0.201128          0.200448          0.199804   \n",
       "3                    0.357021          0.356163          0.355284   \n",
       "4                    0.431561          0.430598          0.429620   \n",
       "\n",
       "             trade_type_last8  trade_type_last9  \n",
       "Cathegories                                      \n",
       "2                    0.199102          0.198473  \n",
       "3                    0.354450          0.353587  \n",
       "4                    0.428672          0.427692  "
      ]
     },
     "execution_count": 4,
     "metadata": {},
     "output_type": "execute_result"
    }
   ],
   "source": [
    "#checking if the cathegorical variables are balanced:\n",
    "tt2=np.mean(data[\"trade_type\"]==2)\n",
    "tt3=np.mean(data[\"trade_type\"]==3)\n",
    "tt4=np.mean(data[\"trade_type\"]==4)\n",
    "\n",
    "tt2_last1=np.mean(data[\"trade_type_last1\"]==2)\n",
    "tt3_last1=np.mean(data[\"trade_type_last1\"]==3)\n",
    "tt4_last1=np.mean(data[\"trade_type_last1\"]==4)\n",
    "\n",
    "tt2_last2=np.mean(data[\"trade_type_last2\"]==2)\n",
    "tt3_last2=np.mean(data[\"trade_type_last2\"]==3)\n",
    "tt4_last2=np.mean(data[\"trade_type_last2\"]==4)\n",
    "\n",
    "tt2_last3=np.mean(data[\"trade_type_last3\"]==2)\n",
    "tt3_last3=np.mean(data[\"trade_type_last3\"]==3)\n",
    "tt4_last3=np.mean(data[\"trade_type_last3\"]==4)\n",
    "\n",
    "tt2_last4=np.mean(data[\"trade_type_last4\"]==2)\n",
    "tt3_last4=np.mean(data[\"trade_type_last4\"]==3)\n",
    "tt4_last4=np.mean(data[\"trade_type_last4\"]==4)\n",
    "\n",
    "tt2_last5=np.mean(data[\"trade_type_last5\"]==2)\n",
    "tt3_last5=np.mean(data[\"trade_type_last5\"]==3)\n",
    "tt4_last5=np.mean(data[\"trade_type_last5\"]==4)\n",
    "\n",
    "tt2_last6=np.mean(data[\"trade_type_last6\"]==2)\n",
    "tt3_last6=np.mean(data[\"trade_type_last6\"]==3)\n",
    "tt4_last6=np.mean(data[\"trade_type_last6\"]==4)\n",
    "\n",
    "tt2_last7=np.mean(data[\"trade_type_last7\"]==2)\n",
    "tt3_last7=np.mean(data[\"trade_type_last7\"]==3)\n",
    "tt4_last7=np.mean(data[\"trade_type_last7\"]==4)\n",
    "\n",
    "tt2_last8=np.mean(data[\"trade_type_last8\"]==2)\n",
    "tt3_last8=np.mean(data[\"trade_type_last8\"]==3)\n",
    "tt4_last8=np.mean(data[\"trade_type_last8\"]==4)\n",
    "\n",
    "tt2_last9=np.mean(data[\"trade_type_last9\"]==2)\n",
    "tt3_last9=np.mean(data[\"trade_type_last9\"]==3)\n",
    "tt4_last9=np.mean(data[\"trade_type_last9\"]==4)\n",
    "\n",
    "tt2_last10=np.mean(data[\"trade_type_last10\"]==2)\n",
    "tt3_last10=np.mean(data[\"trade_type_last10\"]==3)\n",
    "tt4_last10=np.mean(data[\"trade_type_last10\"]==4)\n",
    "\n",
    "d={\"Cathegories\":[\"2\",\"3\",\"4\"],\"trade_type\":[tt2,tt3,tt4],\"trade_type_last1\":[tt2_last1,tt3_last1,tt4_last1],\n",
    "      \"trade_type_last2\":[tt2_last2,tt3_last2,tt4_last2],\"trade_type_last3\":[tt2_last3,tt3_last3,tt4_last3],\n",
    "      \"trade_type_last4\":[tt2_last4,tt3_last4,tt4_last4],\"trade_type_last5\":[tt2_last5,tt3_last5,tt4_last5],\n",
    "      \"trade_type_last6\":[tt2_last6,tt3_last6,tt4_last6],\"trade_type_last7\":[tt2_last7,tt3_last7,tt4_last7],\n",
    "      \"trade_type_last8\":[tt2_last8,tt3_last8,tt4_last8],\"trade_type_last9\":[tt2_last9,tt3_last9,tt4_last9],\n",
    "      \"trade_type_last10\":[tt2_last10,tt3_last10,tt4_last10]}\n",
    "Balance_summary=pd.DataFrame(d)\n",
    "Balance_summary.set_index(\"Cathegories\",inplace=True)\n",
    "Balance_summary"
   ]
  },
  {
   "cell_type": "markdown",
   "metadata": {},
   "source": [
    "#### From the results above, one can see that type 4 trades are far more frequent than type 2 trades accross all the cathegorical variables. One may consider adjusting the error weights to account for this assymetry in the data. "
   ]
  },
  {
   "cell_type": "markdown",
   "metadata": {},
   "source": [
    "### Distribution of Financial data:\n",
    "The paper claims that financial data in this paper (Prices of different bonds) has normal variability (Page 3 under title Generalized Linear Models). To get to this conclusion, the authors fitted an unweighted generalized linear model (OLS in this case) on the entire data set using two link functions: Normal and Gamma. The OLS with the normal link function is reported to lead to a lower error on test as well as on training sets. We will investigate this claim and check its validity using shapiro normality tests.       "
   ]
  },
  {
   "cell_type": "code",
   "execution_count": 5,
   "metadata": {},
   "outputs": [
    {
     "name": "stderr",
     "output_type": "stream",
     "text": [
      "/Users/Alex/anaconda3/lib/python3.6/site-packages/sklearn/model_selection/_split.py:2026: FutureWarning: From version 0.21, test_size will always complement train_size unless both are specified.\n",
      "  FutureWarning)\n"
     ]
    }
   ],
   "source": [
    "# We need to code the cathegorical variables as dummies to procceed further. this is especially important for PCA\n",
    "df=pd.get_dummies(data,columns=['trade_type','trade_type_last1','trade_type_last2','trade_type_last3','trade_type_last4',\n",
    "                                'trade_type_last5','trade_type_last6','trade_type_last7','trade_type_last8',\n",
    "                               'trade_type_last9','trade_type_last10'])\n",
    "#Get rid of the raws with NaN's\n",
    "df=df.dropna()\n",
    "X=df[['weight','current_coupon','time_to_maturity','is_callable','reporting_delay','trade_size','curve_based_price',\n",
    " 'received_time_diff_last1','trade_price_last1','trade_size_last1','curve_based_price_last1','received_time_diff_last2',\n",
    " 'trade_price_last2','trade_size_last2','curve_based_price_last2','received_time_diff_last3','trade_price_last3',\n",
    " 'trade_size_last3','curve_based_price_last3','received_time_diff_last4','trade_price_last4','trade_size_last4',\n",
    " 'curve_based_price_last4','received_time_diff_last5','trade_price_last5','trade_size_last5','curve_based_price_last5',\n",
    " 'received_time_diff_last6','trade_price_last6','trade_size_last6','curve_based_price_last6','received_time_diff_last7',\n",
    " 'trade_price_last7','trade_size_last7','curve_based_price_last7','received_time_diff_last8','trade_price_last8',\n",
    " 'trade_size_last8','curve_based_price_last8','received_time_diff_last9','trade_price_last9','trade_size_last9',\n",
    " 'curve_based_price_last9','received_time_diff_last10','trade_price_last10','trade_size_last10','curve_based_price_last10',\n",
    " 'trade_type_2','trade_type_3','trade_type_4','trade_type_last1_2','trade_type_last1_3','trade_type_last1_4',\n",
    " 'trade_type_last2_2.0','trade_type_last2_3.0','trade_type_last2_4.0','trade_type_last3_2.0','trade_type_last3_3.0',\n",
    " 'trade_type_last3_4.0','trade_type_last4_2.0','trade_type_last4_3.0','trade_type_last4_4.0','trade_type_last5_2.0',\n",
    " 'trade_type_last5_3.0','trade_type_last5_4.0','trade_type_last6_2.0','trade_type_last6_3.0','trade_type_last6_4.0',\n",
    " 'trade_type_last7_2.0','trade_type_last7_3.0','trade_type_last7_4.0','trade_type_last8_2.0','trade_type_last8_3.0',\n",
    " 'trade_type_last8_4.0','trade_type_last9_2.0','trade_type_last9_3.0','trade_type_last9_4.0','trade_type_last10_2.0',\n",
    " 'trade_type_last10_3.0','trade_type_last10_4.0']]\n",
    "\n",
    "y=df[\"trade_price\"]\n",
    "#Splitting the data-set:\n",
    "X_train, X_test, y_train, y_test=sk.model_selection.train_test_split(X,y,train_size=0.80,random_state=1)"
   ]
  },
  {
   "cell_type": "markdown",
   "metadata": {},
   "source": [
    "#### GLM model with Gamma link function:"
   ]
  },
  {
   "cell_type": "code",
   "execution_count": 8,
   "metadata": {},
   "outputs": [
    {
     "name": "stderr",
     "output_type": "stream",
     "text": [
      "/Users/Alex/anaconda3/lib/python3.6/site-packages/statsmodels/genmod/generalized_linear_model.py:244: DomainWarning: The inverse_power link function does not respect the domain of the Gamma family.\n",
      "  DomainWarning)\n"
     ]
    },
    {
     "name": "stdout",
     "output_type": "stream",
     "text": [
      "                 Generalized Linear Model Regression Results                  \n",
      "==============================================================================\n",
      "Dep. Variable:            trade_price   No. Observations:               596007\n",
      "Model:                            GLM   Df Residuals:                   595937\n",
      "Model Family:                   Gamma   Df Model:                           69\n",
      "Link Function:          inverse_power   Scale:                0.00167093135563\n",
      "Method:                          IRLS   Log-Likelihood:            -2.1163e+06\n",
      "Date:                Sat, 14 Apr 2018   Deviance:                       2384.2\n",
      "Time:                        20:15:41   Pearson chi2:                     996.\n",
      "No. Iterations:                     4                                         \n",
      "=============================================================================================\n",
      "                                coef    std err          z      P>|z|      [0.025      0.975]\n",
      "---------------------------------------------------------------------------------------------\n",
      "weight                      6.54e-06   4.98e-07     13.125      0.000    5.56e-06    7.52e-06\n",
      "current_coupon             4.552e-05    3.4e-07    133.770      0.000    4.49e-05    4.62e-05\n",
      "time_to_maturity           1.043e-05   8.55e-08    122.026      0.000    1.03e-05    1.06e-05\n",
      "is_callable               -6.363e-05   1.93e-06    -33.054      0.000   -6.74e-05   -5.99e-05\n",
      "reporting_delay            6.253e-13   4.81e-13      1.301      0.193   -3.17e-13    1.57e-12\n",
      "trade_size                 7.707e-12   7.27e-13     10.604      0.000    6.28e-12    9.13e-12\n",
      "curve_based_price         -3.729e-05   1.62e-06    -22.963      0.000   -4.05e-05   -3.41e-05\n",
      "received_time_diff_last1  -6.975e-11   7.91e-12     -8.816      0.000   -8.53e-11   -5.42e-11\n",
      "trade_price_last1         -4.041e-05   5.83e-07    -69.286      0.000   -4.16e-05   -3.93e-05\n",
      "trade_size_last1            1.64e-13   7.62e-13      0.215      0.829   -1.33e-12    1.66e-12\n",
      "curve_based_price_last1    1.085e-05   2.22e-06      4.882      0.000    6.49e-06    1.52e-05\n",
      "received_time_diff_last2   7.754e-12   5.38e-12      1.442      0.149   -2.79e-12    1.83e-11\n",
      "trade_price_last2         -1.265e-05   6.25e-07    -20.222      0.000   -1.39e-05   -1.14e-05\n",
      "trade_size_last2           2.157e-12   7.61e-13      2.836      0.005    6.66e-13    3.65e-12\n",
      "curve_based_price_last2    4.574e-06   2.21e-06      2.070      0.038    2.43e-07     8.9e-06\n",
      "received_time_diff_last3   4.021e-12   5.39e-12      0.746      0.456   -6.54e-12    1.46e-11\n",
      "trade_price_last3         -8.728e-06   6.22e-07    -14.025      0.000   -9.95e-06   -7.51e-06\n",
      "trade_size_last3           1.894e-12   7.62e-13      2.486      0.013    4.01e-13    3.39e-12\n",
      "curve_based_price_last3    4.085e-06   2.19e-06      1.861      0.063   -2.16e-07    8.39e-06\n",
      "received_time_diff_last4  -4.365e-12   5.44e-12     -0.802      0.422    -1.5e-11     6.3e-12\n",
      "trade_price_last4         -7.955e-06   6.19e-07    -12.848      0.000   -9.17e-06   -6.74e-06\n",
      "trade_size_last4           1.972e-12   7.63e-13      2.585      0.010    4.77e-13    3.47e-12\n",
      "curve_based_price_last4   -1.377e-06   2.19e-06     -0.630      0.529   -5.66e-06    2.91e-06\n",
      "received_time_diff_last5   1.158e-12    5.5e-12      0.211      0.833   -9.62e-12    1.19e-11\n",
      "trade_price_last5         -6.167e-06   6.19e-07     -9.957      0.000   -7.38e-06   -4.95e-06\n",
      "trade_size_last5           1.705e-12   7.61e-13      2.240      0.025    2.13e-13     3.2e-12\n",
      "curve_based_price_last5    5.095e-06   2.17e-06      2.353      0.019    8.51e-07    9.34e-06\n",
      "received_time_diff_last6   2.915e-12   5.47e-12      0.533      0.594   -7.81e-12    1.36e-11\n",
      "trade_price_last6         -5.773e-06   6.08e-07     -9.498      0.000   -6.96e-06   -4.58e-06\n",
      "trade_size_last6           1.853e-12   7.61e-13      2.433      0.015    3.61e-13    3.35e-12\n",
      "curve_based_price_last6    3.963e-06   2.15e-06      1.842      0.065   -2.53e-07    8.18e-06\n",
      "received_time_diff_last7   8.495e-13   5.45e-12      0.156      0.876   -9.83e-12    1.15e-11\n",
      "trade_price_last7         -6.129e-06   6.15e-07     -9.972      0.000   -7.33e-06   -4.92e-06\n",
      "trade_size_last7           2.138e-12   7.64e-13      2.800      0.005    6.41e-13    3.63e-12\n",
      "curve_based_price_last7    6.167e-06   2.11e-06      2.918      0.004    2.02e-06    1.03e-05\n",
      "received_time_diff_last8  -4.125e-12   5.45e-12     -0.758      0.449   -1.48e-11    6.55e-12\n",
      "trade_price_last8         -4.948e-06   6.12e-07     -8.080      0.000   -6.15e-06   -3.75e-06\n",
      "trade_size_last8            1.89e-12    7.6e-13      2.485      0.013    3.99e-13    3.38e-12\n",
      "curve_based_price_last8    6.075e-07    2.1e-06      0.289      0.773   -3.51e-06    4.73e-06\n",
      "received_time_diff_last9   1.766e-12   5.48e-12      0.322      0.747   -8.97e-12    1.25e-11\n",
      "trade_price_last9         -7.773e-06   6.01e-07    -12.943      0.000   -8.95e-06    -6.6e-06\n",
      "trade_size_last9           2.012e-12    7.6e-13      2.645      0.008    5.21e-13     3.5e-12\n",
      "curve_based_price_last9    8.415e-06    2.1e-06      4.016      0.000    4.31e-06    1.25e-05\n",
      "received_time_diff_last10  1.624e-11   3.91e-12      4.159      0.000    8.59e-12    2.39e-11\n",
      "trade_price_last10         -9.46e-06   5.62e-07    -16.827      0.000   -1.06e-05   -8.36e-06\n",
      "trade_size_last10          2.846e-12   7.25e-13      3.923      0.000    1.42e-12    4.27e-12\n",
      "curve_based_price_last10   4.887e-06   1.53e-06      3.188      0.001    1.88e-06    7.89e-06\n",
      "trade_type_2                  0.0019   1.07e-06   1731.879      0.000       0.002       0.002\n",
      "trade_type_3                  0.0017   9.13e-07   1895.090      0.000       0.002       0.002\n",
      "trade_type_4                  0.0018   8.93e-07   2022.611      0.000       0.002       0.002\n",
      "trade_type_last1_2            0.0018   1.12e-06   1602.404      0.000       0.002       0.002\n",
      "trade_type_last1_3            0.0018   9.91e-07   1822.138      0.000       0.002       0.002\n",
      "trade_type_last1_4            0.0018   8.98e-07   1999.113      0.000       0.002       0.002\n",
      "trade_type_last2_2.0          0.0018   1.12e-06   1606.576      0.000       0.002       0.002\n",
      "trade_type_last2_3.0          0.0018   9.96e-07   1807.653      0.000       0.002       0.002\n",
      "trade_type_last2_4.0          0.0018   8.94e-07   2010.527      0.000       0.002       0.002\n",
      "trade_type_last3_2.0          0.0018   1.12e-06   1607.201      0.000       0.002       0.002\n",
      "trade_type_last3_3.0          0.0018   9.96e-07   1804.215      0.000       0.002       0.002\n",
      "trade_type_last3_4.0          0.0018   8.94e-07   2009.912      0.000       0.002       0.002\n",
      "trade_type_last4_2.0          0.0018   1.12e-06   1609.575      0.000       0.002       0.002\n",
      "trade_type_last4_3.0          0.0018   9.97e-07   1802.199      0.000       0.002       0.002\n",
      "trade_type_last4_4.0          0.0018   8.95e-07   2008.077      0.000       0.002       0.002\n",
      "trade_type_last5_2.0          0.0018   1.12e-06   1610.292      0.000       0.002       0.002\n",
      "trade_type_last5_3.0          0.0018   9.97e-07   1800.083      0.000       0.002       0.002\n",
      "trade_type_last5_4.0          0.0018   8.95e-07   2008.156      0.000       0.002       0.002\n",
      "trade_type_last6_2.0          0.0018   1.12e-06   1612.953      0.000       0.002       0.002\n",
      "trade_type_last6_3.0          0.0018   9.94e-07   1805.164      0.000       0.002       0.002\n",
      "trade_type_last6_4.0          0.0018   8.96e-07   2007.481      0.000       0.002       0.002\n",
      "trade_type_last7_2.0          0.0018   1.12e-06   1612.866      0.000       0.002       0.002\n",
      "trade_type_last7_3.0          0.0018   9.96e-07   1802.067      0.000       0.002       0.002\n",
      "trade_type_last7_4.0          0.0018   8.95e-07   2009.766      0.000       0.002       0.002\n",
      "trade_type_last8_2.0          0.0018   1.12e-06   1615.392      0.000       0.002       0.002\n",
      "trade_type_last8_3.0          0.0018   9.95e-07   1803.859      0.000       0.002       0.002\n",
      "trade_type_last8_4.0          0.0018   8.94e-07   2012.249      0.000       0.002       0.002\n",
      "trade_type_last9_2.0          0.0018   1.11e-06   1619.984      0.000       0.002       0.002\n",
      "trade_type_last9_3.0          0.0018   9.91e-07   1812.084      0.000       0.002       0.002\n",
      "trade_type_last9_4.0          0.0018   8.93e-07   2013.949      0.000       0.002       0.002\n",
      "trade_type_last10_2.0         0.0018   1.11e-06   1625.327      0.000       0.002       0.002\n",
      "trade_type_last10_3.0         0.0018   9.89e-07   1817.137      0.000       0.002       0.002\n",
      "trade_type_last10_4.0         0.0018   8.88e-07   2022.895      0.000       0.002       0.002\n",
      "=============================================================================================\n"
     ]
    }
   ],
   "source": [
    "lmout_gamma = sm.GLM(y_train,X_train, family=sm.families.Gamma()).fit()\n",
    "print(lmout_gamma.summary())"
   ]
  },
  {
   "cell_type": "code",
   "execution_count": 9,
   "metadata": {},
   "outputs": [
    {
     "name": "stdout",
     "output_type": "stream",
     "text": [
      "                 Generalized Linear Model Regression Results                  \n",
      "==============================================================================\n",
      "Dep. Variable:            trade_price   No. Observations:               596007\n",
      "Model:                            GLM   Df Residuals:                   595937\n",
      "Model Family:                Gaussian   Df Model:                           69\n",
      "Link Function:               identity   Scale:                  0.779847297705\n",
      "Method:                          IRLS   Log-Likelihood:            -7.7156e+05\n",
      "Date:                Sat, 14 Apr 2018   Deviance:                   4.6474e+05\n",
      "Time:                        20:16:23   Pearson chi2:                 4.65e+05\n",
      "No. Iterations:                     2                                         \n",
      "=============================================================================================\n",
      "                                coef    std err          z      P>|z|      [0.025      0.975]\n",
      "---------------------------------------------------------------------------------------------\n",
      "weight                        0.0091      0.001      8.077      0.000       0.007       0.011\n",
      "current_coupon                0.0027      0.001      3.673      0.000       0.001       0.004\n",
      "time_to_maturity              0.0019      0.000      9.968      0.000       0.002       0.002\n",
      "is_callable                   0.0109      0.004      2.654      0.008       0.003       0.019\n",
      "reporting_delay           -1.919e-08   1.08e-09    -17.695      0.000   -2.13e-08   -1.71e-08\n",
      "trade_size                -5.075e-08   1.67e-09    -30.397      0.000    -5.4e-08   -4.75e-08\n",
      "curve_based_price             0.4116      0.004    108.709      0.000       0.404       0.419\n",
      "received_time_diff_last1  -1.989e-07   1.78e-08    -11.152      0.000   -2.34e-07   -1.64e-07\n",
      "trade_price_last1             0.3886      0.001    300.913      0.000       0.386       0.391\n",
      "trade_size_last1            1.85e-08   1.75e-09     10.561      0.000    1.51e-08    2.19e-08\n",
      "curve_based_price_last1      -0.1050      0.005    -20.219      0.000      -0.115      -0.095\n",
      "received_time_diff_last2  -5.504e-08   1.21e-08     -4.541      0.000   -7.88e-08   -3.13e-08\n",
      "trade_price_last2             0.1084      0.001     76.905      0.000       0.106       0.111\n",
      "trade_size_last2          -2.902e-10   1.75e-09     -0.166      0.868   -3.72e-09    3.14e-09\n",
      "curve_based_price_last2      -0.0120      0.005     -2.306      0.021      -0.022      -0.002\n",
      "received_time_diff_last3  -1.836e-08   1.21e-08     -1.511      0.131   -4.22e-08    5.45e-09\n",
      "trade_price_last3             0.0707      0.001     50.402      0.000       0.068       0.073\n",
      "trade_size_last3           1.713e-09   1.75e-09      0.976      0.329   -1.73e-09    5.15e-09\n",
      "curve_based_price_last3      -0.0230      0.005     -4.456      0.000      -0.033      -0.013\n",
      "received_time_diff_last4   4.834e-08   1.23e-08      3.940      0.000    2.43e-08    7.24e-08\n",
      "trade_price_last4             0.0578      0.001     41.506      0.000       0.055       0.061\n",
      "trade_size_last4           5.003e-10   1.76e-09      0.285      0.776   -2.94e-09    3.94e-09\n",
      "curve_based_price_last4      -0.0116      0.005     -2.256      0.024      -0.022      -0.002\n",
      "received_time_diff_last5   -2.32e-08   1.24e-08     -1.873      0.061   -4.75e-08    1.08e-09\n",
      "trade_price_last5             0.0453      0.001     32.564      0.000       0.043       0.048\n",
      "trade_size_last5           1.479e-09   1.75e-09      0.843      0.399   -1.96e-09    4.91e-09\n",
      "curve_based_price_last5      -0.0319      0.005     -6.263      0.000      -0.042      -0.022\n",
      "received_time_diff_last6   7.688e-09   1.23e-08      0.623      0.534   -1.65e-08    3.19e-08\n",
      "trade_price_last6             0.0379      0.001     27.542      0.000       0.035       0.041\n",
      "trade_size_last6            1.13e-09   1.75e-09      0.645      0.519   -2.31e-09    4.57e-09\n",
      "curve_based_price_last6      -0.0100      0.005     -1.982      0.048      -0.020      -0.000\n",
      "received_time_diff_last7  -2.748e-08   1.23e-08     -2.233      0.026   -5.16e-08   -3.36e-09\n",
      "trade_price_last7             0.0359      0.001     25.794      0.000       0.033       0.039\n",
      "trade_size_last7           7.209e-10   1.76e-09      0.410      0.682   -2.73e-09    4.17e-09\n",
      "curve_based_price_last7      -0.0232      0.005     -4.646      0.000      -0.033      -0.013\n",
      "received_time_diff_last8    1.79e-08   1.23e-08      1.454      0.146   -6.23e-09     4.2e-08\n",
      "trade_price_last8             0.0274      0.001     19.763      0.000       0.025       0.030\n",
      "trade_size_last8           1.656e-09   1.75e-09      0.945      0.345   -1.78e-09    5.09e-09\n",
      "curve_based_price_last8      -0.0036      0.005     -0.729      0.466      -0.013       0.006\n",
      "received_time_diff_last9   1.145e-08   1.24e-08      0.925      0.355   -1.28e-08    3.57e-08\n",
      "trade_price_last9             0.0435      0.001     32.009      0.000       0.041       0.046\n",
      "trade_size_last9           1.894e-09   1.75e-09      1.081      0.280   -1.54e-09    5.33e-09\n",
      "curve_based_price_last9      -0.0379      0.005     -7.650      0.000      -0.048      -0.028\n",
      "received_time_diff_last10  1.155e-08   8.82e-09      1.310      0.190   -5.73e-09    2.88e-08\n",
      "trade_price_last10            0.0387      0.001     30.549      0.000       0.036       0.041\n",
      "trade_size_last10          1.767e-09   1.67e-09      1.058      0.290   -1.51e-09    5.04e-09\n",
      "curve_based_price_last10     -0.0097      0.004     -2.698      0.007      -0.017      -0.003\n",
      "trade_type_2                 -0.5604      0.002   -232.043      0.000      -0.565      -0.556\n",
      "trade_type_3                  0.6626      0.002    323.674      0.000       0.659       0.667\n",
      "trade_type_4                 -0.0428      0.002    -21.488      0.000      -0.047      -0.039\n",
      "trade_type_last1_2            0.1222      0.003     48.406      0.000       0.117       0.127\n",
      "trade_type_last1_3           -0.1318      0.002    -59.368      0.000      -0.136      -0.127\n",
      "trade_type_last1_4            0.0690      0.002     34.405      0.000       0.065       0.073\n",
      "trade_type_last2_2.0          0.0977      0.003     38.643      0.000       0.093       0.103\n",
      "trade_type_last2_3.0         -0.0677      0.002    -30.287      0.000      -0.072      -0.063\n",
      "trade_type_last2_4.0          0.0295      0.002     14.743      0.000       0.026       0.033\n",
      "trade_type_last3_2.0          0.0756      0.003     29.882      0.000       0.071       0.081\n",
      "trade_type_last3_3.0         -0.0416      0.002    -18.611      0.000      -0.046      -0.037\n",
      "trade_type_last3_4.0          0.0254      0.002     12.717      0.000       0.022       0.029\n",
      "trade_type_last4_2.0          0.0667      0.003     26.374      0.000       0.062       0.072\n",
      "trade_type_last4_3.0         -0.0313      0.002    -13.975      0.000      -0.036      -0.027\n",
      "trade_type_last4_4.0          0.0240      0.002     11.999      0.000       0.020       0.028\n",
      "trade_type_last5_2.0          0.0565      0.003     22.373      0.000       0.052       0.061\n",
      "trade_type_last5_3.0         -0.0176      0.002     -7.845      0.000      -0.022      -0.013\n",
      "trade_type_last5_4.0          0.0204      0.002     10.213      0.000       0.017       0.024\n",
      "trade_type_last6_2.0          0.0459      0.003     18.171      0.000       0.041       0.051\n",
      "trade_type_last6_3.0         -0.0117      0.002     -5.247      0.000      -0.016      -0.007\n",
      "trade_type_last6_4.0          0.0252      0.002     12.604      0.000       0.021       0.029\n",
      "trade_type_last7_2.0          0.0431      0.003     17.045      0.000       0.038       0.048\n",
      "trade_type_last7_3.0         -0.0083      0.002     -3.715      0.000      -0.013      -0.004\n",
      "trade_type_last7_4.0          0.0247      0.002     12.337      0.000       0.021       0.029\n",
      "trade_type_last8_2.0          0.0427      0.003     16.923      0.000       0.038       0.048\n",
      "trade_type_last8_3.0         -0.0044      0.002     -1.984      0.047      -0.009   -5.48e-05\n",
      "trade_type_last8_4.0          0.0212      0.002     10.598      0.000       0.017       0.025\n",
      "trade_type_last9_2.0          0.0547      0.003     21.748      0.000       0.050       0.060\n",
      "trade_type_last9_3.0         -0.0156      0.002     -7.017      0.000      -0.020      -0.011\n",
      "trade_type_last9_4.0          0.0204      0.002     10.207      0.000       0.016       0.024\n",
      "trade_type_last10_2.0         0.0471      0.003     18.813      0.000       0.042       0.052\n",
      "trade_type_last10_3.0        -0.0103      0.002     -4.662      0.000      -0.015      -0.006\n",
      "trade_type_last10_4.0         0.0226      0.002     11.386      0.000       0.019       0.027\n",
      "=============================================================================================\n"
     ]
    }
   ],
   "source": [
    "lmout_Gaussian = sm.GLM(y_train,X_train, family=sm.families.Gaussian()).fit()\n",
    "print(lmout_Gaussian.summary())"
   ]
  },
  {
   "cell_type": "code",
   "execution_count": 10,
   "metadata": {
    "collapsed": true
   },
   "outputs": [],
   "source": [
    "yhat_Gaussian_train=lmout_Gaussian.predict(X_train)\n",
    "yhat_Gamma_train=lmout_gamma.predict(X_train)\n",
    "yhat_Gaussian_test=lmout_Gaussian.predict(X_test)\n",
    "yhat_Gamma_test=lmout_gamma.predict(X_test)"
   ]
  },
  {
   "cell_type": "code",
   "execution_count": 11,
   "metadata": {},
   "outputs": [
    {
     "data": {
      "text/html": [
       "<div>\n",
       "<style>\n",
       "    .dataframe thead tr:only-child th {\n",
       "        text-align: right;\n",
       "    }\n",
       "\n",
       "    .dataframe thead th {\n",
       "        text-align: left;\n",
       "    }\n",
       "\n",
       "    .dataframe tbody tr th {\n",
       "        vertical-align: top;\n",
       "    }\n",
       "</style>\n",
       "<table border=\"1\" class=\"dataframe\">\n",
       "  <thead>\n",
       "    <tr style=\"text-align: right;\">\n",
       "      <th></th>\n",
       "      <th>Test</th>\n",
       "      <th>Train</th>\n",
       "    </tr>\n",
       "    <tr>\n",
       "      <th>Link Function</th>\n",
       "      <th></th>\n",
       "      <th></th>\n",
       "    </tr>\n",
       "  </thead>\n",
       "  <tbody>\n",
       "    <tr>\n",
       "      <th>Gamma</th>\n",
       "      <td>15.992171</td>\n",
       "      <td>15.365457</td>\n",
       "    </tr>\n",
       "    <tr>\n",
       "      <th>Gaussian</th>\n",
       "      <td>2.027309</td>\n",
       "      <td>1.678571</td>\n",
       "    </tr>\n",
       "  </tbody>\n",
       "</table>\n",
       "</div>"
      ],
      "text/plain": [
       "                    Test      Train\n",
       "Link Function                      \n",
       "Gamma          15.992171  15.365457\n",
       "Gaussian        2.027309   1.678571"
      ]
     },
     "execution_count": 11,
     "metadata": {},
     "output_type": "execute_result"
    }
   ],
   "source": [
    "#WEPS is a function to calculate the weighted errors (Metric used by the authors of the paper)\n",
    "def WEPS(w,y_hat,y):\n",
    "    return((w*(y_hat-y)**2).sum()/w.sum()) \n",
    "w_train=X_train[\"weight\"]\n",
    "w_test=X_test[\"weight\"]\n",
    "\n",
    "WEPS_Gaussian_train=WEPS(w_train,yhat_Gaussian_train,y_train)\n",
    "WEPS_Gamma_train=WEPS(w_train,yhat_Gamma_train,y_train)\n",
    "\n",
    "WEPS_Gaussian_test=WEPS(w_test,yhat_Gaussian_test,y_test)\n",
    "WEPS_Gamma_test=WEPS(w_test,yhat_Gamma_test,y_test)\n",
    "\n",
    "#Summary:\n",
    "d={\"Link Function\":[\"Gamma\",\"Gaussian\"],\"Train\":[WEPS_Gamma_train,WEPS_Gaussian_train],\n",
    "   \"Test\":[WEPS_Gamma_test,WEPS_Gaussian_test]}\n",
    "summary=pd.DataFrame(d)\n",
    "summary.set_index(\"Link Function\",inplace=True)\n",
    "summary"
   ]
  },
  {
   "cell_type": "markdown",
   "metadata": {},
   "source": [
    "The results summarized on the table above confirm that if we use the weighted Error in Prediction per Sample (WEPS) as a metric to convey the errors, GLM with the Gaussian Link function gives much better results than the one with the Gamma link function. This also implies that the weighted residual errors are normally distributed. We will investigate this further by making a normality plot for weighted residuals and will also use the shapiro normality test. "
   ]
  },
  {
   "cell_type": "code",
   "execution_count": 12,
   "metadata": {},
   "outputs": [
    {
     "data": {
      "image/png": "[encoded data removed]",
      "text/plain": [
       "<matplotlib.figure.Figure at 0x10e11f2e8>"
      ]
     },
     "metadata": {},
     "output_type": "display_data"
    }
   ],
   "source": [
    "#We are using the test set here\n",
    "import matplotlib.pyplot as plt\n",
    "import pylab\n",
    "import scipy.stats as stats\n",
    "import matplotlib\n",
    "matplotlib.rcParams['figure.figsize'] = (15,10)\n",
    "weighted_residuals_Gaussian=(yhat_Gaussian_test-y_test)*w_test\n",
    "plt.subplot(1, 2 ,1)\n",
    "a=stats.probplot(weighted_residuals_Gaussian, dist=\"norm\", plot=pylab)\n",
    "mu=np.mean(weighted_residuals_Gaussian)\n",
    "sigma=np.std(weighted_residuals_Gaussian)\n",
    "norm_sample= np.random.normal(mu,sigma,size=10000) \n",
    "plt.subplot(1, 2,2)\n",
    "b=stats.probplot(norm_sample, dist=\"norm\", plot=pylab)\n",
    "\n",
    "plt.show()\n"
   ]
  },
  {
   "cell_type": "markdown",
   "metadata": {},
   "source": [
    "### Comments:\n",
    "#### Left Graph:Probability plot of our weighted residual errors using Gaussian Link function\n",
    "#### Right Graph: Probability plot of a sample of 1000 normaly distributed variable with the same sample mean and standard deviation as our Weighted residual errors.\n",
    "\n",
    "One can see that the the graph on the left has a much heavier tail than the normally distributed variable. We conclude that the distribution of  wieghted residual errors obtained from a GLM with gaussian link function have a much heavier tail than a normally distributed variable with same mu and sigma."
   ]
  },
  {
   "cell_type": "markdown",
   "metadata": {},
   "source": [
    "#### Normality test:"
   ]
  },
  {
   "cell_type": "code",
   "execution_count": 13,
   "metadata": {},
   "outputs": [
    {
     "data": {
      "text/plain": [
       "NormaltestResult(statistic=239503.78574267958, pvalue=0.0)"
      ]
     },
     "execution_count": 13,
     "metadata": {},
     "output_type": "execute_result"
    }
   ],
   "source": [
    "stats.mstats.normaltest(weighted_residuals_Gaussian)"
   ]
  },
  {
   "cell_type": "code",
   "execution_count": 14,
   "metadata": {},
   "outputs": [
    {
     "data": {
      "text/plain": [
       "NormaltestResult(statistic=0.39580728770290963, pvalue=0.82044890462574926)"
      ]
     },
     "execution_count": 14,
     "metadata": {},
     "output_type": "execute_result"
    }
   ],
   "source": [
    "stats.mstats.normaltest(norm_sample)"
   ]
  },
  {
   "cell_type": "markdown",
   "metadata": {},
   "source": [
    "The result of the qqplot is confirmed by the normality test. p-value is 0 so we reject the null hypothesis that states that the distribution of the weighted_residuals is gaussian."
   ]
  },
  {
   "cell_type": "markdown",
   "metadata": {},
   "source": [
    "#### Fitted_Values vs. Residuals:"
   ]
  },
  {
   "cell_type": "code",
   "execution_count": 15,
   "metadata": {},
   "outputs": [
    {
     "data": {
      "image/png": "[encoded data removed]",
      "text/plain": [
       "<matplotlib.figure.Figure at 0x10d59df98>"
      ]
     },
     "metadata": {},
     "output_type": "display_data"
    }
   ],
   "source": [
    "plt.scatter(yhat_Gaussian_test,weighted_residuals_Gaussian)\n",
    "plt.title(\"Weighted Residuals vs. Fitted Values\")\n",
    "plt.xlabel(\"Fitted Values\")\n",
    "plt.ylabel(\"Weighted Residuals\")\n",
    "plt.show()"
   ]
  },
  {
   "cell_type": "markdown",
   "metadata": {},
   "source": [
    "From the plot above, there should be a concern about heteroskedasticity. Although it does not bias our coefficients, It alters the acuracy of our standard errors. We will explore this issue later."
   ]
  },
  {
   "cell_type": "markdown",
   "metadata": {},
   "source": [
    "### PCA Analysis:"
   ]
  },
  {
   "cell_type": "markdown",
   "metadata": {},
   "source": [
    "#### PCA based on linear Distances:"
   ]
  },
  {
   "cell_type": "code",
   "execution_count": 10,
   "metadata": {
    "collapsed": true
   },
   "outputs": [],
   "source": [
    "from sklearn import decomposition\n",
    "pca=sk.decomposition.PCA(whiten=True,svd_solver=\"randomized\")\n",
    "res_reg=pca.fit(X_train) "
   ]
  },
  {
   "cell_type": "code",
   "execution_count": 11,
   "metadata": {},
   "outputs": [
    {
     "name": "stdout",
     "output_type": "stream",
     "text": [
      "[ 0.212288  0.170178  0.118753  0.083348  0.069256  0.058503  0.051033\n",
      "  0.045059  0.040516  0.036762  0.03437   0.031855  0.030157  0.008987\n",
      "  0.003066  0.001659  0.001095  0.000806  0.000659  0.00058   0.000539\n",
      "  0.000533  0.        0.        0.        0.        0.        0.        0.\n",
      "  0.        0.        0.        0.        0.        0.        0.        0.\n",
      "  0.        0.        0.        0.        0.        0.        0.        0.\n",
      "  0.        0.        0.        0.        0.        0.        0.        0.\n",
      "  0.        0.        0.        0.        0.        0.        0.        0.\n",
      "  0.        0.        0.        0.        0.        0.        0.        0.\n",
      "  0.        0.        0.        0.        0.        0.        0.        0.\n",
      "  0.        0.        0.      ]\n"
     ]
    }
   ],
   "source": [
    "np.set_printoptions(precision=6, threshold=None, edgeitems=None, linewidth=None,suppress=True)\n",
    "print(np.array(res_reg.explained_variance_ratio_))"
   ]
  },
  {
   "cell_type": "markdown",
   "metadata": {},
   "source": [
    "Comment:\n",
    "according to PCA, We need 22 prin comp to capture almost 100% of the variability. "
   ]
  },
  {
   "cell_type": "code",
   "execution_count": 1,
   "metadata": {
    "collapsed": true
   },
   "outputs": [],
   "source": [
    "# Unfortunately Kernel PCA kills this session! My RAM is not as powerful to run a poly PCA"
   ]
  },
  {
   "cell_type": "markdown",
   "metadata": {},
   "source": [
    "#### Exploring variable importance using Random forest:\n",
    "This is on a sample of first 1000 rows just to make sure that it works"
   ]
  },
  {
   "cell_type": "code",
   "execution_count": 8,
   "metadata": {},
   "outputs": [
    {
     "name": "stdout",
     "output_type": "stream",
     "text": [
      "The rpy2.ipython extension is already loaded. To reload it, use:\n",
      "  %reload_ext rpy2.ipython\n"
     ]
    }
   ],
   "source": [
    "import rpy2\n",
    "%load_ext rpy2.ipython\n",
    "yy=np.asarray(y_train)\n",
    "yy=yy.astype(float)\n",
    "X_train=X_train.astype(float)\n",
    "x_sub=X_train[0:1000]\n",
    "yy_sub=yy[0:1000]"
   ]
  },
  {
   "cell_type": "code",
   "execution_count": 9,
   "metadata": {
    "collapsed": true
   },
   "outputs": [],
   "source": [
    "%%capture\n",
    "%%R -i X_train -i x_sub -i yy -i yy_sub \n",
    "library(randomForest)\n",
    "fitrfR = randomForest(x_sub,yy_sub,nodesize=10,ntree=200)\n",
    "fitrfR"
   ]
  },
  {
   "cell_type": "code",
   "execution_count": 10,
   "metadata": {},
   "outputs": [
    {
     "data": {
      "image/png": "[encoded data removed]"
     },
     "metadata": {},
     "output_type": "display_data"
    }
   ],
   "source": [
    "%%R\n",
    "varImpPlot(fitrfR)"
   ]
  },
  {
   "cell_type": "markdown",
   "metadata": {},
   "source": [
    "#### Exploring data using Lasso:"
   ]
  },
  {
   "cell_type": "code",
   "execution_count": 12,
   "metadata": {},
   "outputs": [],
   "source": [
    "from sklearn.linear_model import LassoCV"
   ]
  },
  {
   "cell_type": "code",
   "execution_count": 14,
   "metadata": {},
   "outputs": [
    {
     "name": "stderr",
     "output_type": "stream",
     "text": [
      "/Users/Alex/anaconda3/lib/python3.6/site-packages/sklearn/linear_model/coordinate_descent.py:491: ConvergenceWarning: Objective did not converge. You might want to increase the number of iterations. Fitting data with very small alpha may cause precision problems.\n",
      "  ConvergenceWarning)\n"
     ]
    }
   ],
   "source": [
    "lasso_out=LassoCV(normalize=True, cv=5,  random_state=1).fit(X_train,y_train)"
   ]
  },
  {
   "cell_type": "code",
   "execution_count": 40,
   "metadata": {},
   "outputs": [
    {
     "data": {
      "text/plain": [
       "['current_coupon',\n",
       " 'time_to_maturity',\n",
       " 'reporting_delay',\n",
       " 'trade_size',\n",
       " 'curve_based_price',\n",
       " 'received_time_diff_last1',\n",
       " 'trade_price_last1',\n",
       " 'trade_price_last2',\n",
       " 'trade_price_last3',\n",
       " 'trade_price_last4',\n",
       " 'trade_price_last5',\n",
       " 'trade_price_last6',\n",
       " 'trade_price_last7',\n",
       " 'trade_price_last8',\n",
       " 'trade_price_last9',\n",
       " 'trade_price_last10',\n",
       " 'trade_type_2',\n",
       " 'trade_type_3',\n",
       " 'trade_type_last1_2',\n",
       " 'trade_type_last1_3',\n",
       " 'trade_type_last2_2.0',\n",
       " 'trade_type_last2_3.0',\n",
       " 'trade_type_last3_2.0',\n",
       " 'trade_type_last3_3.0',\n",
       " 'trade_type_last4_2.0',\n",
       " 'trade_type_last4_3.0',\n",
       " 'trade_type_last5_2.0',\n",
       " 'trade_type_last5_3.0',\n",
       " 'trade_type_last6_2.0',\n",
       " 'trade_type_last6_3.0',\n",
       " 'trade_type_last7_2.0',\n",
       " 'trade_type_last7_3.0',\n",
       " 'trade_type_last8_2.0',\n",
       " 'trade_type_last8_3.0',\n",
       " 'trade_type_last9_2.0',\n",
       " 'trade_type_last9_3.0',\n",
       " 'trade_type_last10_2.0',\n",
       " 'trade_type_last10_3.0']"
      ]
     },
     "execution_count": 40,
     "metadata": {},
     "output_type": "execute_result"
    }
   ],
   "source": [
    "from itertools import compress\n",
    "all_coef=list(X_train)\n",
    "fil = (lasso_out.coef_!=0).tolist()\n",
    "list(compress(all_coef, fil))"
   ]
  },
  {
   "cell_type": "markdown",
   "metadata": {},
   "source": [
    "#### Conclusion:\n",
    "LassoCV uses 38 covariates\n",
    "Regression Random forest importance plot indicates that 21 covariates are important\n",
    "PCA returns 22 Principal components necessary to capture 99.9% of the variability"
   ]
  },
  {
   "cell_type": "code",
   "execution_count": null,
   "metadata": {
    "collapsed": true
   },
   "outputs": [],
   "source": []
  },
  {
   "cell_type": "code",
   "execution_count": null,
   "metadata": {
    "collapsed": true
   },
   "outputs": [],
   "source": []
  }
 ],
 "metadata": {
  "kernelspec": {
   "display_name": "Python 3",
   "language": "python",
   "name": "python3"
  },
  "language_info": {
   "codemirror_mode": {
    "name": "ipython",
    "version": 3
   },
   "file_extension": ".py",
   "mimetype": "text/x-python",
   "name": "python",
   "nbconvert_exporter": "python",
   "pygments_lexer": "ipython3",
   "version": "3.6.3"
  }
 },
 "nbformat": 4,
 "nbformat_minor": 2
}
