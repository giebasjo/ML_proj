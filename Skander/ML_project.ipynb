{
 "cells": [
  {
   "cell_type": "markdown",
   "metadata": {},
   "source": [
    "## Preliminary data analysis:"
   ]
  },
  {
   "cell_type": "code",
   "execution_count": 1,
   "metadata": {},
   "outputs": [
    {
     "name": "stderr",
     "output_type": "stream",
     "text": [
      "/Users/Alex/anaconda3/lib/python3.6/site-packages/statsmodels/compat/pandas.py:56: FutureWarning: The pandas.core.datetools module is deprecated and will be removed in a future version. Please use the pandas.tseries module instead.\n",
      "  from pandas.core import datetools\n"
     ]
    }
   ],
   "source": [
    "import pandas as pd\n",
    "import numpy as np\n",
    "import sklearn as sk\n",
    "import scipy as sp\n",
    "from scipy import stats\n",
    "import statsmodels.api as sm\n",
    "from sklearn import model_selection\n",
    "from sklearn import preprocessing\n",
    "import math"
   ]
  },
  {
   "cell_type": "code",
   "execution_count": 2,
   "metadata": {},
   "outputs": [
    {
     "data": {
      "text/html": [
       "<div>\n",
       "<style>\n",
       "    .dataframe thead tr:only-child th {\n",
       "        text-align: right;\n",
       "    }\n",
       "\n",
       "    .dataframe thead th {\n",
       "        text-align: left;\n",
       "    }\n",
       "\n",
       "    .dataframe tbody tr th {\n",
       "        vertical-align: top;\n",
       "    }\n",
       "</style>\n",
       "<table border=\"1\" class=\"dataframe\">\n",
       "  <thead>\n",
       "    <tr style=\"text-align: right;\">\n",
       "      <th></th>\n",
       "      <th>id</th>\n",
       "      <th>bond_id</th>\n",
       "      <th>trade_price</th>\n",
       "      <th>weight</th>\n",
       "      <th>current_coupon</th>\n",
       "      <th>time_to_maturity</th>\n",
       "      <th>is_callable</th>\n",
       "      <th>reporting_delay</th>\n",
       "      <th>trade_size</th>\n",
       "      <th>trade_type</th>\n",
       "      <th>...</th>\n",
       "      <th>received_time_diff_last9</th>\n",
       "      <th>trade_price_last9</th>\n",
       "      <th>trade_size_last9</th>\n",
       "      <th>trade_type_last9</th>\n",
       "      <th>curve_based_price_last9</th>\n",
       "      <th>received_time_diff_last10</th>\n",
       "      <th>trade_price_last10</th>\n",
       "      <th>trade_size_last10</th>\n",
       "      <th>trade_type_last10</th>\n",
       "      <th>curve_based_price_last10</th>\n",
       "    </tr>\n",
       "  </thead>\n",
       "  <tbody>\n",
       "    <tr>\n",
       "      <th>0</th>\n",
       "      <td>1</td>\n",
       "      <td>1</td>\n",
       "      <td>128.596</td>\n",
       "      <td>11.316404</td>\n",
       "      <td>5.95</td>\n",
       "      <td>26.031126</td>\n",
       "      <td>0</td>\n",
       "      <td>1.731</td>\n",
       "      <td>120000</td>\n",
       "      <td>2</td>\n",
       "      <td>...</td>\n",
       "      <td>NaN</td>\n",
       "      <td>NaN</td>\n",
       "      <td>NaN</td>\n",
       "      <td>NaN</td>\n",
       "      <td>NaN</td>\n",
       "      <td>NaN</td>\n",
       "      <td>NaN</td>\n",
       "      <td>NaN</td>\n",
       "      <td>NaN</td>\n",
       "      <td>NaN</td>\n",
       "    </tr>\n",
       "    <tr>\n",
       "      <th>1</th>\n",
       "      <td>2</td>\n",
       "      <td>1</td>\n",
       "      <td>126.673</td>\n",
       "      <td>8.763446</td>\n",
       "      <td>5.95</td>\n",
       "      <td>26.016697</td>\n",
       "      <td>0</td>\n",
       "      <td>30.518</td>\n",
       "      <td>85000</td>\n",
       "      <td>4</td>\n",
       "      <td>...</td>\n",
       "      <td>NaN</td>\n",
       "      <td>NaN</td>\n",
       "      <td>NaN</td>\n",
       "      <td>NaN</td>\n",
       "      <td>NaN</td>\n",
       "      <td>NaN</td>\n",
       "      <td>NaN</td>\n",
       "      <td>NaN</td>\n",
       "      <td>NaN</td>\n",
       "      <td>NaN</td>\n",
       "    </tr>\n",
       "    <tr>\n",
       "      <th>2</th>\n",
       "      <td>3</td>\n",
       "      <td>1</td>\n",
       "      <td>126.880</td>\n",
       "      <td>6.499730</td>\n",
       "      <td>5.95</td>\n",
       "      <td>26.008760</td>\n",
       "      <td>0</td>\n",
       "      <td>4.424</td>\n",
       "      <td>4200000</td>\n",
       "      <td>3</td>\n",
       "      <td>...</td>\n",
       "      <td>NaN</td>\n",
       "      <td>NaN</td>\n",
       "      <td>NaN</td>\n",
       "      <td>NaN</td>\n",
       "      <td>NaN</td>\n",
       "      <td>NaN</td>\n",
       "      <td>NaN</td>\n",
       "      <td>NaN</td>\n",
       "      <td>NaN</td>\n",
       "      <td>NaN</td>\n",
       "    </tr>\n",
       "    <tr>\n",
       "      <th>3</th>\n",
       "      <td>4</td>\n",
       "      <td>1</td>\n",
       "      <td>126.362</td>\n",
       "      <td>0.865854</td>\n",
       "      <td>5.95</td>\n",
       "      <td>26.008619</td>\n",
       "      <td>0</td>\n",
       "      <td>43.059</td>\n",
       "      <td>5000001</td>\n",
       "      <td>2</td>\n",
       "      <td>...</td>\n",
       "      <td>NaN</td>\n",
       "      <td>NaN</td>\n",
       "      <td>NaN</td>\n",
       "      <td>NaN</td>\n",
       "      <td>NaN</td>\n",
       "      <td>NaN</td>\n",
       "      <td>NaN</td>\n",
       "      <td>NaN</td>\n",
       "      <td>NaN</td>\n",
       "      <td>NaN</td>\n",
       "    </tr>\n",
       "    <tr>\n",
       "      <th>4</th>\n",
       "      <td>5</td>\n",
       "      <td>1</td>\n",
       "      <td>124.918</td>\n",
       "      <td>11.938543</td>\n",
       "      <td>5.95</td>\n",
       "      <td>25.981840</td>\n",
       "      <td>0</td>\n",
       "      <td>6.332</td>\n",
       "      <td>10000</td>\n",
       "      <td>2</td>\n",
       "      <td>...</td>\n",
       "      <td>NaN</td>\n",
       "      <td>NaN</td>\n",
       "      <td>NaN</td>\n",
       "      <td>NaN</td>\n",
       "      <td>NaN</td>\n",
       "      <td>NaN</td>\n",
       "      <td>NaN</td>\n",
       "      <td>NaN</td>\n",
       "      <td>NaN</td>\n",
       "      <td>NaN</td>\n",
       "    </tr>\n",
       "  </tbody>\n",
       "</table>\n",
       "<p>5 rows × 61 columns</p>\n",
       "</div>"
      ],
      "text/plain": [
       "   id  bond_id  trade_price     weight  current_coupon  time_to_maturity  \\\n",
       "0   1        1      128.596  11.316404            5.95         26.031126   \n",
       "1   2        1      126.673   8.763446            5.95         26.016697   \n",
       "2   3        1      126.880   6.499730            5.95         26.008760   \n",
       "3   4        1      126.362   0.865854            5.95         26.008619   \n",
       "4   5        1      124.918  11.938543            5.95         25.981840   \n",
       "\n",
       "   is_callable  reporting_delay  trade_size  trade_type  \\\n",
       "0            0            1.731      120000           2   \n",
       "1            0           30.518       85000           4   \n",
       "2            0            4.424     4200000           3   \n",
       "3            0           43.059     5000001           2   \n",
       "4            0            6.332       10000           2   \n",
       "\n",
       "             ...             received_time_diff_last9  trade_price_last9  \\\n",
       "0            ...                                  NaN                NaN   \n",
       "1            ...                                  NaN                NaN   \n",
       "2            ...                                  NaN                NaN   \n",
       "3            ...                                  NaN                NaN   \n",
       "4            ...                                  NaN                NaN   \n",
       "\n",
       "   trade_size_last9  trade_type_last9  curve_based_price_last9  \\\n",
       "0               NaN               NaN                      NaN   \n",
       "1               NaN               NaN                      NaN   \n",
       "2               NaN               NaN                      NaN   \n",
       "3               NaN               NaN                      NaN   \n",
       "4               NaN               NaN                      NaN   \n",
       "\n",
       "   received_time_diff_last10  trade_price_last10  trade_size_last10  \\\n",
       "0                        NaN                 NaN                NaN   \n",
       "1                        NaN                 NaN                NaN   \n",
       "2                        NaN                 NaN                NaN   \n",
       "3                        NaN                 NaN                NaN   \n",
       "4                        NaN                 NaN                NaN   \n",
       "\n",
       "   trade_type_last10  curve_based_price_last10  \n",
       "0                NaN                       NaN  \n",
       "1                NaN                       NaN  \n",
       "2                NaN                       NaN  \n",
       "3                NaN                       NaN  \n",
       "4                NaN                       NaN  \n",
       "\n",
       "[5 rows x 61 columns]"
      ]
     },
     "execution_count": 2,
     "metadata": {},
     "output_type": "execute_result"
    }
   ],
   "source": [
    "data=pd.read_csv(\"/Users/Alex/Desktop/ML_project/train.csv\")\n",
    "data.head()"
   ]
  },
  {
   "cell_type": "code",
   "execution_count": 3,
   "metadata": {
    "collapsed": true
   },
   "outputs": [],
   "source": [
    "\n",
    "data_without_dummy=data[['bond_id','trade_price','weight','current_coupon','time_to_maturity','is_callable',\n",
    " 'reporting_delay','trade_size','trade_type','curve_based_price','received_time_diff_last1','trade_price_last1',\n",
    " 'trade_size_last1','trade_type_last1','curve_based_price_last1','received_time_diff_last2','trade_price_last2',\n",
    " 'trade_size_last2','trade_type_last2','curve_based_price_last2','received_time_diff_last3',\n",
    " 'trade_price_last3','trade_size_last3','trade_type_last3','curve_based_price_last3','received_time_diff_last4',\n",
    " 'trade_price_last4','trade_size_last4','trade_type_last4','curve_based_price_last4','received_time_diff_last5',\n",
    " 'trade_price_last5','trade_size_last5','trade_type_last5','curve_based_price_last5','received_time_diff_last6',\n",
    " 'trade_price_last6','trade_size_last6','trade_type_last6','curve_based_price_last6','received_time_diff_last7',\n",
    " 'trade_price_last7','trade_size_last7','trade_type_last7','curve_based_price_last7','received_time_diff_last8',\n",
    " 'trade_price_last8','trade_size_last8','trade_type_last8','curve_based_price_last8','received_time_diff_last9',\n",
    " 'trade_price_last9','trade_size_last9','trade_type_last9','curve_based_price_last9','received_time_diff_last10',\n",
    " 'trade_price_last10','trade_size_last10','trade_type_last10','curve_based_price_last10']]\n",
    "data_without_dummy=data_without_dummy.dropna()"
   ]
  },
  {
   "cell_type": "code",
   "execution_count": 4,
   "metadata": {},
   "outputs": [
    {
     "data": {
      "text/html": [
       "<div>\n",
       "<style>\n",
       "    .dataframe thead tr:only-child th {\n",
       "        text-align: right;\n",
       "    }\n",
       "\n",
       "    .dataframe thead th {\n",
       "        text-align: left;\n",
       "    }\n",
       "\n",
       "    .dataframe tbody tr th {\n",
       "        vertical-align: top;\n",
       "    }\n",
       "</style>\n",
       "<table border=\"1\" class=\"dataframe\">\n",
       "  <thead>\n",
       "    <tr style=\"text-align: right;\">\n",
       "      <th></th>\n",
       "      <th>trade_type</th>\n",
       "      <th>trade_type_last1</th>\n",
       "      <th>trade_type_last10</th>\n",
       "      <th>trade_type_last2</th>\n",
       "      <th>trade_type_last3</th>\n",
       "      <th>trade_type_last4</th>\n",
       "      <th>trade_type_last5</th>\n",
       "      <th>trade_type_last6</th>\n",
       "      <th>trade_type_last7</th>\n",
       "      <th>trade_type_last8</th>\n",
       "      <th>trade_type_last9</th>\n",
       "    </tr>\n",
       "    <tr>\n",
       "      <th>Cathegories</th>\n",
       "      <th></th>\n",
       "      <th></th>\n",
       "      <th></th>\n",
       "      <th></th>\n",
       "      <th></th>\n",
       "      <th></th>\n",
       "      <th></th>\n",
       "      <th></th>\n",
       "      <th></th>\n",
       "      <th></th>\n",
       "      <th></th>\n",
       "    </tr>\n",
       "  </thead>\n",
       "  <tbody>\n",
       "    <tr>\n",
       "      <th>2</th>\n",
       "      <td>0.203465</td>\n",
       "      <td>0.203934</td>\n",
       "      <td>0.197841</td>\n",
       "      <td>0.203134</td>\n",
       "      <td>0.202451</td>\n",
       "      <td>0.201810</td>\n",
       "      <td>0.201128</td>\n",
       "      <td>0.200448</td>\n",
       "      <td>0.199804</td>\n",
       "      <td>0.199102</td>\n",
       "      <td>0.198473</td>\n",
       "    </tr>\n",
       "    <tr>\n",
       "      <th>3</th>\n",
       "      <td>0.361293</td>\n",
       "      <td>0.360796</td>\n",
       "      <td>0.352744</td>\n",
       "      <td>0.359785</td>\n",
       "      <td>0.358833</td>\n",
       "      <td>0.357935</td>\n",
       "      <td>0.357021</td>\n",
       "      <td>0.356163</td>\n",
       "      <td>0.355284</td>\n",
       "      <td>0.354450</td>\n",
       "      <td>0.353587</td>\n",
       "    </tr>\n",
       "    <tr>\n",
       "      <th>4</th>\n",
       "      <td>0.435243</td>\n",
       "      <td>0.435270</td>\n",
       "      <td>0.426711</td>\n",
       "      <td>0.434459</td>\n",
       "      <td>0.433511</td>\n",
       "      <td>0.432491</td>\n",
       "      <td>0.431561</td>\n",
       "      <td>0.430598</td>\n",
       "      <td>0.429620</td>\n",
       "      <td>0.428672</td>\n",
       "      <td>0.427692</td>\n",
       "    </tr>\n",
       "  </tbody>\n",
       "</table>\n",
       "</div>"
      ],
      "text/plain": [
       "             trade_type  trade_type_last1  trade_type_last10  \\\n",
       "Cathegories                                                    \n",
       "2              0.203465          0.203934           0.197841   \n",
       "3              0.361293          0.360796           0.352744   \n",
       "4              0.435243          0.435270           0.426711   \n",
       "\n",
       "             trade_type_last2  trade_type_last3  trade_type_last4  \\\n",
       "Cathegories                                                         \n",
       "2                    0.203134          0.202451          0.201810   \n",
       "3                    0.359785          0.358833          0.357935   \n",
       "4                    0.434459          0.433511          0.432491   \n",
       "\n",
       "             trade_type_last5  trade_type_last6  trade_type_last7  \\\n",
       "Cathegories                                                         \n",
       "2                    0.201128          0.200448          0.199804   \n",
       "3                    0.357021          0.356163          0.355284   \n",
       "4                    0.431561          0.430598          0.429620   \n",
       "\n",
       "             trade_type_last8  trade_type_last9  \n",
       "Cathegories                                      \n",
       "2                    0.199102          0.198473  \n",
       "3                    0.354450          0.353587  \n",
       "4                    0.428672          0.427692  "
      ]
     },
     "execution_count": 4,
     "metadata": {},
     "output_type": "execute_result"
    }
   ],
   "source": [
    "#checking if the cathegorical variables are balanced:\n",
    "tt2=np.mean(data[\"trade_type\"]==2)\n",
    "tt3=np.mean(data[\"trade_type\"]==3)\n",
    "tt4=np.mean(data[\"trade_type\"]==4)\n",
    "\n",
    "tt2_last1=np.mean(data[\"trade_type_last1\"]==2)\n",
    "tt3_last1=np.mean(data[\"trade_type_last1\"]==3)\n",
    "tt4_last1=np.mean(data[\"trade_type_last1\"]==4)\n",
    "\n",
    "tt2_last2=np.mean(data[\"trade_type_last2\"]==2)\n",
    "tt3_last2=np.mean(data[\"trade_type_last2\"]==3)\n",
    "tt4_last2=np.mean(data[\"trade_type_last2\"]==4)\n",
    "\n",
    "tt2_last3=np.mean(data[\"trade_type_last3\"]==2)\n",
    "tt3_last3=np.mean(data[\"trade_type_last3\"]==3)\n",
    "tt4_last3=np.mean(data[\"trade_type_last3\"]==4)\n",
    "\n",
    "tt2_last4=np.mean(data[\"trade_type_last4\"]==2)\n",
    "tt3_last4=np.mean(data[\"trade_type_last4\"]==3)\n",
    "tt4_last4=np.mean(data[\"trade_type_last4\"]==4)\n",
    "\n",
    "tt2_last5=np.mean(data[\"trade_type_last5\"]==2)\n",
    "tt3_last5=np.mean(data[\"trade_type_last5\"]==3)\n",
    "tt4_last5=np.mean(data[\"trade_type_last5\"]==4)\n",
    "\n",
    "tt2_last6=np.mean(data[\"trade_type_last6\"]==2)\n",
    "tt3_last6=np.mean(data[\"trade_type_last6\"]==3)\n",
    "tt4_last6=np.mean(data[\"trade_type_last6\"]==4)\n",
    "\n",
    "tt2_last7=np.mean(data[\"trade_type_last7\"]==2)\n",
    "tt3_last7=np.mean(data[\"trade_type_last7\"]==3)\n",
    "tt4_last7=np.mean(data[\"trade_type_last7\"]==4)\n",
    "\n",
    "tt2_last8=np.mean(data[\"trade_type_last8\"]==2)\n",
    "tt3_last8=np.mean(data[\"trade_type_last8\"]==3)\n",
    "tt4_last8=np.mean(data[\"trade_type_last8\"]==4)\n",
    "\n",
    "tt2_last9=np.mean(data[\"trade_type_last9\"]==2)\n",
    "tt3_last9=np.mean(data[\"trade_type_last9\"]==3)\n",
    "tt4_last9=np.mean(data[\"trade_type_last9\"]==4)\n",
    "\n",
    "tt2_last10=np.mean(data[\"trade_type_last10\"]==2)\n",
    "tt3_last10=np.mean(data[\"trade_type_last10\"]==3)\n",
    "tt4_last10=np.mean(data[\"trade_type_last10\"]==4)\n",
    "\n",
    "d={\"Cathegories\":[\"2\",\"3\",\"4\"],\"trade_type\":[tt2,tt3,tt4],\"trade_type_last1\":[tt2_last1,tt3_last1,tt4_last1],\n",
    "      \"trade_type_last2\":[tt2_last2,tt3_last2,tt4_last2],\"trade_type_last3\":[tt2_last3,tt3_last3,tt4_last3],\n",
    "      \"trade_type_last4\":[tt2_last4,tt3_last4,tt4_last4],\"trade_type_last5\":[tt2_last5,tt3_last5,tt4_last5],\n",
    "      \"trade_type_last6\":[tt2_last6,tt3_last6,tt4_last6],\"trade_type_last7\":[tt2_last7,tt3_last7,tt4_last7],\n",
    "      \"trade_type_last8\":[tt2_last8,tt3_last8,tt4_last8],\"trade_type_last9\":[tt2_last9,tt3_last9,tt4_last9],\n",
    "      \"trade_type_last10\":[tt2_last10,tt3_last10,tt4_last10]}\n",
    "Balance_summary=pd.DataFrame(d)\n",
    "Balance_summary.set_index(\"Cathegories\",inplace=True)\n",
    "Balance_summary\n"
   ]
  },
  {
   "cell_type": "markdown",
   "metadata": {},
   "source": [
    "#### From the results above, one can see that type 4 trades are far more frequent than type 2 trades accross all the cathegorical variables. One may consider adjusting the error weights to account for this assymetry in the data. "
   ]
  },
  {
   "cell_type": "markdown",
   "metadata": {},
   "source": [
    "### Distribution of Financial data:\n",
    "The paper claims that financial data in this paper (Prices of different bonds) has normal variability (Page 3 under title Generalized Linear Models). To get to this conclusion, the authors fitted an unweighted generalized linear model (OLS in this case) on the entire data set using two link functions: Normal and Gamma. The OLS with the normal link function is reported to lead to a lower error on test as well as on training sets. We will investigate this claim and check its validity using shapiro normality tests.       "
   ]
  },
  {
   "cell_type": "code",
   "execution_count": 5,
   "metadata": {
    "collapsed": true
   },
   "outputs": [],
   "source": [
    "# We need to code the cathegorical variables as dummies to procceed further. this is especially important for PCA\n",
    "d=pd.get_dummies(data,columns=['trade_type','trade_type_last1','trade_type_last2','trade_type_last3','trade_type_last4',\n",
    "                                'trade_type_last5','trade_type_last6','trade_type_last7','trade_type_last8',\n",
    "                               'trade_type_last9','trade_type_last10'])\n",
    "#Get rid of the raws with NaN's\n",
    "d=d.dropna()\n",
    "X=d[['weight','current_coupon','time_to_maturity','is_callable','reporting_delay','trade_size','curve_based_price',\n",
    " 'received_time_diff_last1','trade_price_last1','trade_size_last1','curve_based_price_last1','received_time_diff_last2',\n",
    " 'trade_price_last2','trade_size_last2','curve_based_price_last2','received_time_diff_last3','trade_price_last3',\n",
    " 'trade_size_last3','curve_based_price_last3','received_time_diff_last4','trade_price_last4','trade_size_last4',\n",
    " 'curve_based_price_last4','received_time_diff_last5','trade_price_last5','trade_size_last5','curve_based_price_last5',\n",
    " 'received_time_diff_last6','trade_price_last6','trade_size_last6','curve_based_price_last6','received_time_diff_last7',\n",
    " 'trade_price_last7','trade_size_last7','curve_based_price_last7','received_time_diff_last8','trade_price_last8',\n",
    " 'trade_size_last8','curve_based_price_last8','received_time_diff_last9','trade_price_last9','trade_size_last9',\n",
    " 'curve_based_price_last9','received_time_diff_last10','trade_price_last10','trade_size_last10','curve_based_price_last10',\n",
    " 'trade_type_2','trade_type_3','trade_type_4','trade_type_last1_2','trade_type_last1_3','trade_type_last1_4',\n",
    " 'trade_type_last2_2.0','trade_type_last2_3.0','trade_type_last2_4.0','trade_type_last3_2.0','trade_type_last3_3.0',\n",
    " 'trade_type_last3_4.0','trade_type_last4_2.0','trade_type_last4_3.0','trade_type_last4_4.0','trade_type_last5_2.0',\n",
    " 'trade_type_last5_3.0','trade_type_last5_4.0','trade_type_last6_2.0','trade_type_last6_3.0','trade_type_last6_4.0',\n",
    " 'trade_type_last7_2.0','trade_type_last7_3.0','trade_type_last7_4.0','trade_type_last8_2.0','trade_type_last8_3.0',\n",
    " 'trade_type_last8_4.0','trade_type_last9_2.0','trade_type_last9_3.0','trade_type_last9_4.0','trade_type_last10_2.0',\n",
    " 'trade_type_last10_3.0','trade_type_last10_4.0']]\n",
    "\n",
    "y=d[\"trade_price\"]\n",
    "# init dataframes\n",
    "train_df_list = []; test1_df_list = []; test2_df_list = [];\n",
    "\n",
    "# Populate dataframes\n",
    "for bondID in sorted(list(set(d.bond_id.tolist()))):\n",
    "    \n",
    "    df = d[d['bond_id'] == bondID]\n",
    "    N  = len(df)\n",
    "    \n",
    "    train_df_list.append( df.iloc[:int(np.floor(0.7*N)), :] )\n",
    "    test1_df_list.append( df.iloc[int(np.floor(0.7*N)):int(np.floor(0.85*N)), :] )\n",
    "    test2_df_list.append( df.iloc[int(np.floor(0.85*N)):, :] )\n",
    "\n",
    "train_df = pd.concat(train_df_list)\n",
    "test1_df = pd.concat(test1_df_list)\n",
    "test2_df = pd.concat(test2_df_list)"
   ]
  },
  {
   "cell_type": "code",
   "execution_count": 6,
   "metadata": {
    "collapsed": true
   },
   "outputs": [],
   "source": [
    "y_train = train_df.trade_price; X_train = train_df.drop('trade_price', axis=1)\n",
    "y_test1 = test1_df.trade_price; X_test1 = test1_df.drop('trade_price', axis=1)\n",
    "y_test2 = test2_df.trade_price; X_test2 = test2_df.drop('trade_price', axis=1)\n",
    "y_train2 = pd.concat([y_train,y_test1]); X_train2 = pd.concat([X_train, X_test1])"
   ]
  },
  {
   "cell_type": "code",
   "execution_count": null,
   "metadata": {
    "collapsed": true
   },
   "outputs": [],
   "source": []
  },
  {
   "cell_type": "markdown",
   "metadata": {},
   "source": [
    "#### Use `X_train` to fit model\n",
    "#### GLM model with Gamma link function:"
   ]
  },
  {
   "cell_type": "code",
   "execution_count": 7,
   "metadata": {},
   "outputs": [
    {
     "name": "stderr",
     "output_type": "stream",
     "text": [
      "/Users/Alex/anaconda3/lib/python3.6/site-packages/statsmodels/genmod/generalized_linear_model.py:244: DomainWarning: The inverse_power link function does not respect the domain of the Gamma family.\n",
      "  DomainWarning)\n"
     ]
    },
    {
     "name": "stdout",
     "output_type": "stream",
     "text": [
      "                 Generalized Linear Model Regression Results                  \n",
      "==============================================================================\n",
      "Dep. Variable:            trade_price   No. Observations:               519990\n",
      "Model:                            GLM   Df Residuals:                   519918\n",
      "Model Family:                   Gamma   Df Model:                           71\n",
      "Link Function:          inverse_power   Scale:                0.00158856481776\n",
      "Method:                          IRLS   Log-Likelihood:            -1.7231e+06\n",
      "Date:                Thu, 03 May 2018   Deviance:                       1631.0\n",
      "Time:                        20:52:44   Pearson chi2:                     826.\n",
      "No. Iterations:                     4                                         \n",
      "=============================================================================================\n",
      "                                coef    std err          z      P>|z|      [0.025      0.975]\n",
      "---------------------------------------------------------------------------------------------\n",
      "id                         4.427e-11   4.03e-12     10.976      0.000    3.64e-11    5.22e-11\n",
      "bond_id                   -6.732e-11   3.23e-12    -20.811      0.000   -7.37e-11    -6.1e-11\n",
      "weight                     6.176e-06   5.24e-07     11.787      0.000    5.15e-06     7.2e-06\n",
      "current_coupon             4.215e-05   3.95e-07    106.667      0.000    4.14e-05    4.29e-05\n",
      "time_to_maturity           1.059e-05   9.17e-08    115.523      0.000    1.04e-05    1.08e-05\n",
      "is_callable               -5.018e-05   2.09e-06    -23.973      0.000   -5.43e-05   -4.61e-05\n",
      "reporting_delay            9.158e-13   4.68e-13      1.958      0.050   -1.07e-15    1.83e-12\n",
      "trade_size                 8.979e-12   7.68e-13     11.691      0.000    7.47e-12    1.05e-11\n",
      "curve_based_price         -3.509e-05   1.64e-06    -21.392      0.000   -3.83e-05   -3.19e-05\n",
      "received_time_diff_last1  -5.804e-11   8.47e-12     -6.855      0.000   -7.46e-11   -4.14e-11\n",
      "trade_price_last1         -4.143e-05   5.96e-07    -69.548      0.000   -4.26e-05   -4.03e-05\n",
      "trade_size_last1           6.496e-13   8.03e-13      0.809      0.418   -9.24e-13    2.22e-12\n",
      "curve_based_price_last1    1.286e-05   2.24e-06      5.737      0.000    8.47e-06    1.73e-05\n",
      "received_time_diff_last2   1.026e-11   5.78e-12      1.776      0.076   -1.06e-12    2.16e-11\n",
      "trade_price_last2         -1.194e-05    6.3e-07    -18.946      0.000   -1.32e-05   -1.07e-05\n",
      "trade_size_last2           2.482e-12   8.03e-13      3.091      0.002    9.08e-13    4.06e-12\n",
      "curve_based_price_last2    8.097e-07   2.22e-06      0.364      0.716   -3.55e-06    5.17e-06\n",
      "received_time_diff_last3   7.629e-13   5.86e-12      0.130      0.896   -1.07e-11    1.22e-11\n",
      "trade_price_last3          -9.01e-06   6.29e-07    -14.319      0.000   -1.02e-05   -7.78e-06\n",
      "trade_size_last3           2.082e-12   8.03e-13      2.593      0.010    5.08e-13    3.66e-12\n",
      "curve_based_price_last3    3.968e-06   2.21e-06      1.796      0.072   -3.61e-07     8.3e-06\n",
      "received_time_diff_last4  -6.592e-12   5.98e-12     -1.103      0.270   -1.83e-11    5.12e-12\n",
      "trade_price_last4             -8e-06   6.37e-07    -12.560      0.000   -9.25e-06   -6.75e-06\n",
      "trade_size_last4           2.213e-12   8.02e-13      2.758      0.006     6.4e-13    3.78e-12\n",
      "curve_based_price_last4    2.496e-06    2.2e-06      1.133      0.257   -1.82e-06    6.81e-06\n",
      "received_time_diff_last5   1.788e-12   6.01e-12      0.298      0.766   -9.98e-12    1.36e-11\n",
      "trade_price_last5         -6.674e-06   6.37e-07    -10.474      0.000   -7.92e-06   -5.43e-06\n",
      "trade_size_last5           2.262e-12   8.01e-13      2.823      0.005    6.92e-13    3.83e-12\n",
      "curve_based_price_last5    5.265e-06   2.18e-06      2.417      0.016    9.96e-07    9.53e-06\n",
      "received_time_diff_last6   8.044e-13   5.92e-12      0.136      0.892   -1.08e-11    1.24e-11\n",
      "trade_price_last6         -5.831e-06   6.35e-07     -9.182      0.000   -7.08e-06   -4.59e-06\n",
      "trade_size_last6           2.167e-12      8e-13      2.707      0.007    5.98e-13    3.74e-12\n",
      "curve_based_price_last6    3.889e-06   2.16e-06      1.801      0.072   -3.43e-07    8.12e-06\n",
      "received_time_diff_last7   2.758e-12   5.91e-12      0.467      0.641   -8.82e-12    1.43e-11\n",
      "trade_price_last7         -5.966e-06   6.34e-07     -9.411      0.000   -7.21e-06   -4.72e-06\n",
      "trade_size_last7           2.229e-12      8e-13      2.788      0.005    6.62e-13     3.8e-12\n",
      "curve_based_price_last7    2.657e-06   2.15e-06      1.237      0.216   -1.55e-06    6.87e-06\n",
      "received_time_diff_last8  -1.267e-12   5.91e-12     -0.214      0.830   -1.29e-11    1.03e-11\n",
      "trade_price_last8         -5.319e-06   6.32e-07     -8.419      0.000   -6.56e-06   -4.08e-06\n",
      "trade_size_last8           2.307e-12   7.98e-13      2.889      0.004    7.42e-13    3.87e-12\n",
      "curve_based_price_last8    2.663e-06   2.14e-06      1.245      0.213   -1.53e-06    6.86e-06\n",
      "received_time_diff_last9   1.583e-12   5.95e-12      0.266      0.790   -1.01e-11    1.32e-11\n",
      "trade_price_last9         -7.496e-06   6.29e-07    -11.921      0.000   -8.73e-06   -6.26e-06\n",
      "trade_size_last9           2.214e-12   7.97e-13      2.779      0.005    6.52e-13    3.78e-12\n",
      "curve_based_price_last9    4.925e-06   2.12e-06      2.319      0.020    7.63e-07    9.09e-06\n",
      "received_time_diff_last10  1.169e-11   4.26e-12      2.745      0.006    3.34e-12       2e-11\n",
      "trade_price_last10        -1.022e-05   5.81e-07    -17.574      0.000   -1.14e-05   -9.08e-06\n",
      "trade_size_last10          3.261e-12    7.6e-13      4.289      0.000    1.77e-12    4.75e-12\n",
      "curve_based_price_last10   7.016e-06   1.55e-06      4.519      0.000    3.97e-06    1.01e-05\n",
      "trade_type_2                  0.0019   1.14e-06   1641.465      0.000       0.002       0.002\n",
      "trade_type_3                  0.0017   9.81e-07   1766.535      0.000       0.002       0.002\n",
      "trade_type_4                  0.0018   9.54e-07   1897.857      0.000       0.002       0.002\n",
      "trade_type_last1_2            0.0018   1.18e-06   1519.959      0.000       0.002       0.002\n",
      "trade_type_last1_3            0.0018   1.06e-06   1706.373      0.000       0.002       0.002\n",
      "trade_type_last1_4            0.0018   9.59e-07   1876.139      0.000       0.002       0.002\n",
      "trade_type_last2_2.0          0.0018   1.18e-06   1526.044      0.000       0.002       0.002\n",
      "trade_type_last2_3.0          0.0018   1.06e-06   1697.364      0.000       0.002       0.002\n",
      "trade_type_last2_4.0          0.0018   9.55e-07   1886.457      0.000       0.002       0.002\n",
      "trade_type_last3_2.0          0.0018   1.18e-06   1527.272      0.000       0.002       0.002\n",
      "trade_type_last3_3.0          0.0018   1.07e-06   1692.355      0.000       0.002       0.002\n",
      "trade_type_last3_4.0          0.0018   9.55e-07   1886.381      0.000       0.002       0.002\n",
      "trade_type_last4_2.0          0.0018   1.18e-06   1525.900      0.000       0.002       0.002\n",
      "trade_type_last4_3.0          0.0018   1.07e-06   1686.830      0.000       0.002       0.002\n",
      "trade_type_last4_4.0          0.0018   9.56e-07   1885.162      0.000       0.002       0.002\n",
      "trade_type_last5_2.0          0.0018   1.18e-06   1526.865      0.000       0.002       0.002\n",
      "trade_type_last5_3.0          0.0018   1.07e-06   1685.353      0.000       0.002       0.002\n",
      "trade_type_last5_4.0          0.0018   9.56e-07   1885.419      0.000       0.002       0.002\n",
      "trade_type_last6_2.0          0.0018   1.18e-06   1528.464      0.000       0.002       0.002\n",
      "trade_type_last6_3.0          0.0018   1.07e-06   1684.516      0.000       0.002       0.002\n",
      "trade_type_last6_4.0          0.0018   9.56e-07   1885.351      0.000       0.002       0.002\n",
      "trade_type_last7_2.0          0.0018   1.18e-06   1530.294      0.000       0.002       0.002\n",
      "trade_type_last7_3.0          0.0018   1.07e-06   1686.061      0.000       0.002       0.002\n",
      "trade_type_last7_4.0          0.0018   9.56e-07   1886.562      0.000       0.002       0.002\n",
      "trade_type_last8_2.0          0.0018   1.18e-06   1532.690      0.000       0.002       0.002\n",
      "trade_type_last8_3.0          0.0018   1.07e-06   1687.570      0.000       0.002       0.002\n",
      "trade_type_last8_4.0          0.0018   9.55e-07   1888.415      0.000       0.002       0.002\n",
      "trade_type_last9_2.0          0.0018   1.18e-06   1535.117      0.000       0.002       0.002\n",
      "trade_type_last9_3.0          0.0018   1.07e-06   1690.865      0.000       0.002       0.002\n",
      "trade_type_last9_4.0          0.0018   9.54e-07   1890.593      0.000       0.002       0.002\n",
      "trade_type_last10_2.0         0.0018   1.17e-06   1544.007      0.000       0.002       0.002\n",
      "trade_type_last10_3.0         0.0018   1.06e-06   1697.857      0.000       0.002       0.002\n",
      "trade_type_last10_4.0         0.0018    9.5e-07   1896.989      0.000       0.002       0.002\n",
      "=============================================================================================\n"
     ]
    }
   ],
   "source": [
    "lmout_gamma = sm.GLM(y_train,X_train, family=sm.families.Gamma()).fit()\n",
    "print(lmout_gamma.summary())"
   ]
  },
  {
   "cell_type": "markdown",
   "metadata": {},
   "source": [
    "#### GLM model with Gaussian link function:"
   ]
  },
  {
   "cell_type": "code",
   "execution_count": 8,
   "metadata": {},
   "outputs": [
    {
     "name": "stdout",
     "output_type": "stream",
     "text": [
      "                 Generalized Linear Model Regression Results                  \n",
      "==============================================================================\n",
      "Dep. Variable:            trade_price   No. Observations:               519990\n",
      "Model:                            GLM   Df Residuals:                   519918\n",
      "Model Family:                Gaussian   Df Model:                           71\n",
      "Link Function:               identity   Scale:                  0.841844715484\n",
      "Method:                          IRLS   Log-Likelihood:            -6.9304e+05\n",
      "Date:                Thu, 03 May 2018   Deviance:                   4.3769e+05\n",
      "Time:                        20:53:37   Pearson chi2:                 4.38e+05\n",
      "No. Iterations:                     2                                         \n",
      "=============================================================================================\n",
      "                                coef    std err          z      P>|z|      [0.025      0.975]\n",
      "---------------------------------------------------------------------------------------------\n",
      "id                          1.96e-08   9.88e-09      1.984      0.047    2.36e-10     3.9e-08\n",
      "bond_id                    6.694e-09   7.68e-09      0.871      0.384   -8.36e-09    2.18e-08\n",
      "weight                        0.0077      0.001      6.085      0.000       0.005       0.010\n",
      "current_coupon                0.0039      0.001      4.209      0.000       0.002       0.006\n",
      "time_to_maturity              0.0016      0.000      7.500      0.000       0.001       0.002\n",
      "is_callable                  -0.0015      0.005     -0.309      0.757      -0.011       0.008\n",
      "reporting_delay           -2.269e-08   1.12e-09    -20.263      0.000   -2.49e-08   -2.05e-08\n",
      "trade_size                -5.706e-08   1.88e-09    -30.403      0.000   -6.07e-08   -5.34e-08\n",
      "curve_based_price             0.4130      0.004    101.333      0.000       0.405       0.421\n",
      "received_time_diff_last1  -2.443e-07   2.02e-08    -12.107      0.000   -2.84e-07   -2.05e-07\n",
      "trade_price_last1             0.3887      0.001    278.984      0.000       0.386       0.391\n",
      "trade_size_last1           1.918e-08   1.97e-09      9.757      0.000    1.53e-08     2.3e-08\n",
      "curve_based_price_last1      -0.1014      0.006    -18.145      0.000      -0.112      -0.090\n",
      "received_time_diff_last2  -5.053e-08   1.38e-08     -3.674      0.000   -7.75e-08   -2.36e-08\n",
      "trade_price_last2             0.1029      0.001     68.994      0.000       0.100       0.106\n",
      "trade_size_last2          -2.661e-10   1.97e-09     -0.135      0.892   -4.12e-09    3.59e-09\n",
      "curve_based_price_last2      -0.0082      0.006     -1.483      0.138      -0.019       0.003\n",
      "received_time_diff_last3  -2.016e-08    1.4e-08     -1.444      0.149   -4.75e-08     7.2e-09\n",
      "trade_price_last3             0.0706      0.001     47.135      0.000       0.068       0.074\n",
      "trade_size_last3           1.647e-09   1.97e-09      0.837      0.403   -2.21e-09     5.5e-09\n",
      "curve_based_price_last3      -0.0269      0.006     -4.865      0.000      -0.038      -0.016\n",
      "received_time_diff_last4    4.16e-08   1.43e-08      2.917      0.004    1.37e-08    6.96e-08\n",
      "trade_price_last4             0.0609      0.002     40.018      0.000       0.058       0.064\n",
      "trade_size_last4            9.99e-10   1.97e-09      0.508      0.611   -2.85e-09    4.85e-09\n",
      "curve_based_price_last4      -0.0156      0.006     -2.827      0.005      -0.026      -0.005\n",
      "received_time_diff_last5  -3.545e-08   1.44e-08     -2.468      0.014   -6.36e-08    -7.3e-09\n",
      "trade_price_last5             0.0464      0.002     30.481      0.000       0.043       0.049\n",
      "trade_size_last5           1.684e-09   1.96e-09      0.857      0.391   -2.17e-09    5.53e-09\n",
      "curve_based_price_last5      -0.0250      0.005     -4.563      0.000      -0.036      -0.014\n",
      "received_time_diff_last6   1.731e-08   1.42e-08      1.221      0.222   -1.05e-08    4.51e-08\n",
      "trade_price_last6             0.0363      0.002     23.856      0.000       0.033       0.039\n",
      "trade_size_last6           2.008e-09   1.96e-09      1.023      0.306   -1.84e-09    5.85e-09\n",
      "curve_based_price_last6      -0.0255      0.005     -4.672      0.000      -0.036      -0.015\n",
      "received_time_diff_last7  -2.215e-08   1.41e-08     -1.566      0.117   -4.99e-08    5.58e-09\n",
      "trade_price_last7             0.0358      0.002     23.583      0.000       0.033       0.039\n",
      "trade_size_last7           1.436e-09   1.96e-09      0.733      0.464   -2.41e-09    5.28e-09\n",
      "curve_based_price_last7      -0.0126      0.005     -2.324      0.020      -0.023      -0.002\n",
      "received_time_diff_last8   2.627e-08   1.41e-08      1.859      0.063   -1.43e-09     5.4e-08\n",
      "trade_price_last8             0.0266      0.002     17.549      0.000       0.024       0.030\n",
      "trade_size_last8           1.848e-09   1.96e-09      0.944      0.345   -1.99e-09    5.68e-09\n",
      "curve_based_price_last8      -0.0100      0.005     -1.855      0.064      -0.021       0.001\n",
      "received_time_diff_last9  -1.428e-08   1.42e-08     -1.007      0.314   -4.21e-08    1.35e-08\n",
      "trade_price_last9             0.0439      0.002     29.166      0.000       0.041       0.047\n",
      "trade_size_last9           3.336e-09   1.95e-09      1.708      0.088   -4.93e-10    7.16e-09\n",
      "curve_based_price_last9      -0.0287      0.005     -5.338      0.000      -0.039      -0.018\n",
      "received_time_diff_last10  1.837e-08   1.02e-08      1.806      0.071   -1.56e-09    3.83e-08\n",
      "trade_price_last10            0.0410      0.001     29.568      0.000       0.038       0.044\n",
      "trade_size_last10          1.504e-09   1.86e-09      0.807      0.420   -2.15e-09    5.16e-09\n",
      "curve_based_price_last10     -0.0140      0.004     -3.566      0.000      -0.022      -0.006\n",
      "trade_type_2                 -0.5779      0.003   -212.737      0.000      -0.583      -0.573\n",
      "trade_type_3                  0.6759      0.002    289.212      0.000       0.671       0.680\n",
      "trade_type_4                 -0.0535      0.002    -23.667      0.000      -0.058      -0.049\n",
      "trade_type_last1_2            0.1175      0.003     41.453      0.000       0.112       0.123\n",
      "trade_type_last1_3           -0.1376      0.003    -54.553      0.000      -0.143      -0.133\n",
      "trade_type_last1_4            0.0646      0.002     28.383      0.000       0.060       0.069\n",
      "trade_type_last2_2.0          0.0915      0.003     32.291      0.000       0.086       0.097\n",
      "trade_type_last2_3.0         -0.0734      0.003    -29.000      0.000      -0.078      -0.068\n",
      "trade_type_last2_4.0          0.0264      0.002     11.633      0.000       0.022       0.031\n",
      "trade_type_last3_2.0          0.0707      0.003     24.934      0.000       0.065       0.076\n",
      "trade_type_last3_3.0         -0.0479      0.003    -18.855      0.000      -0.053      -0.043\n",
      "trade_type_last3_4.0          0.0216      0.002      9.518      0.000       0.017       0.026\n",
      "trade_type_last4_2.0          0.0646      0.003     22.760      0.000       0.059       0.070\n",
      "trade_type_last4_3.0         -0.0398      0.003    -15.624      0.000      -0.045      -0.035\n",
      "trade_type_last4_4.0          0.0196      0.002      8.629      0.000       0.015       0.024\n",
      "trade_type_last5_2.0          0.0536      0.003     18.881      0.000       0.048       0.059\n",
      "trade_type_last5_3.0         -0.0246      0.003     -9.647      0.000      -0.030      -0.020\n",
      "trade_type_last5_4.0          0.0154      0.002      6.777      0.000       0.011       0.020\n",
      "trade_type_last6_2.0          0.0426      0.003     15.010      0.000       0.037       0.048\n",
      "trade_type_last6_3.0         -0.0160      0.003     -6.266      0.000      -0.021      -0.011\n",
      "trade_type_last6_4.0          0.0178      0.002      7.833      0.000       0.013       0.022\n",
      "trade_type_last7_2.0          0.0401      0.003     14.150      0.000       0.035       0.046\n",
      "trade_type_last7_3.0         -0.0156      0.003     -6.135      0.000      -0.021      -0.011\n",
      "trade_type_last7_4.0          0.0199      0.002      8.779      0.000       0.015       0.024\n",
      "trade_type_last8_2.0          0.0355      0.003     12.527      0.000       0.030       0.041\n",
      "trade_type_last8_3.0         -0.0085      0.003     -3.331      0.001      -0.013      -0.003\n",
      "trade_type_last8_4.0          0.0174      0.002      7.686      0.000       0.013       0.022\n",
      "trade_type_last9_2.0          0.0495      0.003     17.520      0.000       0.044       0.055\n",
      "trade_type_last9_3.0         -0.0213      0.003     -8.404      0.000      -0.026      -0.016\n",
      "trade_type_last9_4.0          0.0163      0.002      7.185      0.000       0.012       0.021\n",
      "trade_type_last10_2.0         0.0444      0.003     15.792      0.000       0.039       0.050\n",
      "trade_type_last10_3.0        -0.0164      0.003     -6.499      0.000      -0.021      -0.011\n",
      "trade_type_last10_4.0         0.0165      0.002      7.309      0.000       0.012       0.021\n",
      "=============================================================================================\n"
     ]
    }
   ],
   "source": [
    "lmout_Gaussian = sm.GLM(y_train,X_train, family=sm.families.Gaussian()).fit()\n",
    "print(lmout_Gaussian.summary())"
   ]
  },
  {
   "cell_type": "code",
   "execution_count": 9,
   "metadata": {
    "collapsed": true
   },
   "outputs": [],
   "source": [
    "yhat_Gaussian_train=lmout_Gaussian.predict(X_train)\n",
    "yhat_Gamma_train=lmout_gamma.predict(X_train)\n",
    "\n",
    "yhat_Gaussian_test=lmout_Gaussian.predict(X_test1)\n",
    "yhat_Gamma_test=lmout_gamma.predict(X_test1)"
   ]
  },
  {
   "cell_type": "code",
   "execution_count": 10,
   "metadata": {},
   "outputs": [
    {
     "data": {
      "text/html": [
       "<div>\n",
       "<style>\n",
       "    .dataframe thead tr:only-child th {\n",
       "        text-align: right;\n",
       "    }\n",
       "\n",
       "    .dataframe thead th {\n",
       "        text-align: left;\n",
       "    }\n",
       "\n",
       "    .dataframe tbody tr th {\n",
       "        vertical-align: top;\n",
       "    }\n",
       "</style>\n",
       "<table border=\"1\" class=\"dataframe\">\n",
       "  <thead>\n",
       "    <tr style=\"text-align: right;\">\n",
       "      <th></th>\n",
       "      <th>Test</th>\n",
       "      <th>Train</th>\n",
       "    </tr>\n",
       "    <tr>\n",
       "      <th>Link Function</th>\n",
       "      <th></th>\n",
       "      <th></th>\n",
       "    </tr>\n",
       "  </thead>\n",
       "  <tbody>\n",
       "    <tr>\n",
       "      <th>Gamma</th>\n",
       "      <td>17.189291</td>\n",
       "      <td>14.600495</td>\n",
       "    </tr>\n",
       "    <tr>\n",
       "      <th>Gaussian</th>\n",
       "      <td>1.375771</td>\n",
       "      <td>1.907660</td>\n",
       "    </tr>\n",
       "  </tbody>\n",
       "</table>\n",
       "</div>"
      ],
      "text/plain": [
       "                    Test      Train\n",
       "Link Function                      \n",
       "Gamma          17.189291  14.600495\n",
       "Gaussian        1.375771   1.907660"
      ]
     },
     "execution_count": 10,
     "metadata": {},
     "output_type": "execute_result"
    }
   ],
   "source": [
    "#WEPS is a function to calculate the weighted errors (Metric used by the authors of the paper)\n",
    "def WEPS(w,y_hat,y):\n",
    "    return((w*(y_hat-y)**2).sum()/w.sum()) \n",
    "w_train=X_train[\"weight\"]\n",
    "w_test=X_test1[\"weight\"]\n",
    "\n",
    "WEPS_Gaussian_train=WEPS(w_train,yhat_Gaussian_train,y_train)\n",
    "WEPS_Gamma_train=WEPS(w_train,yhat_Gamma_train,y_train)\n",
    "\n",
    "WEPS_Gaussian_test=WEPS(w_test,yhat_Gaussian_test,y_test1)\n",
    "WEPS_Gamma_test=WEPS(w_test,yhat_Gamma_test,y_test1)\n",
    "\n",
    "#Summary:\n",
    "d={\"Link Function\":[\"Gamma\",\"Gaussian\"],\"Train\":[WEPS_Gamma_train,WEPS_Gaussian_train],\n",
    "   \"Test\":[WEPS_Gamma_test,WEPS_Gaussian_test]}\n",
    "summary=pd.DataFrame(d)\n",
    "summary.set_index(\"Link Function\",inplace=True)\n",
    "summary"
   ]
  },
  {
   "cell_type": "markdown",
   "metadata": {},
   "source": [
    "#### Use `X_train` and `X_test1` to fit model\n",
    "#### GLM model with Gamma link function:"
   ]
  },
  {
   "cell_type": "code",
   "execution_count": 11,
   "metadata": {},
   "outputs": [
    {
     "name": "stderr",
     "output_type": "stream",
     "text": [
      "/Users/Alex/anaconda3/lib/python3.6/site-packages/statsmodels/genmod/generalized_linear_model.py:244: DomainWarning: The inverse_power link function does not respect the domain of the Gamma family.\n",
      "  DomainWarning)\n"
     ]
    },
    {
     "name": "stdout",
     "output_type": "stream",
     "text": [
      "                 Generalized Linear Model Regression Results                  \n",
      "==============================================================================\n",
      "Dep. Variable:            trade_price   No. Observations:               631681\n",
      "Model:                            GLM   Df Residuals:                   631609\n",
      "Model Family:                   Gamma   Df Model:                           71\n",
      "Link Function:          inverse_power   Scale:                0.00164216749625\n",
      "Method:                          IRLS   Log-Likelihood:            -2.1658e+06\n",
      "Date:                Thu, 03 May 2018   Deviance:                       2251.2\n",
      "Time:                        20:57:44   Pearson chi2:                 1.04e+03\n",
      "No. Iterations:                     4                                         \n",
      "=============================================================================================\n",
      "                                coef    std err          z      P>|z|      [0.025      0.975]\n",
      "---------------------------------------------------------------------------------------------\n",
      "id                         4.785e-11   3.72e-12     12.868      0.000    4.06e-11    5.51e-11\n",
      "bond_id                   -6.889e-11   2.98e-12    -23.122      0.000   -7.47e-11    -6.3e-11\n",
      "weight                     5.948e-06   4.84e-07     12.295      0.000       5e-06     6.9e-06\n",
      "current_coupon             4.242e-05   3.64e-07    116.411      0.000    4.17e-05    4.31e-05\n",
      "time_to_maturity           1.072e-05   8.46e-08    126.728      0.000    1.06e-05    1.09e-05\n",
      "is_callable               -5.109e-05   1.93e-06    -26.461      0.000   -5.49e-05   -4.73e-05\n",
      "reporting_delay            6.088e-13   4.22e-13      1.443      0.149   -2.18e-13    1.44e-12\n",
      "trade_size                 8.868e-12   7.09e-13     12.501      0.000    7.48e-12    1.03e-11\n",
      "curve_based_price         -3.443e-05   1.54e-06    -22.359      0.000   -3.75e-05   -3.14e-05\n",
      "received_time_diff_last1  -5.876e-11   7.78e-12     -7.552      0.000    -7.4e-11   -4.35e-11\n",
      "trade_price_last1         -4.185e-05   5.55e-07    -75.402      0.000   -4.29e-05   -4.08e-05\n",
      "trade_size_last1           8.051e-13   7.42e-13      1.085      0.278   -6.49e-13    2.26e-12\n",
      "curve_based_price_last1    1.295e-05    2.1e-06      6.153      0.000    8.83e-06    1.71e-05\n",
      "received_time_diff_last2   8.744e-12   5.25e-12      1.665      0.096   -1.55e-12     1.9e-11\n",
      "trade_price_last2         -1.209e-05   5.91e-07    -20.458      0.000   -1.32e-05   -1.09e-05\n",
      "trade_size_last2            2.76e-12   7.42e-13      3.720      0.000    1.31e-12    4.21e-12\n",
      "curve_based_price_last2    1.772e-06   2.08e-06      0.851      0.395   -2.31e-06    5.85e-06\n",
      "received_time_diff_last3   2.787e-12   5.29e-12      0.526      0.599   -7.59e-12    1.32e-11\n",
      "trade_price_last3         -9.065e-06    5.9e-07    -15.363      0.000   -1.02e-05   -7.91e-06\n",
      "trade_size_last3           2.181e-12   7.42e-13      2.938      0.003    7.26e-13    3.64e-12\n",
      "curve_based_price_last3    3.764e-06   2.07e-06      1.822      0.068   -2.85e-07    7.81e-06\n",
      "received_time_diff_last4  -3.821e-12   5.37e-12     -0.712      0.477   -1.43e-11     6.7e-12\n",
      "trade_price_last4         -7.985e-06   5.89e-07    -13.554      0.000   -9.14e-06   -6.83e-06\n",
      "trade_size_last4           2.296e-12   7.42e-13      3.096      0.002    8.42e-13    3.75e-12\n",
      "curve_based_price_last4    2.913e-06   2.06e-06      1.415      0.157   -1.12e-06    6.95e-06\n",
      "received_time_diff_last5   4.921e-13   5.41e-12      0.091      0.928   -1.01e-11    1.11e-11\n",
      "trade_price_last5         -6.676e-06   5.88e-07    -11.346      0.000   -7.83e-06   -5.52e-06\n",
      "trade_size_last5           2.155e-12   7.42e-13      2.906      0.004    7.01e-13    3.61e-12\n",
      "curve_based_price_last5    4.438e-06   2.04e-06      2.180      0.029    4.48e-07    8.43e-06\n",
      "received_time_diff_last6   9.517e-13    5.4e-12      0.176      0.860   -9.64e-12    1.15e-11\n",
      "trade_price_last6         -6.102e-06   5.86e-07    -10.414      0.000   -7.25e-06   -4.95e-06\n",
      "trade_size_last6           2.151e-12   7.41e-13      2.902      0.004    6.99e-13     3.6e-12\n",
      "curve_based_price_last6    3.143e-06   2.01e-06      1.561      0.119   -8.04e-07    7.09e-06\n",
      "received_time_diff_last7   2.876e-12    5.4e-12      0.533      0.594   -7.71e-12    1.35e-11\n",
      "trade_price_last7         -6.099e-06   5.84e-07    -10.436      0.000   -7.24e-06   -4.95e-06\n",
      "trade_size_last7           2.223e-12   7.41e-13      3.001      0.003    7.71e-13    3.68e-12\n",
      "curve_based_price_last7    3.449e-06      2e-06      1.720      0.085   -4.81e-07    7.38e-06\n",
      "received_time_diff_last8  -2.965e-12   5.41e-12     -0.548      0.584   -1.36e-11    7.64e-12\n",
      "trade_price_last8         -5.497e-06   5.82e-07     -9.442      0.000   -6.64e-06   -4.36e-06\n",
      "trade_size_last8           2.206e-12    7.4e-13      2.982      0.003    7.56e-13    3.66e-12\n",
      "curve_based_price_last8    2.906e-06      2e-06      1.455      0.146   -1.01e-06    6.82e-06\n",
      "received_time_diff_last9   3.705e-12   5.42e-12      0.683      0.494   -6.92e-12    1.43e-11\n",
      "trade_price_last9         -7.368e-06    5.8e-07    -12.708      0.000    -8.5e-06   -6.23e-06\n",
      "trade_size_last9           2.168e-12   7.39e-13      2.934      0.003     7.2e-13    3.62e-12\n",
      "curve_based_price_last9    4.637e-06   1.98e-06      2.341      0.019    7.54e-07    8.52e-06\n",
      "received_time_diff_last10  1.192e-11   3.85e-12      3.095      0.002    4.37e-12    1.95e-11\n",
      "trade_price_last10        -9.832e-06   5.37e-07    -18.303      0.000   -1.09e-05   -8.78e-06\n",
      "trade_size_last10          3.361e-12   7.05e-13      4.767      0.000    1.98e-12    4.74e-12\n",
      "curve_based_price_last10   6.503e-06   1.45e-06      4.487      0.000    3.66e-06    9.34e-06\n",
      "trade_type_2                  0.0019   1.05e-06   1776.775      0.000       0.002       0.002\n",
      "trade_type_3                  0.0017   9.05e-07   1917.085      0.000       0.002       0.002\n",
      "trade_type_4                  0.0018   8.79e-07   2059.593      0.000       0.002       0.002\n",
      "trade_type_last1_2            0.0018   1.09e-06   1646.145      0.000       0.002       0.002\n",
      "trade_type_last1_3            0.0018   9.79e-07   1851.664      0.000       0.002       0.002\n",
      "trade_type_last1_4            0.0018   8.84e-07   2036.233      0.000       0.002       0.002\n",
      "trade_type_last2_2.0          0.0018   1.09e-06   1651.492      0.000       0.002       0.002\n",
      "trade_type_last2_3.0          0.0018   9.81e-07   1840.576      0.000       0.002       0.002\n",
      "trade_type_last2_4.0          0.0018   8.81e-07   2046.990      0.000       0.002       0.002\n",
      "trade_type_last3_2.0          0.0018   1.09e-06   1652.597      0.000       0.002       0.002\n",
      "trade_type_last3_3.0          0.0018   9.82e-07   1835.664      0.000       0.002       0.002\n",
      "trade_type_last3_4.0          0.0018   8.81e-07   2046.785      0.000       0.002       0.002\n",
      "trade_type_last4_2.0          0.0018   1.09e-06   1653.222      0.000       0.002       0.002\n",
      "trade_type_last4_3.0          0.0018   9.83e-07   1832.946      0.000       0.002       0.002\n",
      "trade_type_last4_4.0          0.0018   8.81e-07   2045.795      0.000       0.002       0.002\n",
      "trade_type_last5_2.0          0.0018   1.09e-06   1654.229      0.000       0.002       0.002\n",
      "trade_type_last5_3.0          0.0018   9.83e-07   1831.707      0.000       0.002       0.002\n",
      "trade_type_last5_4.0          0.0018   8.81e-07   2046.230      0.000       0.002       0.002\n",
      "trade_type_last6_2.0          0.0018   1.09e-06   1655.600      0.000       0.002       0.002\n",
      "trade_type_last6_3.0          0.0018   9.83e-07   1831.369      0.000       0.002       0.002\n",
      "trade_type_last6_4.0          0.0018   8.81e-07   2046.125      0.000       0.002       0.002\n",
      "trade_type_last7_2.0          0.0018   1.09e-06   1657.417      0.000       0.002       0.002\n",
      "trade_type_last7_3.0          0.0018   9.82e-07   1832.847      0.000       0.002       0.002\n",
      "trade_type_last7_4.0          0.0018   8.81e-07   2047.248      0.000       0.002       0.002\n",
      "trade_type_last8_2.0          0.0018   1.09e-06   1659.721      0.000       0.002       0.002\n",
      "trade_type_last8_3.0          0.0018   9.81e-07   1834.338      0.000       0.002       0.002\n",
      "trade_type_last8_4.0          0.0018    8.8e-07   2049.171      0.000       0.002       0.002\n",
      "trade_type_last9_2.0          0.0018   1.09e-06   1662.411      0.000       0.002       0.002\n",
      "trade_type_last9_3.0          0.0018    9.8e-07   1837.817      0.000       0.002       0.002\n",
      "trade_type_last9_4.0          0.0018   8.79e-07   2051.475      0.000       0.002       0.002\n",
      "trade_type_last10_2.0         0.0018   1.08e-06   1671.373      0.000       0.002       0.002\n",
      "trade_type_last10_3.0         0.0018   9.77e-07   1845.132      0.000       0.002       0.002\n",
      "trade_type_last10_4.0         0.0018   8.76e-07   2058.292      0.000       0.002       0.002\n",
      "=============================================================================================\n"
     ]
    }
   ],
   "source": [
    "lmout_gamma = sm.GLM(y_train2,X_train2, family=sm.families.Gamma()).fit()\n",
    "print(lmout_gamma.summary())"
   ]
  },
  {
   "cell_type": "markdown",
   "metadata": {},
   "source": [
    "#### GLM model with Gaussian link function:"
   ]
  },
  {
   "cell_type": "code",
   "execution_count": 12,
   "metadata": {},
   "outputs": [
    {
     "name": "stdout",
     "output_type": "stream",
     "text": [
      "                 Generalized Linear Model Regression Results                  \n",
      "==============================================================================\n",
      "Dep. Variable:            trade_price   No. Observations:               631681\n",
      "Model:                            GLM   Df Residuals:                   631609\n",
      "Model Family:                Gaussian   Df Model:                           71\n",
      "Link Function:               identity   Scale:                  0.809409086271\n",
      "Method:                          IRLS   Log-Likelihood:            -8.2950e+05\n",
      "Date:                Thu, 03 May 2018   Deviance:                   5.1123e+05\n",
      "Time:                        20:58:53   Pearson chi2:                 5.11e+05\n",
      "No. Iterations:                     2                                         \n",
      "=============================================================================================\n",
      "                                coef    std err          z      P>|z|      [0.025      0.975]\n",
      "---------------------------------------------------------------------------------------------\n",
      "id                         1.768e-08   8.79e-09      2.012      0.044    4.54e-10    3.49e-08\n",
      "bond_id                    8.755e-09   6.83e-09      1.282      0.200   -4.63e-09    2.21e-08\n",
      "weight                        0.0096      0.001      8.518      0.000       0.007       0.012\n",
      "current_coupon                0.0039      0.001      4.751      0.000       0.002       0.005\n",
      "time_to_maturity              0.0018      0.000      9.496      0.000       0.001       0.002\n",
      "is_callable                9.312e-05      0.004      0.022      0.982      -0.008       0.008\n",
      "reporting_delay           -2.125e-08   9.77e-10    -21.749      0.000   -2.32e-08   -1.93e-08\n",
      "trade_size                -5.368e-08   1.67e-09    -32.108      0.000    -5.7e-08   -5.04e-08\n",
      "curve_based_price             0.4068      0.004    110.224      0.000       0.400       0.414\n",
      "received_time_diff_last1  -2.456e-07    1.8e-08    -13.678      0.000   -2.81e-07    -2.1e-07\n",
      "trade_price_last1             0.3923      0.001    310.873      0.000       0.390       0.395\n",
      "trade_size_last1           1.823e-08   1.75e-09     10.405      0.000    1.48e-08    2.17e-08\n",
      "curve_based_price_last1      -0.1020      0.005    -20.174      0.000      -0.112      -0.092\n",
      "received_time_diff_last2  -4.214e-08   1.21e-08     -3.476      0.001   -6.59e-08   -1.84e-08\n",
      "trade_price_last2             0.1040      0.001     76.786      0.000       0.101       0.107\n",
      "trade_size_last2          -3.609e-10   1.75e-09     -0.206      0.837    -3.8e-09    3.07e-09\n",
      "curve_based_price_last2      -0.0095      0.005     -1.896      0.058      -0.019       0.000\n",
      "received_time_diff_last3  -1.924e-08   1.22e-08     -1.575      0.115   -4.32e-08     4.7e-09\n",
      "trade_price_last3             0.0706      0.001     51.933      0.000       0.068       0.073\n",
      "trade_size_last3           7.162e-10   1.75e-09      0.408      0.683   -2.72e-09    4.15e-09\n",
      "curve_based_price_last3      -0.0245      0.005     -4.928      0.000      -0.034      -0.015\n",
      "received_time_diff_last4   4.238e-08   1.24e-08      3.421      0.001    1.81e-08    6.67e-08\n",
      "trade_price_last4             0.0585      0.001     43.001      0.000       0.056       0.061\n",
      "trade_size_last4           8.494e-10   1.75e-09      0.485      0.628   -2.59e-09    4.28e-09\n",
      "curve_based_price_last4      -0.0182      0.005     -3.671      0.000      -0.028      -0.008\n",
      "received_time_diff_last5  -3.064e-08   1.25e-08     -2.449      0.014   -5.52e-08   -6.12e-09\n",
      "trade_price_last5             0.0447      0.001     32.865      0.000       0.042       0.047\n",
      "trade_size_last5            9.03e-10   1.75e-09      0.515      0.606   -2.53e-09    4.34e-09\n",
      "curve_based_price_last5      -0.0219      0.005     -4.448      0.000      -0.032      -0.012\n",
      "received_time_diff_last6   9.288e-09   1.25e-08      0.742      0.458   -1.52e-08    3.38e-08\n",
      "trade_price_last6             0.0373      0.001     27.496      0.000       0.035       0.040\n",
      "trade_size_last6           1.576e-09   1.75e-09      0.900      0.368   -1.86e-09    5.01e-09\n",
      "curve_based_price_last6      -0.0210      0.005     -4.289      0.000      -0.031      -0.011\n",
      "received_time_diff_last7  -1.687e-08   1.25e-08     -1.350      0.177   -4.14e-08    7.63e-09\n",
      "trade_price_last7             0.0351      0.001     25.940      0.000       0.032       0.038\n",
      "trade_size_last7           7.119e-10   1.75e-09      0.406      0.684   -2.72e-09    4.14e-09\n",
      "curve_based_price_last7      -0.0133      0.005     -2.729      0.006      -0.023      -0.004\n",
      "received_time_diff_last8    2.72e-08   1.25e-08      2.172      0.030    2.66e-09    5.17e-08\n",
      "trade_price_last8             0.0270      0.001     20.050      0.000       0.024       0.030\n",
      "trade_size_last8           1.556e-09   1.75e-09      0.890      0.374   -1.87e-09    4.98e-09\n",
      "curve_based_price_last8      -0.0098      0.005     -2.021      0.043      -0.019      -0.000\n",
      "received_time_diff_last9  -9.197e-09   1.25e-08     -0.734      0.463   -3.38e-08    1.54e-08\n",
      "trade_price_last9             0.0434      0.001     32.342      0.000       0.041       0.046\n",
      "trade_size_last9           3.121e-09   1.75e-09      1.786      0.074   -3.04e-10    6.54e-09\n",
      "curve_based_price_last9      -0.0298      0.005     -6.188      0.000      -0.039      -0.020\n",
      "received_time_diff_last10  1.536e-08   8.91e-09      1.724      0.085    -2.1e-09    3.28e-08\n",
      "trade_price_last10            0.0409      0.001     32.972      0.000       0.038       0.043\n",
      "trade_size_last10          1.247e-09   1.67e-09      0.748      0.455   -2.02e-09    4.51e-09\n",
      "curve_based_price_last10     -0.0123      0.004     -3.489      0.000      -0.019      -0.005\n",
      "trade_type_2                 -0.5715      0.002   -235.985      0.000      -0.576      -0.567\n",
      "trade_type_3                  0.6674      0.002    321.025      0.000       0.663       0.671\n",
      "trade_type_4                 -0.0514      0.002    -25.560      0.000      -0.055      -0.047\n",
      "trade_type_last1_2            0.1196      0.003     47.313      0.000       0.115       0.125\n",
      "trade_type_last1_3           -0.1391      0.002    -61.924      0.000      -0.143      -0.135\n",
      "trade_type_last1_4            0.0640      0.002     31.626      0.000       0.060       0.068\n",
      "trade_type_last2_2.0          0.0928      0.003     36.711      0.000       0.088       0.098\n",
      "trade_type_last2_3.0         -0.0731      0.002    -32.409      0.000      -0.078      -0.069\n",
      "trade_type_last2_4.0          0.0248      0.002     12.283      0.000       0.021       0.029\n",
      "trade_type_last3_2.0          0.0723      0.003     28.574      0.000       0.067       0.077\n",
      "trade_type_last3_3.0         -0.0485      0.002    -21.462      0.000      -0.053      -0.044\n",
      "trade_type_last3_4.0          0.0207      0.002     10.257      0.000       0.017       0.025\n",
      "trade_type_last4_2.0          0.0624      0.003     24.668      0.000       0.057       0.067\n",
      "trade_type_last4_3.0         -0.0377      0.002    -16.665      0.000      -0.042      -0.033\n",
      "trade_type_last4_4.0          0.0198      0.002      9.790      0.000       0.016       0.024\n",
      "trade_type_last5_2.0          0.0518      0.003     20.452      0.000       0.047       0.057\n",
      "trade_type_last5_3.0         -0.0229      0.002    -10.107      0.000      -0.027      -0.018\n",
      "trade_type_last5_4.0          0.0156      0.002      7.726      0.000       0.012       0.020\n",
      "trade_type_last6_2.0          0.0432      0.003     17.085      0.000       0.038       0.048\n",
      "trade_type_last6_3.0         -0.0172      0.002     -7.599      0.000      -0.022      -0.013\n",
      "trade_type_last6_4.0          0.0185      0.002      9.143      0.000       0.015       0.022\n",
      "trade_type_last7_2.0          0.0385      0.003     15.239      0.000       0.034       0.043\n",
      "trade_type_last7_3.0         -0.0144      0.002     -6.355      0.000      -0.019      -0.010\n",
      "trade_type_last7_4.0          0.0203      0.002     10.078      0.000       0.016       0.024\n",
      "trade_type_last8_2.0          0.0364      0.003     14.410      0.000       0.031       0.041\n",
      "trade_type_last8_3.0         -0.0090      0.002     -3.988      0.000      -0.013      -0.005\n",
      "trade_type_last8_4.0          0.0171      0.002      8.492      0.000       0.013       0.021\n",
      "trade_type_last9_2.0          0.0481      0.003     19.082      0.000       0.043       0.053\n",
      "trade_type_last9_3.0         -0.0199      0.002     -8.823      0.000      -0.024      -0.015\n",
      "trade_type_last9_4.0          0.0163      0.002      8.108      0.000       0.012       0.020\n",
      "trade_type_last10_2.0         0.0444      0.003     17.716      0.000       0.039       0.049\n",
      "trade_type_last10_3.0        -0.0163      0.002     -7.255      0.000      -0.021      -0.012\n",
      "trade_type_last10_4.0         0.0164      0.002      8.173      0.000       0.012       0.020\n",
      "=============================================================================================\n"
     ]
    }
   ],
   "source": [
    "lmout_Gaussian = sm.GLM(y_train2,X_train2, family=sm.families.Gaussian()).fit()\n",
    "print(lmout_Gaussian.summary())"
   ]
  },
  {
   "cell_type": "code",
   "execution_count": 13,
   "metadata": {},
   "outputs": [
    {
     "data": {
      "text/html": [
       "<div>\n",
       "<style>\n",
       "    .dataframe thead tr:only-child th {\n",
       "        text-align: right;\n",
       "    }\n",
       "\n",
       "    .dataframe thead th {\n",
       "        text-align: left;\n",
       "    }\n",
       "\n",
       "    .dataframe tbody tr th {\n",
       "        vertical-align: top;\n",
       "    }\n",
       "</style>\n",
       "<table border=\"1\" class=\"dataframe\">\n",
       "  <thead>\n",
       "    <tr style=\"text-align: right;\">\n",
       "      <th></th>\n",
       "      <th>Test</th>\n",
       "      <th>Train</th>\n",
       "    </tr>\n",
       "    <tr>\n",
       "      <th>Link Function</th>\n",
       "      <th></th>\n",
       "      <th></th>\n",
       "    </tr>\n",
       "  </thead>\n",
       "  <tbody>\n",
       "    <tr>\n",
       "      <th>Gamma</th>\n",
       "      <td>19.754114</td>\n",
       "      <td>15.088251</td>\n",
       "    </tr>\n",
       "    <tr>\n",
       "      <th>Gaussian</th>\n",
       "      <td>1.392550</td>\n",
       "      <td>1.813348</td>\n",
       "    </tr>\n",
       "  </tbody>\n",
       "</table>\n",
       "</div>"
      ],
      "text/plain": [
       "                    Test      Train\n",
       "Link Function                      \n",
       "Gamma          19.754114  15.088251\n",
       "Gaussian        1.392550   1.813348"
      ]
     },
     "execution_count": 13,
     "metadata": {},
     "output_type": "execute_result"
    }
   ],
   "source": [
    "yhat_Gaussian_train=lmout_Gaussian.predict(X_train2)\n",
    "yhat_Gamma_train=lmout_gamma.predict(X_train2)\n",
    "\n",
    "yhat_Gaussian_test=lmout_Gaussian.predict(X_test2)\n",
    "yhat_Gamma_test=lmout_gamma.predict(X_test2)\n",
    "\n",
    "w_train2=X_train2[\"weight\"]\n",
    "w_test2=X_test2[\"weight\"]\n",
    "\n",
    "WEPS_Gaussian_train=WEPS(w_train2,yhat_Gaussian_train,y_train2)\n",
    "WEPS_Gamma_train=WEPS(w_train2,yhat_Gamma_train,y_train2)\n",
    "\n",
    "WEPS_Gaussian_test=WEPS(w_test2,yhat_Gaussian_test,y_test2)\n",
    "WEPS_Gamma_test=WEPS(w_test2,yhat_Gamma_test,y_test2)\n",
    "\n",
    "#Summary:\n",
    "d={\"Link Function\":[\"Gamma\",\"Gaussian\"],\"Train\":[WEPS_Gamma_train,WEPS_Gaussian_train],\n",
    "   \"Test\":[WEPS_Gamma_test,WEPS_Gaussian_test]}\n",
    "summary=pd.DataFrame(d)\n",
    "summary.set_index(\"Link Function\",inplace=True)\n",
    "summary"
   ]
  },
  {
   "cell_type": "markdown",
   "metadata": {},
   "source": [
    "The results summarized on the table above confirm that if we use the weighted Error in Prediction per Sample (WEPS) as a metric to convey the errors, GLM with the Gaussian Link function gives much better results than the one with the Gamma link function. This also implies that the weighted residual errors are normally distributed. We will investigate this further by making a normality plot for weighted residuals and will also use the shapiro normality test. "
   ]
  },
  {
   "cell_type": "code",
   "execution_count": 14,
   "metadata": {},
   "outputs": [
    {
     "data": {
      "image/png": "[encoded data removed]",
      "text/plain": [
       "<matplotlib.figure.Figure at 0x1c2590da58>"
      ]
     },
     "metadata": {},
     "output_type": "display_data"
    }
   ],
   "source": [
    "#We are using the test set here\n",
    "import matplotlib.pyplot as plt\n",
    "import pylab\n",
    "import scipy.stats as stats\n",
    "import matplotlib\n",
    "matplotlib.rcParams['figure.figsize'] = (15,10)\n",
    "weighted_residuals_Gaussian=(yhat_Gaussian_test-y_test2)*w_test2\n",
    "plt.subplot(1, 2 ,1)\n",
    "a=stats.probplot(weighted_residuals_Gaussian, dist=\"norm\", plot=pylab)\n",
    "mu=np.mean(weighted_residuals_Gaussian)\n",
    "sigma=np.std(weighted_residuals_Gaussian)\n",
    "norm_sample= np.random.normal(mu,sigma,size=10000) \n",
    "plt.subplot(1, 2,2)\n",
    "b=stats.probplot(norm_sample, dist=\"norm\", plot=pylab)\n",
    "\n",
    "plt.show()\n"
   ]
  },
  {
   "cell_type": "markdown",
   "metadata": {},
   "source": [
    "### Comments:\n",
    "#### Left Graph:Probability plot of our weighted residual errors using Gaussian Link function\n",
    "#### Right Graph: Probability plot of a sample of 1000 normaly distributed variable with the same sample mean and standard deviation as our Weighted residual errors.\n",
    "\n",
    "One can see that the the graph on the left has a much heavier tail than the normally distributed variable. We conclude that the distribution of  wieghted residual errors obtained from a GLM with gaussian link function have a much heavier tail than a normally distributed variable with same mu and sigma."
   ]
  },
  {
   "cell_type": "markdown",
   "metadata": {},
   "source": [
    "#### Normality test:"
   ]
  },
  {
   "cell_type": "code",
   "execution_count": 15,
   "metadata": {},
   "outputs": [
    {
     "data": {
      "text/plain": [
       "NormaltestResult(statistic=200555.13852592336, pvalue=0.0)"
      ]
     },
     "execution_count": 15,
     "metadata": {},
     "output_type": "execute_result"
    }
   ],
   "source": [
    "stats.mstats.normaltest(weighted_residuals_Gaussian)"
   ]
  },
  {
   "cell_type": "code",
   "execution_count": 16,
   "metadata": {},
   "outputs": [
    {
     "data": {
      "text/plain": [
       "NormaltestResult(statistic=2.4697317969042887, pvalue=0.2908737663748458)"
      ]
     },
     "execution_count": 16,
     "metadata": {},
     "output_type": "execute_result"
    }
   ],
   "source": [
    "stats.mstats.normaltest(norm_sample)"
   ]
  },
  {
   "cell_type": "markdown",
   "metadata": {},
   "source": [
    "The result of the qqplot is confirmed by the normality test. p-value is 0 so we reject the null hypothesis that states that the distribution of the weighted_residuals is gaussian."
   ]
  },
  {
   "cell_type": "markdown",
   "metadata": {},
   "source": [
    "#### Fitted_Values vs. Residuals:"
   ]
  },
  {
   "cell_type": "code",
   "execution_count": 17,
   "metadata": {},
   "outputs": [
    {
     "data": {
      "image/png": "[encoded data removed]",
      "text/plain": [
       "<matplotlib.figure.Figure at 0x1c2590d518>"
      ]
     },
     "metadata": {},
     "output_type": "display_data"
    }
   ],
   "source": [
    "plt.scatter(yhat_Gaussian_test,weighted_residuals_Gaussian)\n",
    "plt.title(\"Weighted Residuals vs. Fitted Values\")\n",
    "plt.xlabel(\"Fitted Values\")\n",
    "plt.ylabel(\"Weighted Residuals\")\n",
    "plt.show()"
   ]
  },
  {
   "cell_type": "markdown",
   "metadata": {},
   "source": [
    "From the plot above, there should be a concern about heteroskedasticity. Although it does not bias our coefficients, It alters the acuracy of our standard errors. We will explore this issue later."
   ]
  },
  {
   "cell_type": "markdown",
   "metadata": {},
   "source": [
    "### PCA Analysis:"
   ]
  },
  {
   "cell_type": "markdown",
   "metadata": {},
   "source": [
    "#### PCA based on linear Distances:"
   ]
  },
  {
   "cell_type": "code",
   "execution_count": 18,
   "metadata": {
    "collapsed": true
   },
   "outputs": [],
   "source": [
    "from sklearn import decomposition\n",
    "pca=sk.decomposition.PCA(whiten=True,svd_solver=\"randomized\")\n",
    "res_reg=pca.fit(X_train) "
   ]
  },
  {
   "cell_type": "code",
   "execution_count": 19,
   "metadata": {},
   "outputs": [
    {
     "name": "stdout",
     "output_type": "stream",
     "text": [
      "[ 0.209962  0.157069  0.135372  0.08018   0.066941  0.056999  0.050023\n",
      "  0.044022  0.039507  0.035869  0.033358  0.030851  0.029104  0.012915\n",
      "  0.008319  0.002846  0.001532  0.001262  0.001003  0.000734  0.000605\n",
      "  0.000534  0.000502  0.000491  0.        0.        0.        0.        0.\n",
      "  0.        0.        0.        0.        0.        0.        0.        0.\n",
      "  0.        0.        0.        0.        0.        0.        0.        0.\n",
      "  0.        0.        0.        0.        0.        0.        0.        0.\n",
      "  0.        0.        0.        0.        0.        0.        0.        0.\n",
      "  0.        0.        0.        0.        0.        0.        0.        0.\n",
      "  0.        0.        0.        0.        0.        0.        0.        0.\n",
      "  0.        0.        0.        0.        0.      ]\n"
     ]
    }
   ],
   "source": [
    "np.set_printoptions(precision=6, threshold=None, edgeitems=None, linewidth=None,suppress=True)\n",
    "print(np.array(res_reg.explained_variance_ratio_))"
   ]
  },
  {
   "cell_type": "markdown",
   "metadata": {},
   "source": [
    "Comment:\n",
    "according to PCA, We need 22 prin comp to capture almost 100% of the variability. "
   ]
  },
  {
   "cell_type": "code",
   "execution_count": 20,
   "metadata": {
    "collapsed": true
   },
   "outputs": [],
   "source": [
    "#Unfortunately Kernel PCA kills this session! My RAM is not as powerful to run a poly PCA"
   ]
  },
  {
   "cell_type": "markdown",
   "metadata": {},
   "source": [
    "#### Exploring variable importance using Random forest:\n",
    "This is on a sample of first 1000 rows just to make sure that it works"
   ]
  },
  {
   "cell_type": "code",
   "execution_count": 21,
   "metadata": {
    "collapsed": true
   },
   "outputs": [],
   "source": [
    "import rpy2\n",
    "%load_ext rpy2.ipython\n",
    "yy=np.asarray(y_train)\n",
    "yy=yy.astype(float)\n",
    "X_train=X_train.astype(float)\n",
    "x_sub=X_train[0:1000]\n",
    "yy_sub=yy[0:1000]"
   ]
  },
  {
   "cell_type": "code",
   "execution_count": 22,
   "metadata": {
    "collapsed": true
   },
   "outputs": [],
   "source": [
    "%%capture\n",
    "%%R -i X_train -i x_sub -i yy -i yy_sub \n",
    "library(randomForest)\n",
    "fitrfR = randomForest(x_sub,yy_sub,nodesize=10,ntree=200)\n",
    "fitrfR"
   ]
  },
  {
   "cell_type": "code",
   "execution_count": 23,
   "metadata": {},
   "outputs": [
    {
     "data": {
      "image/png": "[encoded data removed]"
     },
     "metadata": {},
     "output_type": "display_data"
    }
   ],
   "source": [
    "%%R\n",
    "varImpPlot(fitrfR)"
   ]
  },
  {
   "cell_type": "markdown",
   "metadata": {},
   "source": [
    "#### Exploring data using Lasso:"
   ]
  },
  {
   "cell_type": "code",
   "execution_count": 24,
   "metadata": {
    "collapsed": true
   },
   "outputs": [],
   "source": [
    "from sklearn.linear_model import LassoCV"
   ]
  },
  {
   "cell_type": "markdown",
   "metadata": {},
   "source": [
    "## Use X_train to fit the model"
   ]
  },
  {
   "cell_type": "code",
   "execution_count": 25,
   "metadata": {},
   "outputs": [
    {
     "name": "stderr",
     "output_type": "stream",
     "text": [
      "/Users/Alex/anaconda3/lib/python3.6/site-packages/sklearn/linear_model/coordinate_descent.py:491: ConvergenceWarning: Objective did not converge. You might want to increase the number of iterations. Fitting data with very small alpha may cause precision problems.\n",
      "  ConvergenceWarning)\n"
     ]
    }
   ],
   "source": [
    "lasso_out=LassoCV(normalize=True, cv=5,  random_state=1).fit(X_train,y_train)"
   ]
  },
  {
   "cell_type": "code",
   "execution_count": 26,
   "metadata": {},
   "outputs": [
    {
     "data": {
      "text/plain": [
       "['time_to_maturity',\n",
       " 'reporting_delay',\n",
       " 'trade_size',\n",
       " 'curve_based_price',\n",
       " 'received_time_diff_last1',\n",
       " 'trade_price_last1',\n",
       " 'trade_size_last1',\n",
       " 'trade_price_last2',\n",
       " 'trade_price_last3',\n",
       " 'trade_price_last4',\n",
       " 'trade_price_last5',\n",
       " 'trade_price_last6',\n",
       " 'trade_price_last7',\n",
       " 'trade_price_last8',\n",
       " 'trade_price_last9',\n",
       " 'trade_price_last10',\n",
       " 'trade_type_2',\n",
       " 'trade_type_3',\n",
       " 'trade_type_last1_2',\n",
       " 'trade_type_last1_3',\n",
       " 'trade_type_last2_2.0',\n",
       " 'trade_type_last2_3.0',\n",
       " 'trade_type_last3_2.0',\n",
       " 'trade_type_last3_3.0',\n",
       " 'trade_type_last4_2.0',\n",
       " 'trade_type_last4_3.0',\n",
       " 'trade_type_last5_2.0',\n",
       " 'trade_type_last5_3.0',\n",
       " 'trade_type_last6_2.0',\n",
       " 'trade_type_last6_3.0',\n",
       " 'trade_type_last7_2.0',\n",
       " 'trade_type_last7_3.0',\n",
       " 'trade_type_last8_2.0',\n",
       " 'trade_type_last8_3.0',\n",
       " 'trade_type_last9_2.0',\n",
       " 'trade_type_last9_3.0',\n",
       " 'trade_type_last10_2.0',\n",
       " 'trade_type_last10_3.0']"
      ]
     },
     "execution_count": 26,
     "metadata": {},
     "output_type": "execute_result"
    }
   ],
   "source": [
    "from itertools import compress\n",
    "all_coef=list(X_train)\n",
    "fil = (lasso_out.coef_!=0).tolist()\n",
    "list(compress(all_coef, fil))"
   ]
  },
  {
   "cell_type": "markdown",
   "metadata": {},
   "source": [
    "#### Comment:\n",
    "LassoCV uses 38 covariates\n",
    "Regression Random forest importance plot indicates that 21 covariates are important\n",
    "PCA returns 22 Principal components necessary to capture 99.9% of the variability"
   ]
  },
  {
   "cell_type": "code",
   "execution_count": 27,
   "metadata": {
    "collapsed": true
   },
   "outputs": [],
   "source": [
    "yhat_train=lasso_out.predict(X_train)\n",
    "yhat_test=lasso_out.predict(X_test1)"
   ]
  },
  {
   "cell_type": "markdown",
   "metadata": {
    "collapsed": true
   },
   "source": [
    "#### WEPS analysis:"
   ]
  },
  {
   "cell_type": "code",
   "execution_count": 28,
   "metadata": {},
   "outputs": [
    {
     "data": {
      "text/html": [
       "<div>\n",
       "<style>\n",
       "    .dataframe thead tr:only-child th {\n",
       "        text-align: right;\n",
       "    }\n",
       "\n",
       "    .dataframe thead th {\n",
       "        text-align: left;\n",
       "    }\n",
       "\n",
       "    .dataframe tbody tr th {\n",
       "        vertical-align: top;\n",
       "    }\n",
       "</style>\n",
       "<table border=\"1\" class=\"dataframe\">\n",
       "  <thead>\n",
       "    <tr style=\"text-align: right;\">\n",
       "      <th></th>\n",
       "      <th>test</th>\n",
       "      <th>train</th>\n",
       "    </tr>\n",
       "    <tr>\n",
       "      <th>Method</th>\n",
       "      <th></th>\n",
       "      <th></th>\n",
       "    </tr>\n",
       "  </thead>\n",
       "  <tbody>\n",
       "    <tr>\n",
       "      <th>Lasso</th>\n",
       "      <td>1.419194</td>\n",
       "      <td>1.977281</td>\n",
       "    </tr>\n",
       "  </tbody>\n",
       "</table>\n",
       "</div>"
      ],
      "text/plain": [
       "            test     train\n",
       "Method                    \n",
       "Lasso   1.419194  1.977281"
      ]
     },
     "execution_count": 28,
     "metadata": {},
     "output_type": "execute_result"
    }
   ],
   "source": [
    "WEPS_lasso_train=WEPS(w_train,yhat_train,y_train)\n",
    "WEPS_lasso_test=WEPS(w_test,yhat_test,y_test1)\n",
    "#Summary:\n",
    "d={\"Method\":[\"Lasso\"],\"train\":[WEPS_lasso_train],\"test\":[WEPS_lasso_test]}\n",
    "summary=pd.DataFrame(d)\n",
    "summary.set_index(\"Method\",inplace=True)\n",
    "summary"
   ]
  },
  {
   "cell_type": "markdown",
   "metadata": {},
   "source": [
    "## Use `X_train` and `X_test1` to fit model"
   ]
  },
  {
   "cell_type": "code",
   "execution_count": 29,
   "metadata": {},
   "outputs": [
    {
     "name": "stderr",
     "output_type": "stream",
     "text": [
      "/Users/Alex/anaconda3/lib/python3.6/site-packages/sklearn/linear_model/coordinate_descent.py:491: ConvergenceWarning: Objective did not converge. You might want to increase the number of iterations. Fitting data with very small alpha may cause precision problems.\n",
      "  ConvergenceWarning)\n"
     ]
    }
   ],
   "source": [
    "lasso_out=LassoCV(normalize=True, cv=5,  random_state=1).fit(X_train2,y_train2)"
   ]
  },
  {
   "cell_type": "code",
   "execution_count": 30,
   "metadata": {},
   "outputs": [
    {
     "data": {
      "text/plain": [
       "['time_to_maturity',\n",
       " 'reporting_delay',\n",
       " 'trade_size',\n",
       " 'curve_based_price',\n",
       " 'received_time_diff_last1',\n",
       " 'trade_price_last1',\n",
       " 'trade_price_last2',\n",
       " 'trade_price_last3',\n",
       " 'trade_price_last4',\n",
       " 'trade_price_last5',\n",
       " 'trade_price_last6',\n",
       " 'trade_price_last7',\n",
       " 'trade_price_last8',\n",
       " 'trade_price_last9',\n",
       " 'trade_price_last10',\n",
       " 'trade_type_2',\n",
       " 'trade_type_3',\n",
       " 'trade_type_last1_2',\n",
       " 'trade_type_last1_3',\n",
       " 'trade_type_last2_2.0',\n",
       " 'trade_type_last2_3.0',\n",
       " 'trade_type_last3_2.0',\n",
       " 'trade_type_last3_3.0',\n",
       " 'trade_type_last4_2.0',\n",
       " 'trade_type_last4_3.0',\n",
       " 'trade_type_last5_2.0',\n",
       " 'trade_type_last5_3.0',\n",
       " 'trade_type_last6_2.0',\n",
       " 'trade_type_last6_3.0',\n",
       " 'trade_type_last7_2.0',\n",
       " 'trade_type_last7_3.0',\n",
       " 'trade_type_last8_2.0',\n",
       " 'trade_type_last8_3.0',\n",
       " 'trade_type_last9_2.0',\n",
       " 'trade_type_last9_3.0',\n",
       " 'trade_type_last10_2.0',\n",
       " 'trade_type_last10_3.0']"
      ]
     },
     "execution_count": 30,
     "metadata": {},
     "output_type": "execute_result"
    }
   ],
   "source": [
    "from itertools import compress\n",
    "all_coef=list(X_train)\n",
    "fil = (lasso_out.coef_!=0).tolist()\n",
    "list(compress(all_coef, fil))"
   ]
  },
  {
   "cell_type": "code",
   "execution_count": 31,
   "metadata": {
    "collapsed": true
   },
   "outputs": [],
   "source": [
    "# Predicting\n",
    "yhat_train=lasso_out.predict(X_train2)\n",
    "yhat_test=lasso_out.predict(X_test2)"
   ]
  },
  {
   "cell_type": "code",
   "execution_count": 32,
   "metadata": {},
   "outputs": [
    {
     "data": {
      "text/html": [
       "<div>\n",
       "<style>\n",
       "    .dataframe thead tr:only-child th {\n",
       "        text-align: right;\n",
       "    }\n",
       "\n",
       "    .dataframe thead th {\n",
       "        text-align: left;\n",
       "    }\n",
       "\n",
       "    .dataframe tbody tr th {\n",
       "        vertical-align: top;\n",
       "    }\n",
       "</style>\n",
       "<table border=\"1\" class=\"dataframe\">\n",
       "  <thead>\n",
       "    <tr style=\"text-align: right;\">\n",
       "      <th></th>\n",
       "      <th>test</th>\n",
       "      <th>train</th>\n",
       "    </tr>\n",
       "    <tr>\n",
       "      <th>Method</th>\n",
       "      <th></th>\n",
       "      <th></th>\n",
       "    </tr>\n",
       "  </thead>\n",
       "  <tbody>\n",
       "    <tr>\n",
       "      <th>Lasso</th>\n",
       "      <td>1.441694</td>\n",
       "      <td>1.881139</td>\n",
       "    </tr>\n",
       "  </tbody>\n",
       "</table>\n",
       "</div>"
      ],
      "text/plain": [
       "            test     train\n",
       "Method                    \n",
       "Lasso   1.441694  1.881139"
      ]
     },
     "execution_count": 32,
     "metadata": {},
     "output_type": "execute_result"
    }
   ],
   "source": [
    "WEPS_lasso_train=WEPS(w_train2,yhat_train,y_train2)\n",
    "WEPS_lasso_test=WEPS(w_test2,yhat_test,y_test2)\n",
    "#Summary:\n",
    "d={\"Method\":[\"Lasso\"],\"train\":[WEPS_lasso_train],\"test\":[WEPS_lasso_test]}\n",
    "summary=pd.DataFrame(d)\n",
    "summary.set_index(\"Method\",inplace=True)\n",
    "summary"
   ]
  },
  {
   "cell_type": "markdown",
   "metadata": {},
   "source": [
    "# Boosted Trees"
   ]
  },
  {
   "cell_type": "code",
   "execution_count": 33,
   "metadata": {
    "collapsed": true
   },
   "outputs": [],
   "source": [
    "import xgboost as xgb"
   ]
  },
  {
   "cell_type": "code",
   "execution_count": 63,
   "metadata": {
    "collapsed": true
   },
   "outputs": [],
   "source": [
    "#xgboost uses its own matrix format (in all languages) so we need to cast our data.\n",
    "#This can be done directly from a text file with xgb.DMatrix\n",
    "#Here we will dump the values from the pandas objects\n",
    "train_dm = xgb.DMatrix(X_train.values, y_train)\n",
    "test_dm = xgb.DMatrix(X_test1.values, y_test1)\n",
    "train_dm2=xgb.DMatrix(X_train2.values, y_train2)\n",
    "test_dm2 = xgb.DMatrix(X_test2.values, y_test2)"
   ]
  },
  {
   "cell_type": "code",
   "execution_count": 41,
   "metadata": {},
   "outputs": [],
   "source": [
    "#Parameters\n",
    "param = {'eval_metric':'rmse',\n",
    "         'eta':0.3,\n",
    "         'seed':1,\n",
    "         'max_depth':6,\n",
    "         \n",
    "        }\n",
    "\n",
    "\n",
    "cvres = xgb.cv(param, train_dm, 50)"
   ]
  },
  {
   "cell_type": "markdown",
   "metadata": {},
   "source": [
    "## Use X_train to fit the model"
   ]
  },
  {
   "cell_type": "code",
   "execution_count": 59,
   "metadata": {},
   "outputs": [],
   "source": [
    "best_round=np.argmin(cvres[\"test-rmse-mean\"])\n",
    "bst = xgb.train(param, train_dm, best_round)"
   ]
  },
  {
   "cell_type": "code",
   "execution_count": 62,
   "metadata": {},
   "outputs": [
    {
     "data": {
      "text/html": [
       "<div>\n",
       "<style>\n",
       "    .dataframe thead tr:only-child th {\n",
       "        text-align: right;\n",
       "    }\n",
       "\n",
       "    .dataframe thead th {\n",
       "        text-align: left;\n",
       "    }\n",
       "\n",
       "    .dataframe tbody tr th {\n",
       "        vertical-align: top;\n",
       "    }\n",
       "</style>\n",
       "<table border=\"1\" class=\"dataframe\">\n",
       "  <thead>\n",
       "    <tr style=\"text-align: right;\">\n",
       "      <th></th>\n",
       "      <th>test</th>\n",
       "      <th>train</th>\n",
       "    </tr>\n",
       "    <tr>\n",
       "      <th>Method</th>\n",
       "      <th></th>\n",
       "      <th></th>\n",
       "    </tr>\n",
       "  </thead>\n",
       "  <tbody>\n",
       "    <tr>\n",
       "      <th>Lasso</th>\n",
       "      <td>1.326801</td>\n",
       "      <td>1.36586</td>\n",
       "    </tr>\n",
       "  </tbody>\n",
       "</table>\n",
       "</div>"
      ],
      "text/plain": [
       "            test    train\n",
       "Method                   \n",
       "Lasso   1.326801  1.36586"
      ]
     },
     "execution_count": 62,
     "metadata": {},
     "output_type": "execute_result"
    }
   ],
   "source": [
    "yhat_train=bst.predict(train_dm)\n",
    "yhat_test=bst.predict(test_dm)\n",
    "\n",
    "\n",
    "WEPS_lasso_train=WEPS(w_train,yhat_train,y_train)\n",
    "WEPS_lasso_test=WEPS(w_test,yhat_test,y_test1)\n",
    "#Summary:\n",
    "d={\"Method\":[\"bst\"],\"train\":[WEPS_lasso_train],\"test\":[WEPS_lasso_test]}\n",
    "summary=pd.DataFrame(d)\n",
    "summary.set_index(\"Method\",inplace=True)\n",
    "summary"
   ]
  },
  {
   "cell_type": "markdown",
   "metadata": {},
   "source": [
    "## Use `X_train` and `X_test1` to fit model"
   ]
  },
  {
   "cell_type": "code",
   "execution_count": 64,
   "metadata": {
    "collapsed": true
   },
   "outputs": [],
   "source": [
    "#Parameters\n",
    "param = {'eval_metric':'rmse',\n",
    "         'eta':0.3,\n",
    "         'seed':1,\n",
    "         'max_depth':6,\n",
    "         \n",
    "        }\n",
    "\n",
    "\n",
    "cvres = xgb.cv(param, train_dm2, 50)"
   ]
  },
  {
   "cell_type": "code",
   "execution_count": 65,
   "metadata": {
    "collapsed": true
   },
   "outputs": [],
   "source": [
    "best_round=np.argmin(cvres[\"test-rmse-mean\"])\n",
    "bst = xgb.train(param, train_dm2, best_round)"
   ]
  },
  {
   "cell_type": "code",
   "execution_count": 66,
   "metadata": {},
   "outputs": [
    {
     "data": {
      "text/html": [
       "<div>\n",
       "<style>\n",
       "    .dataframe thead tr:only-child th {\n",
       "        text-align: right;\n",
       "    }\n",
       "\n",
       "    .dataframe thead th {\n",
       "        text-align: left;\n",
       "    }\n",
       "\n",
       "    .dataframe tbody tr th {\n",
       "        vertical-align: top;\n",
       "    }\n",
       "</style>\n",
       "<table border=\"1\" class=\"dataframe\">\n",
       "  <thead>\n",
       "    <tr style=\"text-align: right;\">\n",
       "      <th></th>\n",
       "      <th>test</th>\n",
       "      <th>train</th>\n",
       "    </tr>\n",
       "    <tr>\n",
       "      <th>Method</th>\n",
       "      <th></th>\n",
       "      <th></th>\n",
       "    </tr>\n",
       "  </thead>\n",
       "  <tbody>\n",
       "    <tr>\n",
       "      <th>bst</th>\n",
       "      <td>1.314589</td>\n",
       "      <td>1.36146</td>\n",
       "    </tr>\n",
       "  </tbody>\n",
       "</table>\n",
       "</div>"
      ],
      "text/plain": [
       "            test    train\n",
       "Method                   \n",
       "bst     1.314589  1.36146"
      ]
     },
     "execution_count": 66,
     "metadata": {},
     "output_type": "execute_result"
    }
   ],
   "source": [
    "yhat_train=bst.predict(train_dm2)\n",
    "yhat_test=bst.predict(test_dm2)\n",
    "\n",
    "\n",
    "WEPS_lasso_train=WEPS(w_train2,yhat_train,y_train2)\n",
    "WEPS_lasso_test=WEPS(w_test2,yhat_test,y_test2)\n",
    "#Summary:\n",
    "d={\"Method\":[\"bst\"],\"train\":[WEPS_lasso_train],\"test\":[WEPS_lasso_test]}\n",
    "summary=pd.DataFrame(d)\n",
    "summary.set_index(\"Method\",inplace=True)\n",
    "summary"
   ]
  },
  {
   "cell_type": "code",
   "execution_count": null,
   "metadata": {
    "collapsed": true
   },
   "outputs": [],
   "source": []
  },
  {
   "cell_type": "code",
   "execution_count": null,
   "metadata": {
    "collapsed": true
   },
   "outputs": [],
   "source": []
  }
 ],
 "metadata": {
  "kernelspec": {
   "display_name": "Python 3",
   "language": "python",
   "name": "python3"
  },
  "language_info": {
   "codemirror_mode": {
    "name": "ipython",
    "version": 3
   },
   "file_extension": ".py",
   "mimetype": "text/x-python",
   "name": "python",
   "nbconvert_exporter": "python",
   "pygments_lexer": "ipython3",
   "version": "3.6.3"
  }
 },
 "nbformat": 4,
 "nbformat_minor": 2
}
